{
 "cells": [
  {
   "cell_type": "markdown",
   "metadata": {},
   "source": [
    "### Exercise 4.2"
   ]
  },
  {
   "cell_type": "markdown",
   "metadata": {},
   "source": [
    "Let $W(t), 0\\leq t\\leq T$, be a Brownian motion, and let $\\mathcal{F}(t), 0\\leq t\\leq T$, be an associated filtration.  Let $\\Delta(t), 0\\leq t\\leq T$, be a *nonrandom* simple process (i.e., there is a partition $\\Pi=\\{t_0,t_1,\\dots,t_n\\}$ of $[0,T]$ such that for $j, \\Delta(t_j)$ is a nonramdom quantity and $\\Delta(t)=\\Delta(t_j)$ is constant in $t$ on the subinterval $[t_j, t_{j+1}))$.  For $t\\in[t_k,t_{k+1}]$, define the stochastic integral\n",
    "\\begin{equation}\n",
    "I(t)=\\sum_{j=0}^{k-1}\\Delta(t_j)[W(t_{j+1})-W(t_j)]+\\Delta(t_k)[W(t)-W(t_k)].\n",
    "\\end{equation}"
   ]
  },
  {
   "cell_type": "markdown",
   "metadata": {},
   "source": [
    "### Exercise 4.2.1"
   ]
  },
  {
   "cell_type": "markdown",
   "metadata": {},
   "source": [
    "Show that whenever $0\\leq s<t\\leq T$, the increment $I(t)-I(s)$ is independent on $\\mathcal{F}(s)$. (Simplification: If $s$ is between two partition points, we can always insert $s$ as an extra partition point.  Then we can relabel the partition points so that they are still called $t_0,t_1,\\dots,t_n$, but with a larger value of $n$ and now with $s=t_k$ for some value of $k$.  Of course, we must set $\\Delta(s)=\\Delta(t_{k-1})$ so that $\\Delta$ takes the same value of the interval $[s,t_{k+1})$ as on the interval $[t_{k-1},s)$.  Similarly, we can insert $t$ as an extra partition point if it is not already one.  Consequently, to show that $I(t)-I(s)$ is independent of $\\mathcal{F}(s)$ for all $0\\leq s<t\\leq T$, it suffices to show that $I(t_k)-I(t_l)$ is independent of $\\mathcal{F}(t_l)$ whenever $t_k$ and $t_l$ are two partition points with $t_l<t_k$.  This is all you need to do.)"
   ]
  },
  {
   "cell_type": "markdown",
   "metadata": {},
   "source": [
    "### Solution 4.2.1"
   ]
  },
  {
   "cell_type": "markdown",
   "metadata": {},
   "source": [
    "Without loss of generality, we can assume that $s=t_l$ and $t=t_k$ are partition points, with $s<t$.  Then\n",
    "\\begin{align}\n",
    "I(t_k)-I(t_l)&=\\sum_{j=0}^{l-1}\\Delta(t_j)[W(t_{j+1})-W(t_j)]-\\sum_{j=0}^{k-1}\\Delta(t_j)[W(t_{j+1})-W(t_j)]\\\\\n",
    "&=\\sum_{j=l}^{k-1}\\Delta(t_j)[W(t_{j+1})-W(t_j)].\n",
    "\\end{align}"
   ]
  },
  {
   "cell_type": "markdown",
   "metadata": {},
   "source": [
    "By definition of Brownian motion, each of the increments in the sum is independent and normally distributed with mean $0$, and variances given by $\\Delta^2(t_l)(t_{l+1}-t_{l}),\\dots,\\Delta^2(t_{k-1})(t_{k}-t_{k-1})$.  This implies that\n",
    "\\begin{equation}\n",
    "I(t_{k})-I(t_{l})\\sim N\\left(0,\\sum_{j=l}^{k-1}\\Delta^2(t_j)[t_{j+1}-t_{j}]\\right).\n",
    "\\end{equation}"
   ]
  },
  {
   "cell_type": "markdown",
   "metadata": {},
   "source": [
    "In particular, from the distribution of the random variable $I(t_{k})-I(t_{l})$ we can directly see that it is independent of $\\mathcal{F}(t_l)$.  $\\square$"
   ]
  },
  {
   "cell_type": "markdown",
   "metadata": {},
   "source": [
    "### Exercise 4.2.2"
   ]
  },
  {
   "cell_type": "markdown",
   "metadata": {},
   "source": [
    "Show that whenever $0\\leq s<t\\leq T$, the increment $I(t)-I(s)$ is a normally distributed random variable with mean zero and variance $\\int_{s}^{t}\\Delta^2(u)du$."
   ]
  },
  {
   "cell_type": "markdown",
   "metadata": {},
   "source": [
    "### Solution 4.2.2"
   ]
  },
  {
   "cell_type": "markdown",
   "metadata": {},
   "source": [
    "As we have seen in the previous problem, we have that\n",
    "\\begin{equation}\n",
    "I(t_{k})-I(t_{l})\\sim N\\left(0,\\sum_{j=l}^{k-1}\\Delta^2(t_j)[t_{j+1}-t_{j}]\\right).\n",
    "\\end{equation}\n",
    "In other words, $I(t_{k})-I(t_{l})$ is a normally distributed random variable with mean zero and variance $\\sum_{j=l}^{k-1}\\Delta^2(t_j)[t_{j+1}-t_{j}]:=\\int_{s}^{t}\\Delta^2(u)du$. $\\square$"
   ]
  },
  {
   "cell_type": "markdown",
   "metadata": {},
   "source": [
    "### Exercise 4.2.3"
   ]
  },
  {
   "cell_type": "markdown",
   "metadata": {},
   "source": [
    "Use (i) and (ii) to show that $I(t), 0\\leq t\\leq T$, is a martingale."
   ]
  },
  {
   "cell_type": "markdown",
   "metadata": {},
   "source": [
    "### Solution 4.2.3"
   ]
  },
  {
   "cell_type": "markdown",
   "metadata": {},
   "source": [
    "We show this with a calculation.\n",
    "\\begin{align}\n",
    "\\mathbb{E}[I(t)\\mid\\mathcal{F}(s)]&=\\mathbb{E}[I(t)-I(s)+I(s)\\mid\\mathcal{F}(s)]\\\\\n",
    "&=\\mathbb{E}[I(t)-I(s)\\mid\\mathcal{F}(s)]+\\mathbb{E}[I(s)\\mid\\mathcal{F}(s)]\\\\\n",
    "&=\\mathbb{E}[I(t)-I(s)]+I(s)\\\\\n",
    "&=0+I(s)=I(s). \\square\n",
    "\\end{align}"
   ]
  },
  {
   "cell_type": "markdown",
   "metadata": {},
   "source": [
    "### Exercise 4.2.4"
   ]
  },
  {
   "cell_type": "markdown",
   "metadata": {},
   "source": [
    "Show that $I^2(t)-\\int_{0}^{t}\\Delta^2(u)du, 0\\leq t\\leq T$, is a martingale."
   ]
  },
  {
   "cell_type": "markdown",
   "metadata": {},
   "source": [
    "### Solution 4.2.4"
   ]
  },
  {
   "cell_type": "markdown",
   "metadata": {},
   "source": [
    "First, recall that we can assume without loss of generality that $s=t_l$ and $t=t_k$ are partition points, with $s<t$.  We will use this fact later."
   ]
  },
  {
   "cell_type": "markdown",
   "metadata": {},
   "source": [
    "We begin by rewriting\n",
    "\\begin{align}\n",
    "I^2(t)&=I^2(t)+(I(t)-I(s))^2-I^2(t)+2I(t)I(s)-I^2(s)\\\\\n",
    "&=(I(t)-I(s))^2+2I(t)I(s)-I^2(s).\n",
    "\\end{align}"
   ]
  },
  {
   "cell_type": "markdown",
   "metadata": {},
   "source": [
    "Now we compute\n",
    "\\begin{equation}\n",
    "\\mathbb{E}[(I(t)-I(s))^2+2I(t)I(s)-I^2(s)|\\mathcal{F}(s)]=\\mathbb{E}[(I(t)-I(s))^2|\\mathcal{F}(s)]+2I(s)\\mathbb{E}[I(t)|\\mathcal{F}(s)]-I^2(s).\n",
    "\\end{equation}\n",
    "We now tackle the two conditional expectation values of the right-hand side individually."
   ]
  },
  {
   "cell_type": "markdown",
   "metadata": {},
   "source": [
    "By part (i), the increment $I(t)-I(s)$ is independent of $\\mathcal{F}(s)$, and hence so is  $(I(t)-I(s))^2$.  Then, by Theorem $2.3.2$(iv) (Independence), the conditional expectation value becomes an ordinary expectation value, i.e.\n",
    "\\begin{equation}\n",
    "\\mathbb{E}[(I(t)-I(s))^2|\\mathcal{F}(s)]=\\mathbb{E}[(I(t)-I(s))^2].\n",
    "\\end{equation}\n",
    "Note that the right-hand side is simply equal to the variance of $I(t)-I(s)$, i.e.,\n",
    "\\begin{equation}\n",
    "\\text{Var}[I(t)-I(s)]=\\mathbb{E}[(I(t)-I(s))^2]-\\underbrace{(\\mathbb{E}[I(t)-I(s)])^2}_{=0}.\n",
    "\\end{equation}\n",
    "We know what this is.  By part (ii), $I(t)-I(s)\\sim N\\left(0, \\int_{s}^{t}\\Delta^2(u)du\\right)$, and hence\n",
    "\\begin{equation}\n",
    "\\mathbb{E}[(I(t)-I(s))^2]=\\int_{s}^{t}\\Delta^2(u)du.\n",
    "\\end{equation}"
   ]
  },
  {
   "cell_type": "markdown",
   "metadata": {},
   "source": [
    "For the second term, we use the fact that $I(t)$ is a martingale, which we proved in part (iii) (alternatively, this is also the result of, for example, Theorem $4.2.1$ and Theorem $4.3.1$ (iv)), to write\n",
    "\\begin{equation}\n",
    "2I(s)\\underbrace{\\mathbb{E}[I(t)|\\mathcal{F}(s)]}_{=I(s)}=2I^2(s).\n",
    "\\end{equation}"
   ]
  },
  {
   "cell_type": "markdown",
   "metadata": {},
   "source": [
    "Putting this all together, we get\n",
    "\\begin{align}\n",
    "\\mathbb{E}[I^2(t)|\\mathcal{F}(s)]&=\\mathbb{E}[(I(t)-I(s))^2+2I(t)I(s)-I^2(s)|\\mathcal{F}(s)]\\\\\n",
    "&=\\int_{s}^{t}\\Delta^2(u)du+2I^2(s)-I^2(s)\\\\\n",
    "&=\\int_{s}^{t}\\Delta^2(u)du+I^2(s).\n",
    "\\end{align}"
   ]
  },
  {
   "cell_type": "markdown",
   "metadata": {},
   "source": [
    "We are almost finished.  We quickly point out that because $\\int_{0}^{t}\\Delta^2(u)du$ is in fact nonrandom (this was by assumption in the problem statement), then\n",
    "\\begin{equation}\n",
    "\\mathbb{E}\\left[\\int_{0}^{t}\\Delta^2(u)du \\Bigg\\vert \\mathcal{F}(s)\\right]=\\int_{0}^{t}\\Delta^2(u)du.\n",
    "\\end{equation}"
   ]
  },
  {
   "cell_type": "markdown",
   "metadata": {},
   "source": [
    "We can now put everything together to get the desired result.\n",
    "\\begin{align}\n",
    "\\mathbb{E}\\left[I^2(t)-I^2(t)-\\int_{0}^{t}\\Delta^2(u)du \\Bigg|\\mathcal{F}(s)\\right]&=\\int_{s}^{t}\\Delta^2(u)du+I^2(s)-\\int_{0}^{t}\\Delta^2(u)du\\\\\n",
    "&=I^2(s)-\\int_{0}^{s}\\Delta^2(u)du. \\square\n",
    "\\end{align}"
   ]
  }
 ],
 "metadata": {
  "kernelspec": {
   "display_name": "Python 3",
   "language": "python",
   "name": "python3"
  },
  "language_info": {
   "codemirror_mode": {
    "name": "ipython",
    "version": 3
   },
   "file_extension": ".py",
   "mimetype": "text/x-python",
   "name": "python",
   "nbconvert_exporter": "python",
   "pygments_lexer": "ipython3",
   "version": "3.7.6"
  }
 },
 "nbformat": 4,
 "nbformat_minor": 4
}
