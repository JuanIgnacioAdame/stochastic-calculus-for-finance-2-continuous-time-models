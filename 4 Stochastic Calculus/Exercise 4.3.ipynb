{
 "cells": [
  {
   "cell_type": "markdown",
   "metadata": {},
   "source": [
    "### Exercise 4.3"
   ]
  },
  {
   "cell_type": "markdown",
   "metadata": {},
   "source": [
    "We now consider a case in which $\\Delta(t)$ in Exercise 4.2 is simple but random.  In particular, let $t_0=0, t_1=s$, and $t_2=t$, and let $\\Delta(0)$ be nonrandom and $\\Delta(s)=W(s)$.  Which of the following assertions is true?  Justify your answers."
   ]
  },
  {
   "cell_type": "markdown",
   "metadata": {},
   "source": [
    "### Exercise 4.3.1"
   ]
  },
  {
   "cell_type": "markdown",
   "metadata": {},
   "source": [
    "$I(t)-I(s)$ is independent of $\\mathcal{F}(s)$."
   ]
  },
  {
   "cell_type": "markdown",
   "metadata": {},
   "source": [
    "### Solution 4.3.1"
   ]
  },
  {
   "cell_type": "markdown",
   "metadata": {},
   "source": [
    "We first write more explicitly\n",
    "\\begin{align}\n",
    "I(t)-I(s)&=\\Delta(0)[W(s)-W(0)]+\\underbrace{\\Delta(s)}_{=W(s)}[W(t)-W(s)]-\\Delta(0)[W(s)-W(0)]\\\\\n",
    "&=W(s)[W(t)-W(s)].\n",
    "\\end{align}\n",
    "Note that $W(s)$ is *not* independent of $\\mathcal{F}(s)$.  In fact $W(s)$ is $\\mathcal{F}(s)$-measurable by Definition $3.3.3$(ii).  This suggests $I(t)-I(s)$ is not independent of $\\mathcal{F}(s)$.  Let us make this rigorous."
   ]
  },
  {
   "cell_type": "markdown",
   "metadata": {},
   "source": [
    "Let $M\\in\\mathbb{R}$ be a fixed, strictly positive constant, and define \n",
    "\\begin{align}\n",
    "A_1&=\\{|W(s)[W(t)-W(s)]|\\leq 1 \\}\\in\\sigma(I(t)-I(s)),\\\\\n",
    "A_2&=\\{|W(s)|\\geq M\\}\\in\\mathcal{F}(s).\n",
    "\\end{align}\n",
    "Our goal is to show that, in general, $\\mathbb{P}(A_1\\cap A_2)\\neq\\mathbb{P}(A_1)\\mathbb{P}(A_2)$, violating the definition of independence."
   ]
  },
  {
   "cell_type": "markdown",
   "metadata": {},
   "source": [
    "We first compute $\\mathbb{P}(A_1\\cap A_2)$.  We begin by rewriting\n",
    "\\begin{align}\n",
    "A_1\\cap A_2&=\\{|W(s)[W(t)-W(s)]|\\leq 1 \\}\\cap\\{|W(s)|\\geq M\\}\\\\\n",
    "&=\\{|W(t)-W(s)|\\leq 1/M\\}\\cap\\{|W(s)|\\geq M\\}.\n",
    "\\end{align}"
   ]
  },
  {
   "cell_type": "markdown",
   "metadata": {},
   "source": [
    "By Theorem $3.3.2$ (Alternative characterizations of Brownian motion) (i), the incremenets $W(t)-W(s)$ and $W(s)=W(s)-W(0)$ are independent and distributed as $W(t)-W(s)\\sim N(0, t-s)$, and $W(s)\\sim N(0,s)$.  First using their independence and then using their distributions, we may rewrite\n",
    "\\begin{align}\n",
    "\\mathbb{P}\\left\\{\\{|W(t)-W(s)|\\leq 1/M\\}\\cap\\{|W(s)|\\geq M\\}\\right\\}&=\\mathbb{P}\\{|W(t)-W(s)|\\leq 1/M\\}\\mathbb{P}\\{|W(s)|\\geq M\\}\\\\\n",
    "&=\\left(\\int_{-1/M}^{1/M}\\frac{1}{\\sqrt{(t-s)2\\pi}}e^{-\\frac{1}{2}\\frac{x^2}{t-s}}dx\\right)\\left(\\int_{-\\infty}^{-M}\\frac{1}{\\sqrt{s2\\pi}}e^{-\\frac{1}{2}\\frac{x^2}{s}}dx+\\int_{M}^{\\infty}\\frac{1}{\\sqrt{s2\\pi}}e^{-\\frac{1}{2}\\frac{x^2}{s}}dx\\right)\\\\\n",
    "&=\\left(\\int_{-1/M}^{1/M}\\frac{1}{\\sqrt{(t-s)2\\pi}}e^{-\\frac{1}{2}\\frac{x^2}{t-s}}dx\\right)\\left(2\\int_{M}^{\\infty}\\frac{1}{\\sqrt{s2\\pi}}e^{-\\frac{1}{2}\\frac{x^2}{s}}dx\\right).\n",
    "\\end{align}"
   ]
  },
  {
   "cell_type": "markdown",
   "metadata": {},
   "source": [
    "In short,\n",
    "\\begin{equation}\n",
    "\\boxed{\\mathbb{P}(A_1\\cap A_2)=\\left(\\int_{-1/M}^{1/M}\\frac{1}{\\sqrt{(t-s)2\\pi}}e^{-\\frac{1}{2}\\frac{x^2}{t-s}}dx\\right)\\left(2\\int_{M}^{\\infty}\\frac{1}{\\sqrt{s2\\pi}}e^{-\\frac{1}{2}\\frac{x^2}{s}}dx\\right).}\n",
    "\\end{equation}"
   ]
  },
  {
   "cell_type": "markdown",
   "metadata": {},
   "source": [
    "We now turn our attention to $\\mathbb{P}(A_1)\\mathbb{P}(A_2)$.  Note that without explicitly computing this product, we can already go ahead and see that the independence condition $\\mathbb{P}(A_1\\cap A_2)\\stackrel{?}{=}\\mathbb{P}(A_1)\\mathbb{P}(A_2)$ does not hold in general.  Indeed,\n",
    "\\begin{gather}\n",
    "\\mathbb{P}(A_1\\cap A_2)=\\left(\\int_{-1/M}^{1/M}\\frac{1}{\\sqrt{(t-s)2\\pi}}e^{-\\frac{1}{2}\\frac{x^2}{t-s}}dx\\right)\\underbrace{\\left(2\\int_{M}^{\\infty}\\frac{1}{\\sqrt{s2\\pi}}e^{-\\frac{1}{2}\\frac{x^2}{s}}dx\\right)}_{=\\mathbb{P}(A_2)}=\\mathbb{P}(A_1)\\mathbb{P}(A_2)\\iff\\\\\n",
    "\\left(\\int_{-1/M}^{1/M}\\frac{1}{\\sqrt{(t-s)2\\pi}}e^{-\\frac{1}{2}\\frac{x^2}{t-s}}dx\\right)=\\mathbb{P}(A_1)=\\mathbb{P}\\{|W(s)[W(t)-W(s)]|\\leq 1 \\}.\n",
    "\\end{gather}"
   ]
  },
  {
   "cell_type": "markdown",
   "metadata": {},
   "source": [
    "It is clear to see that the last equation cannot hold in general.  The leftmost term depends on the parameter $M$, whereas the rightmost term does not.  In conclusion, we see that $I(t)-I(s)$ is *not* independent of $\\mathcal{F}(s)$. $\\square$"
   ]
  },
  {
   "cell_type": "markdown",
   "metadata": {},
   "source": [
    "### Exercise 4.3.2"
   ]
  },
  {
   "cell_type": "markdown",
   "metadata": {},
   "source": [
    "$I(t)-I(s)$ is normally distributed. (Hint: Check if the fourth moment is three times the square of the variance; see Exercise 3.3 Chapter 3.)"
   ]
  },
  {
   "cell_type": "markdown",
   "metadata": {},
   "source": [
    "### Solution 4.3.2"
   ]
  },
  {
   "cell_type": "markdown",
   "metadata": {},
   "source": [
    "*If* $I(t)-I(s)$ is normally distributed, with mean $\\mu$ and variance $\\sigma^2$, then recall from Exercise 3.3 that\n",
    "\\begin{equation}\n",
    "\\varphi''(u)=\\mathbb{E}\\left[(I(t)-I(s)-\\mu)^2e^{u(I(t)-I(s)-\\mu)}\\right]=(\\sigma^2+\\sigma^4u^2)e^{\\frac{1}{2}\\sigma^2u^2}.\n",
    "\\end{equation}\n",
    "Differentiating two more times, we would get\n",
    "\\begin{equation}\n",
    "\\varphi^{(4)}(u)=\\mathbb{E}\\left[(I(t)-I(s)-\\mu)^4e^{u(I(t)-I(s)-\\mu)}\\right]=\\sigma^4e^{\\frac{1}{2}s^2u^2}(\\sigma^4u^4+6\\sigma^2u^2+3).\n",
    "\\end{equation}"
   ]
  },
  {
   "cell_type": "markdown",
   "metadata": {},
   "source": [
    "Plugging in $u=0$ would yield\n",
    "\\begin{equation}\n",
    "\\varphi^{(4)}(0)=\\mathbb{E}\\left[(I(t)-I(s)-\\mu)^4\\right]=3\\sigma^4.\n",
    "\\end{equation}\n",
    "We now compute the middle of the expression above and see if this is true."
   ]
  },
  {
   "cell_type": "markdown",
   "metadata": {},
   "source": [
    "We begin by computing the mean $\\mu$ of $I(t)-I(s)$.  This is given by\n",
    "\\begin{align}\n",
    "\\mu&=\\mathbb{E}\\left[I(t)-I(s)\\right]\\\\\n",
    "&=\\mathbb{E}[W(s)[W(t)-W(s)]]\\\\\n",
    "&=\\mathbb{E}W(s)\\mathbb{E}[W(t)-W(s)]\\\\\n",
    "&=0,\n",
    "\\end{align}\n",
    "where the second-to-last equality is justified because the increments $W(s)=W(s)-W(0)$ and $W(t)-W(s)$ are independent by Theorem $3.3.2$ (Alternative characterizations of Brownian motion) (i)."
   ]
  },
  {
   "cell_type": "markdown",
   "metadata": {},
   "source": [
    "Plugging in $\\mu=0$, we now turn our attention to evaluating $\\mathbb{E}[(I(t)-I(s))^4]$.  Note that this is given by\n",
    "\\begin{align}\n",
    "\\mathbb{E}[(I(t)-I(s))^4]&=\\mathbb{E}[W^4(s)[W(t)-W(s)]^4]\\\\\n",
    "&=\\mathbb{E}W^4(s)\\mathbb{E}[(W(t)-W(s))^4]\\\\\n",
    "&=3s^23(t-s)^2\\\\\n",
    "&=9s^2(t-s)^2.\n",
    "\\end{align}\n",
    "where the middle equality is justified because $W(s)$ and $W(t)-W(s)$ are independent, and hence by Theorem 2.2.5 so are the Borel-measurable functions of these random variables $W^4(s)$ and $(W(t)-W(s))^4$."
   ]
  },
  {
   "cell_type": "markdown",
   "metadata": {},
   "source": [
    "It only remains to compute $3\\sigma^4$, and see if this is equal to the expression just derived.  To that end, note that\n",
    "\\begin{align}\n",
    "\\sigma^2&=\\text{Var}(I(t)-I(s))\\\\\n",
    "&=\\mathbb{E}[W(s)^2(W(t)-W(s))^2]-(\\mathbb{E}[W(s)(W(t)-W(s))])^2\\\\\n",
    "&=\\mathbb{E}[W^2(s)]\\mathbb{E}[(W(t)-W(s))^2]-(\\mathbb{E}[W(s)])^2(\\mathbb{E}[W(t)-W(s)])^2\\\\\n",
    "&=s(t-s)-0\\times0\\\\\n",
    "&=s(t-s).\n",
    "\\end{align}"
   ]
  },
  {
   "cell_type": "markdown",
   "metadata": {},
   "source": [
    "This result yields\n",
    "\\begin{equation}\n",
    "3\\sigma^4=3s^2(s-t)^2\\neq 9s^2(s-t)^2,\n",
    "\\end{equation}\n",
    "where the right-hand side of the equation above is the first expression we derived."
   ]
  },
  {
   "cell_type": "markdown",
   "metadata": {},
   "source": [
    "We can therefore conclude that $I(t)-I(s)$ is *not* normally distributed. $\\square$"
   ]
  },
  {
   "cell_type": "markdown",
   "metadata": {},
   "source": [
    "### Exercise 4.3.3"
   ]
  },
  {
   "cell_type": "markdown",
   "metadata": {},
   "source": [
    "$\\mathbb{E}[I(t)|\\mathcal{F}(s)]=I(s)$."
   ]
  },
  {
   "cell_type": "markdown",
   "metadata": {},
   "source": [
    "### Solution 4.3.3"
   ]
  },
  {
   "cell_type": "markdown",
   "metadata": {},
   "source": [
    "We show this with a calculation.  First we rewrite\n",
    "\\begin{equation}\n",
    "I(t)=I(t)-I(s)+I(s)=W(s)[W(t)-W(s)]+I(s)\n",
    "\\end{equation}\n",
    "and therefore\n",
    "\\begin{align}\n",
    "\\mathbb{E}[I(t)|\\mathcal{F}(s)]&=\\mathbb{E}[W(s)[W(t)-W(s)]+I(s)|\\mathcal{F}(s)]\\\\\n",
    "&=\\mathbb{E}[W(s)[W(t)-W(s)]|\\mathcal{F}(s)]+I(s).\n",
    "\\end{align}"
   ]
  },
  {
   "cell_type": "markdown",
   "metadata": {},
   "source": [
    "This expression reduces to $I(s)$ if $\\mathbb{E}[W(s)[W(t)-W(s)]|\\mathcal{F}(s)]\\stackrel{?}{=}0$.  Let us simplify this expression to see if it is true.\n",
    "\\begin{equation}\n",
    "\\mathbb{E}[W(s)[W(t)-W(s)]|\\mathcal{F}(s)]=W(s)\\mathbb{E}[W(t)-W(s)|\\mathcal{F}(s)]=W(s)0=0.\n",
    "\\end{equation}"
   ]
  },
  {
   "cell_type": "markdown",
   "metadata": {},
   "source": [
    "We can therefore conclude that $\\mathbb{E}[I(t)|\\mathcal{F}(s)]=I(s)$. $\\square$"
   ]
  },
  {
   "cell_type": "markdown",
   "metadata": {},
   "source": [
    "### Exercise 4.4.4"
   ]
  },
  {
   "cell_type": "markdown",
   "metadata": {},
   "source": [
    "$\\mathbb{E}[I^2(t)-\\int_{0}^{t}\\Delta^2(u)du|\\mathcal{F}(s)]=I^2(s)-\\int_{0}^{s}\\Delta^2(u)du$."
   ]
  },
  {
   "cell_type": "markdown",
   "metadata": {},
   "source": [
    "### Solution 4.4.4"
   ]
  },
  {
   "cell_type": "markdown",
   "metadata": {},
   "source": [
    "First we rewrite\n",
    "\\begin{align}\n",
    "I^2(t)&=(\\Delta(0)[W(s)-\\underbrace{W(0)}_{=0}]+\\underbrace{\\Delta(s)}_{=W(s)}[W(t)-W(s)])^2\\\\\n",
    "&=\\Delta^2(0)W^2(s)+W^2(s)[W(t)-W(s)]^2+2\\Delta(0)W^2(s)[W(t)-W(s)]\\\\\n",
    "&=W^2(s)(\\Delta^2(0)+[W(t)-W(s)]^2+2\\Delta(0)[W(t)-W(s)])\n",
    "\\end{align}\n",
    "Hence,\n",
    "\\begin{align}\n",
    "\\mathbb{E}[I^2(t)|\\mathcal{F}(s)]&=\\mathbb{E}[W^2(s)(\\Delta^2(0)+[W(t)-W(s)]^2+2\\Delta(0)[W(t)-W(s)])|\\mathcal{F}(s)]\\\\\n",
    "&=W^2(s)\\mathbb{E}[\\Delta^2(0)+[W(t)-W(s)]^2+2\\Delta(0)[W(t)-W(s)]|\\mathcal{F}(s)]\\\\\n",
    "&=W^2(s)(\\Delta^2(0)+(t-s)+0)\\\\\n",
    "&=W^2(s)(\\Delta^2(0)+(t-s)).\n",
    "\\end{align}"
   ]
  },
  {
   "cell_type": "markdown",
   "metadata": {},
   "source": [
    "Now we turn to $\\int_{0}^{t}\\Delta^2(u)du$.  Note that this is equal to\n",
    "\\begin{align}\n",
    "\\int_{0}^{t}\\Delta^2(u)du&=\\Delta^2(0)(s-0)+\\Delta^2(s)(t-s)\\\\\n",
    "&=\\Delta^2(0)s+W^2(s)(t-s).\n",
    "\\end{align}"
   ]
  },
  {
   "cell_type": "markdown",
   "metadata": {},
   "source": [
    "Putting all this together, we get\n",
    "\\begin{align}\n",
    "\\mathbb{E}[I^2(t)-\\int_{0}^{t}\\Delta^2(u)du|\\mathcal{F}(s)]&=W^2(s)(\\Delta^2(0)+(t-s))-\\Delta^2(0)s+W^2(s)(t-s)\\\\\n",
    "&=\\underbrace{W^2(s)\\Delta^2(0)}_{=(\\Delta(0)(W(s)-W(0))^2=I^2(s)}-\\underbrace{\\Delta^2(0)(s-0)}_{=\\int_{0}^{s}\\Delta^2(u)du}\\\\\n",
    "&=I^2(s)-\\int_{0}^{s}\\Delta^2(u)du.\n",
    "\\end{align}"
   ]
  },
  {
   "cell_type": "markdown",
   "metadata": {},
   "source": [
    "In short, we can conclude that the following statement is true: $\\mathbb{E}[I^2(t)-\\int_{0}^{t}\\Delta^2(u)du|\\mathcal{F}(s)]=I^2(s)-\\int_{0}^{s}\\Delta^2(u)du$. $\\square$"
   ]
  },
  {
   "cell_type": "code",
   "execution_count": null,
   "metadata": {},
   "outputs": [],
   "source": []
  }
 ],
 "metadata": {
  "kernelspec": {
   "display_name": "Python 3",
   "language": "python",
   "name": "python3"
  },
  "language_info": {
   "codemirror_mode": {
    "name": "ipython",
    "version": 3
   },
   "file_extension": ".py",
   "mimetype": "text/x-python",
   "name": "python",
   "nbconvert_exporter": "python",
   "pygments_lexer": "ipython3",
   "version": "3.7.6"
  }
 },
 "nbformat": 4,
 "nbformat_minor": 4
}
