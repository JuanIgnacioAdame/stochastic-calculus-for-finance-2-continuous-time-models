{
 "cells": [
  {
   "cell_type": "markdown",
   "metadata": {},
   "source": [
    "### Exercise 4.1"
   ]
  },
  {
   "cell_type": "markdown",
   "metadata": {},
   "source": [
    "Suppose $M(t), 0\\leq t\\leq T$, is a martingale with respect to some filtration $\\mathcal{F}(t), 0\\leq t\\leq T$.  Let $\\Delta(t), 0\\leq t\\leq T$, be a simple process adapted to $\\mathcal{F}(t)$ (i.e. there is a partition $\\Pi=\\{t_0,t_1,\\dots,t_n\\}$ of $[0,T]$ such that, for every $j, \\Delta(t_j)$ is $\\mathcal{F}(t_j)$-measurable and $\\Delta(t)$ is constant in $t$ on each subinterval $[t_j,t_{j+1})$).  For $t\\in[t_k,t_{k+1})$, define the stochastic integral\n",
    "\\begin{equation}\n",
    "I(t)=\\sum_{j=0}^{k-1}\\Delta(t_j)[M(t_{j+1})-M(t_j)]+\\Delta(t_k)[M(t)-M(t_k)].\n",
    "\\end{equation}\n",
    "We think of $M(t)$ as the price of an asset at time $t$ and $\\Delta(t_j)$ as the number of shares of the asset held by an investor between times $t_j$ and $t_{j+1}$.  Then $I(t)$ is the captail gains that accrue to the investor between times $0$ and $t$.  Show that $I(t), 0\\leq t\\leq T$, is a martingale."
   ]
  },
  {
   "cell_type": "markdown",
   "metadata": {},
   "source": [
    "### Solution 4.1"
   ]
  },
  {
   "cell_type": "markdown",
   "metadata": {},
   "source": [
    "The proof is very similar to the proof of Theorem 4.2.1."
   ]
  },
  {
   "cell_type": "markdown",
   "metadata": {},
   "source": [
    "Let $0\\leq s\\leq t\\leq T$ be given.  For now, assume that $s$ and $t$ are in the different subintervals of $\\Pi$.  In other words, there are parition points $t_l$ and $t_k$ such that $t_l<t_k, s\\in[t_l,t_{l+1})$, and $t\\in[t_k,t_{k+1})$.  (If $s$ and $t$ are in the same subinterval, the proof is simpler.)  Then we may rewrite $I(t)$ as\n",
    "\\begin{align}\n",
    "I(t)&=\\sum_{j=0}^{l-1}\\Delta(t_j)[M(t_{j+1})-M(t_j)]+\\Delta(t_l)[M(t_{l+1})-M(t_l)]\\\\\n",
    "&+\\sum_{j=l+1}^{k-1}\\Delta(t_j)[M(t_{j+1})-M(t_j)]+\\Delta(t_k)[M(t)-M(t_k)].\n",
    "\\end{align}"
   ]
  },
  {
   "cell_type": "markdown",
   "metadata": {},
   "source": [
    "We have to show that $\\mathbb{E}[I(t)|\\mathcal{F}(s)]=I(s)$.  To do this, we will now take the conditional expectation of each of the four terms on the right hand side above.  Every random variable in $\\sum_{j=0}^{l-1}\\Delta(t_j)[M(t_{j+1})-M(t_j)]$ is $\\mathcal{F}(s)$-measurable because the latest time appearing in this sum is $t_l$ and $t_l<s$.  Theorefore,\n",
    "\\begin{equation}\n",
    "\\mathbb{E}\\left[\\sum_{j=0}^{l-1}\\Delta(t_j)[M(t_{j+1})-M(t_j)]\\Bigg\\vert\\mathcal{F}(s)\\right]=\\sum_{j=0}^{l-1}\\Delta(t_j)[M(t_{j+1})-M(t_j)].\n",
    "\\end{equation}"
   ]
  },
  {
   "cell_type": "markdown",
   "metadata": {},
   "source": [
    "For the second term on the right hand side of $I(t)$, we \"take out what is known\" (Theorem $2.3.2$(ii)), use the linearity of conditional expectations (Theorem $2.3.2$(i)), and use the martingale property of $M$, to write\n",
    "\\begin{align}\n",
    "\\mathbb{E}[\\Delta(t_l)[M(t_{l+1})-M(t_l)]\\mid\\mathcal{F}(s)]&=\\Delta(t_l)\\mathbb{E}[M(t_{l+1})-M(t_l)\\mid\\mathcal{F}(s)]\\\\\n",
    "&=\\Delta(t_l)(\\underbrace{\\mathbb{E}[M(t_{l+1})\\mid\\mathcal{F}(s)]}_{=M(s)}-\\underbrace{\\mathbb{E}[M(t_{l})\\mid\\mathcal{F}(s)]}_{=M(t_l)})\\\\\n",
    "&=\\Delta(t_l)[M(s)-M(t_l)].\n",
    "\\end{align}"
   ]
  },
  {
   "cell_type": "markdown",
   "metadata": {},
   "source": [
    "Hence, adding these two conditional expectations, we get\n",
    "\\begin{align}\n",
    "&\\mathbb{E}\\left[\\sum_{j=0}^{l-1}\\Delta(t_j)[M(t_{j+1})-M(t_j)]+\\Delta(t_l)[M(t_{l+1})-M(t_l)]\\Bigg\\vert\\mathcal{F}(s)\\right]\\\\\n",
    "&=\\sum_{j=0}^{l-1}\\Delta(t_j)[M(t_{j+1})-M(t_j)]+\\Delta(t_l)[M(s)-M(t_l)]=I(s),\n",
    "\\end{align}\n",
    "where the last equality holds simply by definition of $I(s)$."
   ]
  },
  {
   "cell_type": "markdown",
   "metadata": {},
   "source": [
    "It remains to show that the conditional expectations of the third and fourth terms are zero.  then we will have $\\mathbb{E}[I(t)|\\mathcal{F}(s)]=I(s)$."
   ]
  },
  {
   "cell_type": "markdown",
   "metadata": {},
   "source": [
    "The summands in the third term are of the form $\\Delta(t_j)[M(t_{j+1})-M(t_j)]$, where $t_j\\geq t_{l+1}>s$.  Therefore, we can use iterated conditioning (Theorem $2.3.2$(iii)) and \"taking out what is known\" (Theorem $2.3.2$(ii)) to write\n",
    "\\begin{align}\n",
    "\\mathbb{E}\\left\\{\\Delta(t_j)(M(t_{j+1})-M(t_j))\\mid\\mathcal{F}(s)\\right\\}&=\\mathbb{E}\\left\\{\\mathbb{E}[\\Delta(t_j)(M(t_{j+1})-M(t_j))\\mid\\mathcal{F}(t_j)]\\mid\\mathcal{F}(s)\\right\\}\\\\\n",
    "&=\\mathbb{E}\\left\\{\\Delta(t_j)(\\underbrace{\\mathbb{E}[M(t_{j+1})\\mid\\mathcal{F}(t_j)]}_{=M(t_j)}-M(t_j))\\Bigg\\vert\\mathcal{F}(s)\\right\\}\\\\\n",
    "&=\\mathbb{E}\\left\\{\\Delta(t_j)(M(t_j)-M(t_j))\\mid\\mathcal{F}(s)\\right\\}=0.\n",
    "\\end{align}\n",
    "Because the conditional expecation of each of the summands in the third term on the right-hand side is zero, the conditional expectation of the whole term is zero, i.e.\n",
    "\\begin{equation}\n",
    "\\mathbb{E}\\left[\\sum_{j=l+1}^{k-1}\\Delta(t_j)[M(t_{j+1})-M(t_j)]\\Bigg\\vert\\mathcal{F}(s)\\right]=0.\n",
    "\\end{equation}"
   ]
  },
  {
   "cell_type": "markdown",
   "metadata": {},
   "source": [
    "Note that all of the arguments above apply for the fourth term, i.e.\n",
    "\\begin{align}\n",
    "\\mathbb{E}\\left\\{\\Delta(t_k)(M(t)-M(t_k))\\mid\\mathcal{F}(s)\\right\\}&=\\mathbb{E}\\left\\{\\mathbb{E}[\\Delta(t_k)(M(t)-M(t_k))\\mid\\mathcal{F}(t_k)]\\mid\\mathcal{F}(s)\\right\\}\\\\\n",
    "&=\\mathbb{E}\\left\\{\\Delta(t_k)(\\underbrace{\\mathbb{E}[M(t)\\mid\\mathcal{F}(t_k)]}_{=M(t_k)}-M(t_k))\\Bigg\\vert\\mathcal{F}(s)\\right\\}\\\\\n",
    "&=\\mathbb{E}\\left\\{\\Delta(t_k)(M(t_k)-M(t_k))\\mid\\mathcal{F}(s)\\right\\}=0.\n",
    "\\end{align}"
   ]
  },
  {
   "cell_type": "markdown",
   "metadata": {},
   "source": [
    "This concludes the proof when $s$ and  $t$ are in different subintervals of $\\Pi$."
   ]
  },
  {
   "cell_type": "markdown",
   "metadata": {},
   "source": [
    "If $s$ and $t$ are in the same subinterval, i.e. $s, t\\in[t_l,t_{l+1})$, note that $I(t)-I(s)=\\Delta(t_l)(M(t)-M(s))$.  Therefore,\n",
    "\\begin{equation}\n",
    "I(t)=\\Delta(t_l)(M(t)-M(s))+I(s).\n",
    "\\end{equation}\n",
    "Hence,\n",
    "\\begin{align}\n",
    "\\mathbb{E}[I(t)|\\mathcal{F}(s)]&=\\mathbb{E}[\\Delta(t_l)(M(t)-M(s))+I(s)|\\mathcal{F}(s)]\\\\\n",
    "&=\\Delta(t_l)\\mathbb{E}[M(t)-M(s)|\\mathcal{F}(s)]+\\underbrace{\\mathbb{E}[I(s)|\\mathcal{F}(s)]}_{=I(s)}\\\\\n",
    "&=\\Delta(t_l)(\\underbrace{\\mathbb{E}[M(t)|\\mathcal{F}(s)]}_{=M(s)}-M(s))+I(s)\\\\\n",
    "&=\\Delta(t_l)(M(s)-M(s))+I(s)\\\\\n",
    "&=I(s).\n",
    "\\end{align}\n",
    "This finishes the proof. $\\square$"
   ]
  },
  {
   "cell_type": "code",
   "execution_count": null,
   "metadata": {},
   "outputs": [],
   "source": []
  }
 ],
 "metadata": {
  "kernelspec": {
   "display_name": "Python 3",
   "language": "python",
   "name": "python3"
  },
  "language_info": {
   "codemirror_mode": {
    "name": "ipython",
    "version": 3
   },
   "file_extension": ".py",
   "mimetype": "text/x-python",
   "name": "python",
   "nbconvert_exporter": "python",
   "pygments_lexer": "ipython3",
   "version": "3.7.6"
  }
 },
 "nbformat": 4,
 "nbformat_minor": 4
}
