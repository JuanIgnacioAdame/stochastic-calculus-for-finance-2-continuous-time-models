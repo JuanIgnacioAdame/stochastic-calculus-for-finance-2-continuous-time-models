{
 "cells": [
  {
   "cell_type": "markdown",
   "metadata": {},
   "source": [
    "### Exercise 4.4"
   ]
  },
  {
   "cell_type": "markdown",
   "metadata": {},
   "source": [
    "Let $W(t)$, $t\\geq 0$, be a Brownian motion. Let $T$ be a fixed positive number and let $\\Pi=\\{t_0,\\dots,t_n\\}$ be a partition of $[0,T]$ (i.e., $0=t_0<\\dots<t_n=T$). For each $j$, define $t^*_j=\\frac{t_j+t_{j+1}}{2}$ to be the midpoint of the interval $[t_j, t_{j+1}]$."
   ]
  },
  {
   "cell_type": "markdown",
   "metadata": {},
   "source": [
    "### Exercise 4.4.1"
   ]
  },
  {
   "cell_type": "markdown",
   "metadata": {},
   "source": [
    "Define the *half-sample quadratic variation* corresponding to $\\Pi$ to be\n",
    "\\begin{equation}\n",
    "Q_{\\Pi/2}=\\sum_{j=0}^{n-1}(W(t_j^*)-W(t_j))^2.\n",
    "\\end{equation}"
   ]
  },
  {
   "cell_type": "markdown",
   "metadata": {},
   "source": [
    "Show that $Q_{\\Pi/2}$ has limit $\\frac{1}{2}T$  as $\\|\\Pi\\|\\rightarrow 0$. (Hint: It suffices to show that $\\mathbb{E}Q_{\\Pi/2}=\\frac{1}{2}T$ and $\\lim_{\\|\\Pi\\|\\rightarrow 0}\\text{Var}(Q_{\\Pi/2})=0$.)"
   ]
  },
  {
   "cell_type": "markdown",
   "metadata": {},
   "source": [
    "### Solution 4.4.1"
   ]
  },
  {
   "cell_type": "markdown",
   "metadata": {},
   "source": [
    "We show this with a calculation.  Indeed,\n",
    "\\begin{equation}\n",
    "\\mathbb{E}Q_{\\Pi/2}=\\mathbb{E}\\sum_{j=0}^{n-1}(W(t_j^*)-W(t_j))^2=\\sum_{j=0}^{n-1}\\mathbb{E}(W(t_j^*)-W(t_j))^2=\\sum_{j=0}^{n-1}t_j^*-t_j=\\frac{1}{2}T.\n",
    "\\end{equation}"
   ]
  },
  {
   "cell_type": "markdown",
   "metadata": {},
   "source": [
    "We now turn to computing the variance.  Note that we can basically reuse the computations following equation $(3.4.7)$ in the textbook.  In other words,\n",
    "\\begin{align}\n",
    "\\text{Var}(Q_{\\Pi/2})&=\\text{Var}\\left[\\sum_{j=0}^{n-1}(W(t_j^*)-W(t_j))^2\\right]\\\\\n",
    "&=\\sum_{j=0}^{n-1}\\text{Var}\\left[(W(t_j^*)-W(t_j))^2\\right]\\\\\n",
    "&=\\sum_{j=0}^{n-1}2(t_j^*-t_j)^2\\\\\n",
    "&\\leq 2\\|\\Pi\\|\\sum_{j=0}^{n-1}(t_j^*-t_j)\\\\\n",
    "&=2\\|\\Pi\\|\\frac{1}{2}T\\rightarrow 0 \\text{ as }\\|\\Pi\\|\\rightarrow 0.\n",
    "\\end{align}"
   ]
  },
  {
   "cell_type": "markdown",
   "metadata": {},
   "source": [
    "We can therefore conlcude that $Q_{\\Pi/2}$ has limit $\\frac{1}{2}T$  as $\\|\\Pi\\|\\rightarrow 0$. $\\square$"
   ]
  },
  {
   "cell_type": "markdown",
   "metadata": {},
   "source": [
    "### Exercise 4.4.2"
   ]
  },
  {
   "cell_type": "markdown",
   "metadata": {},
   "source": [
    "Define the Stratonovich integral of $W(t)$ with respect to $W(t)$ to be\n",
    "\\begin{equation}\n",
    "\\int_{0}^{T}W(T)\\circ dW(t)=\\lim_{\\|\\Pi\\|\\rightarrow 0}\\sum_{j=0}^{n-1}W(t^*_j)(W(t_{j+1})-W(t_j)).\n",
    "\\end{equation}\n",
    "In contrast to the Ito integral $\\int_{0}^{T}W(t)dW(t)=\\frac{1}{2}W^2(T)-\\frac{1}{2}T$ of $(4.3.4)$, which evaluates the integrand at the left endpoint of each subinterval $[t_j, t_{j+1}]$, here we evaluate the integrand at the midpoint $t^*_j$.  Show that\n",
    "\\begin{equation}\n",
    "\\int_{0}^{T}W(t)\\circ dW(t)=\\frac{1}{2}W^2(T).\n",
    "\\end{equation}\n",
    "(Hint: Write the approximating sum in $(4.10.1)$ as the sum of an approximating sum for the Ito integral $\\int_{0}^{T}W(t)dW(t)$ and $Q_{\\Pi/2}$.  The approximating sum for the Ito integral is the one corresponding to the partition $0=t_0<t_0^*<t_1<t_1^*<\\dots<t_{n-1}^*<t_n=T$, not the partition $\\Pi$.)"
   ]
  },
  {
   "cell_type": "markdown",
   "metadata": {},
   "source": [
    "### Solution 4.4.2"
   ]
  },
  {
   "cell_type": "markdown",
   "metadata": {},
   "source": [
    "As per the hint, we first note that\n",
    "\\begin{align}\n",
    "\\sum_{j=0}^{n-1}W(t^*_j)(W(t_{j+1})-W(t_j))&=\\sum_{j=0}^{n-1}W(t^*_j)(W(t_{j+1})-W(t_j^*)+W(t_j^*)-W(t_j))\\\\\n",
    "&=\\sum_{j=0}^{n-1}W(t^*_j)[W(t_{j+1})-W(t_j^*)]+\\sum_{j=0}^{n-1}W(t^*_j)[W(t_j^*)-W(t_j)]\\\\\n",
    "&=\\sum_{j=0}^{n-1}W(t^*_j)[W(t_{j+1})-W(t_j^*)]+\\sum_{j=0}^{n-1}[W(t_j)+W(t_j^*)-W(t_j)][W(t_j^*)-W(t_j)]\\\\\n",
    "&=\\sum_{j=0}^{n-1}W(t^*_j)[W(t_{j+1})-W(t_j^*)]+\\sum_{j=0}^{n-1}W(t_j)[W(t_j^*)-W(t_j)]+\\sum_{j=0}^{n-1}(W(t_j^*)-W(t_j))(W(t_j^*)-W(t_j))\\\\\n",
    "&=\\sum_{j=0}^{n-1}\\left(W(t^*_j)[W(t_{j+1})-W(t_j^*)]+W(t_j)[W(t_j^*)-W(t_j)]\\right)+Q_{\\Pi/2}.\n",
    "\\end{align}"
   ]
  },
  {
   "cell_type": "markdown",
   "metadata": {},
   "source": [
    "Note that the left term is an approximating sum for the Ito integral corresponding to the partition $0=t_0<t_0^*<t_1<t_1^*<\\dots<t_{n-1}^*<t_n=T$.  Hence,\n",
    "\\begin{equation}\n",
    "\\lim_{\\|\\Pi\\|\\rightarrow 0}\\sum_{j=0}^{n-1}\\left(W(t^*_j)[W(t_{j+1})-W(t_j^*)]+W(t_j)[W(t_j^*)-W(t_j)]\\right)=\\int_{0}^{T}W(t)dW(t)=\\frac{1}{2}W^2(T)-\\frac{1}{2}T.\n",
    "\\end{equation}"
   ]
  },
  {
   "cell_type": "markdown",
   "metadata": {},
   "source": [
    "From the first part of the exercise, we have\n",
    "\\begin{equation}\n",
    "\\lim_{\\|\\Pi\\|\\rightarrow 0}Q_{\\Pi/2}=\\frac{1}{2}T.\n",
    "\\end{equation}"
   ]
  },
  {
   "cell_type": "markdown",
   "metadata": {},
   "source": [
    "Putting the above two results together, we get the desired result\n",
    "\\begin{equation}\n",
    "\\int_{0}^{T}W(t)\\circ dW(t)=\\frac{1}{2}W^2(T)-\\frac{1}{2}T+\\frac{1}{2}T=\\frac{1}{2}W^2(T). \\square\n",
    "\\end{equation}"
   ]
  },
  {
   "cell_type": "code",
   "execution_count": null,
   "metadata": {},
   "outputs": [],
   "source": []
  }
 ],
 "metadata": {
  "kernelspec": {
   "display_name": "Python 3",
   "language": "python",
   "name": "python3"
  },
  "language_info": {
   "codemirror_mode": {
    "name": "ipython",
    "version": 3
   },
   "file_extension": ".py",
   "mimetype": "text/x-python",
   "name": "python",
   "nbconvert_exporter": "python",
   "pygments_lexer": "ipython3",
   "version": "3.7.6"
  }
 },
 "nbformat": 4,
 "nbformat_minor": 4
}
