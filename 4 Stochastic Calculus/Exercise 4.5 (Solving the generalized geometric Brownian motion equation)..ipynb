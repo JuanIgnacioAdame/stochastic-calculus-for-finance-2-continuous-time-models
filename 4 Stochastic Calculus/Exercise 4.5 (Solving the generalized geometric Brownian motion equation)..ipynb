{
 "cells": [
  {
   "cell_type": "markdown",
   "metadata": {},
   "source": [
    "### Exercise 4.5"
   ]
  },
  {
   "cell_type": "markdown",
   "metadata": {},
   "source": [
    "Let $S(t)$ be a positive stochastic process that satisifes the generalzied geometric Brownian motion differential equation (see Example $4.4.8$)\n",
    "\\begin{equation}\n",
    "dS(t)=\\alpha(t)S(t)dt+\\sigma(t)S(t)dW(t),\n",
    "\\end{equation}\n",
    "where $\\alpha(t)$ and $\\sigma(t)$ are processes adapted to the filtration $\\mathcal{F}(t), t\\geq 0$, associated with the Brownian motion $W(t), t\\geq 0$.  In this exercise, we show that $S(t)$ must be given by formula $(4.4.26)$ (i.e., that formula provides the only solution to the stochastic differential equation $(4.10.2)$).  In the process, we provide a method for solving this euqation."
   ]
  },
  {
   "cell_type": "markdown",
   "metadata": {},
   "source": [
    "### Exercise 4.5.1"
   ]
  },
  {
   "cell_type": "markdown",
   "metadata": {},
   "source": [
    "Using $(4.10.2)$ and the Ito-Doeblin formula, compute $d\\log S(t)$.  Simplify so that you ahve a formula for $d\\log S(t)$ that does not involve $S(t)$."
   ]
  },
  {
   "cell_type": "markdown",
   "metadata": {},
   "source": [
    "### Solution 4.5.1"
   ]
  },
  {
   "cell_type": "code",
   "execution_count": null,
   "metadata": {},
   "outputs": [],
   "source": []
  },
  {
   "cell_type": "markdown",
   "metadata": {},
   "source": [
    "### Exercise 4.5.2"
   ]
  },
  {
   "cell_type": "markdown",
   "metadata": {},
   "source": [
    "Integrate the formula you obtained in $(i)$, and then exponentiate the answer to obtain $(4.4.26)$."
   ]
  },
  {
   "cell_type": "markdown",
   "metadata": {},
   "source": [
    "### Solution 4.5.2"
   ]
  },
  {
   "cell_type": "code",
   "execution_count": null,
   "metadata": {},
   "outputs": [],
   "source": []
  }
 ],
 "metadata": {
  "kernelspec": {
   "display_name": "Python 3",
   "language": "python",
   "name": "python3"
  },
  "language_info": {
   "codemirror_mode": {
    "name": "ipython",
    "version": 3
   },
   "file_extension": ".py",
   "mimetype": "text/x-python",
   "name": "python",
   "nbconvert_exporter": "python",
   "pygments_lexer": "ipython3",
   "version": "3.7.6"
  }
 },
 "nbformat": 4,
 "nbformat_minor": 4
}
