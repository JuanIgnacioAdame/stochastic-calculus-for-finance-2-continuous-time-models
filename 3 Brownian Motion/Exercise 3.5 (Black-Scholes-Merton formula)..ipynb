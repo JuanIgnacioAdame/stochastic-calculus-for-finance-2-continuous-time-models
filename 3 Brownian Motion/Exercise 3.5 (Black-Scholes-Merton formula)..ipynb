{
 "cells": [
  {
   "cell_type": "markdown",
   "id": "ce056e22",
   "metadata": {},
   "source": [
    "### Exercise 3.5"
   ]
  },
  {
   "cell_type": "markdown",
   "id": "522eff90",
   "metadata": {},
   "source": [
    "Let the interest rate $r$ and the volatility $\\sigma>0$ be constant. Let\n",
    "\\begin{equation}\n",
    "S(t)=S(0)e^{(r-\\frac{1}{2}\\sigma^2)t+\\sigma W(t)}\n",
    "\\end{equation}\n",
    "be a geometric Brownian motion with mean rate of return $r$, where the initial stock price $S(0)$ is positive.  Let $K$ be a positive constant.  Show that, for $T>0$,\n",
    "\\begin{equation}\n",
    "\\mathbb{E}\\left[e^{-rT}(S(T)-K)^{+}\\right]=S(0)N(d_{+}(T,S(0)))-Ke^{-rT}N(d_{-}(T,S(0))),\n",
    "\\end{equation}\n",
    "where\n",
    "\\begin{equation}\n",
    "d_{\\pm}(T,S(0))=\\frac{1}{\\sigma\\sqrt{T}}\\left[\\log\\frac{S(0)}{K}+(r\\pm\\frac{\\sigma^2}{2})T\\right],\n",
    "\\end{equation}\n",
    "and $N$ is the cumulative standard normal distribution function\n",
    "\\begin{equation}\n",
    "N(y)=\\frac{1}{\\sqrt{2\\pi}}\\int_{-\\infty}^{y}e^{-\\frac{1}{2}z^2}dz=\\frac{1}{\\sqrt{2\\pi}}\\int_{-y}^{\\infty}e^{-\\frac{1}{2}z^2}dz.\n",
    "\\end{equation}"
   ]
  },
  {
   "cell_type": "markdown",
   "id": "ec854e1b",
   "metadata": {},
   "source": [
    "### Solution 3.5"
   ]
  },
  {
   "cell_type": "markdown",
   "id": "3c90bf63",
   "metadata": {},
   "source": [
    "We show this with a calculation.\n",
    "\\begin{equation}\n",
    "\\mathbb{E}[e^{-rT}(S(T)-K)^+]=\\mathbb{E}[e^{-rT}(S(0)e^{(r-\\frac{1}{2}\\sigma^2)T+\\sigma W(T)}-K)^+].\n",
    "\\end{equation}"
   ]
  },
  {
   "cell_type": "markdown",
   "id": "ad7544a1",
   "metadata": {},
   "source": [
    "By Definition 3.3.1 Equation (3.3.2), the increment $W(T)-W(0)=W(T)$ is normally distributed with\n",
    "\\begin{align}\n",
    "\\mathbb{E}[W(T)]=0,\\\\\n",
    "\\text{Var}[W(T)]=T.\n",
    "\\end{align}\n",
    "In other words, $W(T)$ has density\n",
    "\\begin{equation}\n",
    "f(x):=\\frac{1}{\\sqrt{T2\\pi}}e^{-\\frac{1}{2}\\frac{x^2}{T}}.\n",
    "\\end{equation}\n",
    "Therefore, by Theorem 1.5.2, we can calculate the expected value of interest as\n",
    "\\begin{equation}\n",
    "\\mathbb{E}[e^{-rT}(S(0)e^{(r-\\frac{1}{2}\\sigma^2)T+\\sigma W(T)}-K)^+]=\\int_{-\\infty}^{\\infty}e^{-rT}(S(0)e^{(r-\\frac{1}{2}\\sigma^2)T+\\sigma x}-K)^+f(x)dx.\n",
    "\\end{equation}"
   ]
  },
  {
   "cell_type": "markdown",
   "id": "260b297e",
   "metadata": {},
   "source": [
    "To simplify this integral, we now wish to find $x_{\\min}:=\\min_{x}\\{(S(0)e^{(r-\\frac{1}{2}\\sigma^2)T+\\sigma x}-K)^+\\geq 0\\}$, i.e.,\n",
    "\\begin{align}\n",
    "(S(0)e^{(r-\\frac{1}{2}\\sigma^2)T+\\sigma x}-K)^+&=S(0)e^{(r-\\frac{1}{2}\\sigma^2)T+\\sigma x}-K \\quad &\\text{for all} \\quad x\\geq x_{\\min},\\\\\n",
    "(S(0)e^{(r-\\frac{1}{2}\\sigma^2)T+\\sigma x}-K)^+&=0 \\quad &\\text{for all} \\quad x\\leq x_{\\min}.\n",
    "\\end{align}\n",
    "We do this with the following computation.\n",
    "\\begin{gather}\n",
    "S(0)e^{(r-\\frac{1}{2}\\sigma^2)T+\\sigma x}-K\\geq 0\\iff\\\\\n",
    "e^{(r-\\frac{1}{2}\\sigma^2)T+\\sigma x}\\geq\\frac{K}{S(0)}\\\\\n",
    "(r-\\frac{1}{2}\\sigma^2)T+\\sigma x\\geq\\log\\frac{K}{S(0)}\\\\\n",
    "x\\geq\\frac{1}{\\sigma}\\left[\\log\\frac{K}{S(0)}-(r-\\frac{1}{2}\\sigma^2)T\\right]=x_{\\min}.\n",
    "\\end{gather}\n",
    "Therefore, the integral of interest becomes\n",
    "\\begin{align}\n",
    "\\int_{-\\infty}^{\\infty}e^{-rT}(S(0)e^{(r-\\frac{1}{2}\\sigma^2)T+\\sigma x}-K)^+f(x)dx&=\\int_{x_{\\min}}^{\\infty}e^{-rT}(S(0)e^{(r-\\frac{1}{2}\\sigma^2)T+\\sigma x}-K)f(x)dx\\\\\n",
    "&=\\underbrace{\\int_{x_{\\min}}^{\\infty}e^{-rT}(S(0)e^{(r-\\frac{1}{2}\\sigma^2)T+\\sigma x})f(x)dx}_{:=(I)}-\\underbrace{\\int_{x_{\\min}}^{\\infty}e^{-rT}Kf(x)dx}_{:=(II)}.\n",
    "\\end{align}"
   ]
  },
  {
   "cell_type": "markdown",
   "id": "527346bf",
   "metadata": {},
   "source": [
    "Let us deal with Term $(II)$, first, because it is easier.\n",
    "\\begin{align}\n",
    "\\int_{x_{\\min}}^{\\infty}e^{-rT}Kf(x)dx=e^{-rT}K\\int_{x_{\\min}}^{\\infty}\\frac{1}{\\sqrt{T2\\pi}}e^{-\\frac{1}{2}\\frac{x^2}{T}}dx.\n",
    "\\end{align}\n",
    "If we make the variable substitution\n",
    "\\begin{equation}\n",
    "\\frac{x}{\\sqrt{T}}=:z,\n",
    "\\end{equation} then\n",
    "\\begin{equation}\n",
    "dx=\\sqrt{T}dz,\n",
    "\\end{equation}\n",
    "and the integral becomes\n",
    "\\begin{equation}\n",
    "e^{-rT}K\\int_{x_{\\min}}^{\\infty}\\frac{1}{\\sqrt{T2\\pi}}e^{-\\frac{1}{2}z^2}\\sqrt{T}dz=e^{-rT}K\\int_{x_{\\min}}^{\\infty}\\frac{1}{\\sqrt{2\\pi}}e^{-\\frac{1}{2}z^2}dz.\n",
    "\\end{equation}\n",
    "It only remains to replace the lower limit of integration $x_{\\min}$ with the correct value $z(x_{\\min})$, which is given by\n",
    "\\begin{align}\n",
    "z(x_{\\min})=\\frac{x_{\\min}}{\\sqrt{T}}&=\\frac{1}{\\sigma\\sqrt{T}}\\left[\\log\\frac{K}{S(0)}-(r-\\frac{1}{2}\\sigma^2)T\\right]\\\\\n",
    "&=-\\underbrace{\\frac{1}{\\sigma\\sqrt{T}}\\left[\\log\\frac{S(0)}{K}+(r-\\frac{1}{2}\\sigma^2)T\\right]}_{:=d_-(T,S(0))}.\n",
    "\\end{align}\n",
    "We can now rewrite the integral as\n",
    "\\begin{equation}\n",
    "e^{-rT}K\\int_{-d_-(T,S(0))}^{\\infty}\\frac{1}{\\sqrt{2\\pi}}e^{-\\frac{1}{2}z^2}dz=e^{-rT}KN(d_-(T,S(0))).\n",
    "\\end{equation}"
   ]
  },
  {
   "cell_type": "markdown",
   "id": "090f9d60",
   "metadata": {},
   "source": [
    "Now we turn our attention to term (II).\n",
    "\\begin{align}\n",
    "\\int_{x_{\\min}}^{\\infty}e^{-rT}(S(0)e^{(r-\\frac{1}{2}\\sigma^2)T+\\sigma x})f(x)dx&=S(0)\\int_{x_{\\min}}^{\\infty}e^{-\\frac{1}{2}\\sigma^2T+\\sigma x}\\frac{1}{\\sqrt{T2\\pi}}e^{-\\frac{1}{2}\\frac{x^2}{T}}\\\\\n",
    "&=S(0)\\int_{x_{\\min}}^{\\infty}\\frac{1}{\\sqrt{T2\\pi}}e^{-\\frac{1}{2}\\sigma^2T+\\sigma x-\\frac{1}{2}\\frac{x^2}{T}}.\n",
    "\\end{align}\n",
    "Note that if we make the variable substitution\n",
    "\\begin{equation}\n",
    "z:=\\frac{x}{\\sqrt{T}}-\\sigma\\sqrt{T},\n",
    "\\end{equation}\n",
    "then\n",
    "\\begin{equation}\n",
    "dx=dz\\sqrt{T},\n",
    "\\end{equation}\n",
    "and the integral above can be rewritten as\n",
    "\\begin{equation}\n",
    "S(0)\\int_{x_{\\min}}^{\\infty}\\frac{1}{\\sqrt{T2\\pi}}e^{-\\frac{1}{2}z^2}dz\\sqrt{T}=S(0)\\int_{x_{\\min}}^{\\infty}\\frac{1}{\\sqrt{2\\pi}}e^{-\\frac{1}{2}z^2}dz.\n",
    "\\end{equation}\n",
    "It only remains to replace the lower limit of integration $x_{\\min}$ with the correct value $z(x_{\\min})$, which is given by\n",
    "\\begin{align}\n",
    "z(x_{\\min})&=\\frac{x_{\\min}}{\\sqrt{T}}-\\sigma\\sqrt{T}\\\\\n",
    "&=\\frac{1}{\\sigma\\sqrt{T}}\\left[\\log\\frac{K}{S(0)}-(r-\\frac{1}{2}\\sigma^2)T\\right]-\\frac{\\sigma^2T}{\\sigma\\sqrt{T}}\\\\\n",
    "&=\\frac{1}{\\sigma\\sqrt{T}}\\left[\\log\\frac{K}{S(0)}-(r-\\frac{1}{2}\\sigma^2)T-\\sigma^2T\\right]\\\\\n",
    "&=\\frac{1}{\\sigma\\sqrt{T}}\\left[\\log\\frac{K}{S(0)}-(r+\\frac{1}{2}\\sigma^2)T\\right]\\\\\n",
    "&=-\\underbrace{\\frac{1}{\\sigma\\sqrt{T}}\\left[\\log\\frac{S(0)}{K}+(r+\\frac{1}{2}\\sigma^2)T\\right]}_{:=d_+(T,S(0))}.\n",
    "\\end{align}\n",
    "We can now reqwrite the integral as\n",
    "\\begin{equation}\n",
    "S(0)\\int_{-d_+(T,S(0))}^{\\infty}\\frac{1}{\\sqrt{2\\pi}}e^{-\\frac{1}{2}z^2}dz=S(0)N(d_+(T,S(0))).\n",
    "\\end{equation}"
   ]
  },
  {
   "cell_type": "markdown",
   "id": "f9fa0bef",
   "metadata": {},
   "source": [
    "Putting everything above together, we get the desired result\n",
    "\\begin{equation}\n",
    "\\mathbb{E}[e^{-rT}(S(T)-K)^+]=S(0)N(d_+(T,S(0)))-e^{-rT}KN(d_-(T,S(0))). \\square\n",
    "\\end{equation}"
   ]
  },
  {
   "cell_type": "markdown",
   "id": "70c482a3",
   "metadata": {},
   "source": [
    "### Bonus"
   ]
  },
  {
   "cell_type": "markdown",
   "id": "c33a775d",
   "metadata": {},
   "source": [
    "In this section, we're just going to play around with some code to show how the price of the European call option changes as we vary some of the relevant parameters."
   ]
  },
  {
   "cell_type": "code",
   "execution_count": 67,
   "id": "a7539865",
   "metadata": {},
   "outputs": [],
   "source": [
    "# d\\pm above\n",
    "def d(pm='plus', s0=1, t=1, sig=1, r=0.25, k=1):\n",
    "    if pm=='plus':\n",
    "        return 1/(sig*t**0.5)*(log(s0/k)+(r+0.5*sig**2)*t)\n",
    "    elif pm=='minus':\n",
    "        return 1/(sig*t**0.5)*(log(s0/k)+(r-0.5*sig**2)*t)\n",
    "    \n",
    "# ECOp\n",
    "def ECOp(s0=1, t=1, sig=1, r=0.1, k=1):\n",
    "    dp = d(pm='plus', s0=s0, t=t, sig=sig, r=r, k=k)\n",
    "    dm = d(pm='minus', s0=s0, t=t, sig=sig, r=r, k=k)\n",
    "    return s0*norm.cdf(dp)-exp(-r*t)*k*norm.cdf(dm)\n",
    "    "
   ]
  },
  {
   "cell_type": "code",
   "execution_count": 77,
   "id": "fa388c74",
   "metadata": {},
   "outputs": [],
   "source": [
    "from math import log, exp\n",
    "from matplotlib import pyplot as plt\n",
    "from scipy.stats import norm\n",
    "import numpy as np"
   ]
  },
  {
   "cell_type": "code",
   "execution_count": 95,
   "id": "6cc50ebf",
   "metadata": {},
   "outputs": [],
   "source": [
    "# volatility\n",
    "sigma = 1\n",
    "\n",
    "# time\n",
    "T = 1\n",
    "\n",
    "# initial stock price\n",
    "S0 = 1\n",
    "\n",
    "# strike price\n",
    "K = 1\n",
    "\n",
    "# interest rate\n",
    "r=0.02\n",
    "\n",
    "\n",
    "prices1 = []\n",
    "prices2 = []\n",
    "strikes = []\n",
    "frac_size = 10\n",
    "for _ in range(1,frac_size+1):\n",
    "    frac = _/frac_size\n",
    "    K = 2*S0*frac\n",
    "    strikes.append(K)\n",
    "    prices1.append(ECOp(t=1, k=K))\n",
    "    prices2.append(ECOp(t=2, k=K))"
   ]
  },
  {
   "cell_type": "code",
   "execution_count": 96,
   "id": "04c39512",
   "metadata": {},
   "outputs": [
    {
     "name": "stdout",
     "output_type": "stream",
     "text": [
      "[0.8259545016511128, 0.6829453097930832, 0.5712727522241354, 0.48365986541404027, 0.4139595806172845, 0.35769343539370685, 0.31165623490234523, 0.2735332782626122, 0.24162665450509452, 0.21467000762508942]\n",
      "[0.2, 0.4, 0.6, 0.8, 1.0, 1.2, 1.4, 1.6, 1.8, 2.0]\n"
     ]
    }
   ],
   "source": [
    "print(prices1)\n",
    "print(strikes)"
   ]
  },
  {
   "cell_type": "code",
   "execution_count": 97,
   "id": "4623fdd7",
   "metadata": {},
   "outputs": [
    {
     "data": {
      "image/png": "[encoded data removed]",
      "text/plain": [
       "<Figure size 432x288 with 1 Axes>"
      ]
     },
     "metadata": {
      "needs_background": "light"
     },
     "output_type": "display_data"
    }
   ],
   "source": [
    "plt.plot(strikes, prices1, label='t=1')\n",
    "plt.plot(strikes, prices2, label='t=2')\n",
    "#plt.plot(strikes, np.array(prices2)-np.array(prices1))\n",
    "\n",
    "plt.xlabel(\"Strike\")\n",
    "plt.ylabel(\"European call option price\")\n",
    "\n",
    "plt.legend()\n",
    "plt.show()"
   ]
  },
  {
   "cell_type": "code",
   "execution_count": 85,
   "id": "ffdfe9d9",
   "metadata": {},
   "outputs": [],
   "source": [
    "prices = []\n",
    "times = []\n",
    "frac_size = 10\n",
    "for _ in range(1,frac_size+1):\n",
    "    t = _/frac_size\n",
    "    times.append(t)\n",
    "    prices.append(ECOp(t=t))"
   ]
  },
  {
   "cell_type": "code",
   "execution_count": 86,
   "id": "e1c5359d",
   "metadata": {},
   "outputs": [
    {
     "name": "stdout",
     "output_type": "stream",
     "text": [
      "[0.1, 0.2, 0.3, 0.4, 0.5, 0.6, 0.7, 0.8, 0.9, 1.0]\n",
      "[0.1300449666581689, 0.18525784734792855, 0.22770787618247895, 0.26338056630227896, 0.2946192953639579, 0.32263870653570775, 0.3481681370229303, 0.37168799259315954, 0.3935356686585512, 0.4139595806172845]\n"
     ]
    }
   ],
   "source": [
    "print(times)\n",
    "print(prices)"
   ]
  },
  {
   "cell_type": "code",
   "execution_count": 87,
   "id": "51252019",
   "metadata": {},
   "outputs": [
    {
     "data": {
      "text/plain": [
       "[<matplotlib.lines.Line2D at 0x125fe4410>]"
      ]
     },
     "execution_count": 87,
     "metadata": {},
     "output_type": "execute_result"
    },
    {
     "data": {
      "image/png": "[encoded data removed]",
      "text/plain": [
       "<Figure size 432x288 with 1 Axes>"
      ]
     },
     "metadata": {
      "needs_background": "light"
     },
     "output_type": "display_data"
    }
   ],
   "source": [
    "plt.plot(times, prices)"
   ]
  },
  {
   "cell_type": "code",
   "execution_count": null,
   "id": "70f930bc",
   "metadata": {},
   "outputs": [],
   "source": []
  }
 ],
 "metadata": {
  "kernelspec": {
   "display_name": "Python 3",
   "language": "python",
   "name": "python3"
  },
  "language_info": {
   "codemirror_mode": {
    "name": "ipython",
    "version": 3
   },
   "file_extension": ".py",
   "mimetype": "text/x-python",
   "name": "python",
   "nbconvert_exporter": "python",
   "pygments_lexer": "ipython3",
   "version": "3.7.6"
  }
 },
 "nbformat": 4,
 "nbformat_minor": 5
}
