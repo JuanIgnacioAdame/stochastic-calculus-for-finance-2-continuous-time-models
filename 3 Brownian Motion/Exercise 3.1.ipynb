{
 "cells": [
  {
   "cell_type": "markdown",
   "id": "e07b4a5d",
   "metadata": {},
   "source": [
    "### Exercise 3.1"
   ]
  },
  {
   "cell_type": "markdown",
   "id": "87c96033",
   "metadata": {},
   "source": [
    "According to Definition 3.3.3(iii), for $0\\leq t<u$, the Brownian motion $W(u)-W(t)$ is independent of the $\\sigma$-algebra $\\mathcal{F}(t)$.  Use this property and property (i) of that definition to show that, for $0\\leq t<u_1<u_2$, the increment $W(u_2)-W(u_1)$ is also independent of $\\mathcal{F}(t)$."
   ]
  },
  {
   "cell_type": "markdown",
   "id": "f0187678",
   "metadata": {},
   "source": [
    "### Solution 3.1"
   ]
  },
  {
   "cell_type": "markdown",
   "id": "7e901f86",
   "metadata": {},
   "source": [
    "By definition 3.3.3(iii), the increment $W(u_2)-W(u_1)$ is independent of $\\mathcal{F}(u_1)$.  By property (i) (i.e. the \"information accumulates\" property) of that definition, we have that for all $A\\in\\mathcal{F}(t)$, it also holds that $A\\in\\mathcal{F}(u_1)$.  Therefore, $W(u_2)-W(u_1)$ is also independent of \"the smaller\" $\\sigma$-algebra $\\mathcal{F}(t)$. $\\square$"
   ]
  },
  {
   "cell_type": "code",
   "execution_count": null,
   "id": "92802b91",
   "metadata": {},
   "outputs": [],
   "source": []
  }
 ],
 "metadata": {
  "kernelspec": {
   "display_name": "Python 3",
   "language": "python",
   "name": "python3"
  },
  "language_info": {
   "codemirror_mode": {
    "name": "ipython",
    "version": 3
   },
   "file_extension": ".py",
   "mimetype": "text/x-python",
   "name": "python",
   "nbconvert_exporter": "python",
   "pygments_lexer": "ipython3",
   "version": "3.7.6"
  }
 },
 "nbformat": 4,
 "nbformat_minor": 5
}
