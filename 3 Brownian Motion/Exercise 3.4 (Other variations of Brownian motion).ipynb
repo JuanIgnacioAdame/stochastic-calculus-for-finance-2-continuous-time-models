{
 "cells": [
  {
   "cell_type": "markdown",
   "id": "545c626b",
   "metadata": {},
   "source": [
    "### Exercise 3.4"
   ]
  },
  {
   "cell_type": "markdown",
   "id": "bbf5a4d6",
   "metadata": {},
   "source": [
    "Theorem 3.4.3 asserts that if $T$ is a positive number and we choose a partition $\\Pi$ with points $0=t_<t_1\\dots<t_n=T$, then as a the number $n$ of partition points approaches infinity and the length of the longest subinterval $\\|\\Pi\\|$ approaches zero, the sample quadratic variation\n",
    "\\begin{equation}\n",
    "\\sum_{j=0}^{n-1}(W(t_{j+1})-W(t_{j}))^2\n",
    "\\end{equation}\n",
    "approaches $T$ for almost every path of the Brownian motion $W$.  In Remark 3.4.5, we further showed that $\\sum_{j=0}^{n-1}(W(t_{j+1})-W(t_{j}))(t_{j+1}-t_{j})$ and $\\sum_{j=0}^{n-1}(t_{j+1}-t_j)^2$ have limit zero.  We summarize these facts by the multiplication rules\n",
    "\\begin{equation}\n",
    "dW(t)dW(t)=dt, \\quad dW(t)dt=0, \\quad dtdt=0.\n",
    "\\end{equation}"
   ]
  },
  {
   "cell_type": "markdown",
   "id": "28afe34c",
   "metadata": {},
   "source": [
    "### Exercise 3.4.1"
   ]
  },
  {
   "cell_type": "markdown",
   "id": "a13edc28",
   "metadata": {},
   "source": [
    "Show that as the number $m$ of partition points approaches infinity and the length of the longest subinterval approaches zero, the sample first variation\n",
    "\\begin{equation}\n",
    "\\sum_{j=0}^{n-1}|W(t_{j+1})-W(t_{j})|\n",
    "\\end{equation}\n",
    "approaches $\\infty$ for almost every path of the Brownian motion $W$. (Hint:\n",
    "\\begin{equation}\n",
    "\\sum_{j=0}^{n-1}(W(t_{j+1})-W(t_{j}))^2\\leq \\max_{0\\leq k\\leq n-1}|W(t_{k+1})-W(t_k)|\\sum_{j=0}^{n-1}|W(t_{j+1})-W(t_j)|.)\n",
    "\\end{equation}"
   ]
  },
  {
   "cell_type": "markdown",
   "id": "c5f451e9",
   "metadata": {},
   "source": [
    "### Solution 3.4.1"
   ]
  },
  {
   "cell_type": "markdown",
   "id": "ca49c1a5",
   "metadata": {},
   "source": [
    "Rewriting the hint, we have\n",
    "\\begin{equation}\n",
    "\\sum_{j=0}^{n-1}|W(t_{j+1})-W(t_j)|\\geq\\frac{\\sum_{j=0}^{n-1}(W(t_{j+1})-W(t_{j}))^2}{\\max_{0\\leq k\\leq n-1}|W(t_{k+1})-W(t_k)|}.\n",
    "\\end{equation}\n",
    "The numerator is simply the sample quadratic variation, and hence approaches $T$ as $\\|\\Pi\\|\\rightarrow0$.  As for the denominator, recall that $W$ is continuous in the variable $t$, and hence $\\max_{0\\leq k\\leq n-1}|W(t_{k+1})-W(t_k)|\\rightarrow 0$ as $\\|\\Pi\\|\\rightarrow0$.  In short, we have\n",
    "\\begin{equation}\n",
    "\\lim_{\\|\\Pi\\|\\rightarrow0}\\sum_{j=0}^{n-1}|W(t_{j+1})-W(t_j)|\\geq\\lim_{\\|\\Pi\\|\\rightarrow0}\\frac{\\sum_{j=0}^{n-1}(W(t_{j+1})-W(t_{j}))^2}{\\max_{0\\leq k\\leq n-1}|W(t_{k+1})-W(t_k)|}=\\frac{T}{0}=\\infty.\n",
    "\\end{equation}"
   ]
  },
  {
   "cell_type": "markdown",
   "id": "47f25fe7",
   "metadata": {},
   "source": [
    "### Exercise 3.4.2"
   ]
  },
  {
   "cell_type": "markdown",
   "id": "032e3b92",
   "metadata": {},
   "source": [
    "Show that as the number $n$ of partition points approaches infinity and the length of hte longest subinterval approaches zero, the sample cubic variation\n",
    "\\begin{equation}\n",
    "\\sum_{j=0}^{n-1}|W(t_{j+1})-W(t_j)|^3\n",
    "\\end{equation}\n",
    "approaches zero for almost every path of the Brownian motion $W$."
   ]
  },
  {
   "cell_type": "markdown",
   "id": "5bf99a7c",
   "metadata": {},
   "source": [
    "### Solution 3.4.2"
   ]
  },
  {
   "cell_type": "markdown",
   "id": "6d5b750b",
   "metadata": {},
   "source": [
    "First we note that\n",
    "\\begin{equation}\n",
    "\\sum_{j=0}^{n-1}|W(t_{j+1})-W(t_j)|^3\\leq \\max_{0\\leq k\\leq n-1}|W(t_{k+1})-W(t_k)|\\sum_{j=0}^{n-1}(W(t_{j+1})-W(t_{j}))^2,\n",
    "\\end{equation}\n",
    "and therefore\n",
    "\\begin{equation}\n",
    "\\lim_{\\|Pi\\|\\rightarrow0}\\sum_{j=0}^{n-1}|W(t_{j+1})-W(t_j)|^3\\leq \\lim_{\\|Pi\\|\\rightarrow0}\\max_{0\\leq k\\leq n-1}|W(t_{k+1})-W(t_k)|\\sum_{j=0}^{n-1}(W(t_{j+1})-W(t_{j}))^2=0\\times T=0. \\square\n",
    "\\end{equation}"
   ]
  },
  {
   "cell_type": "code",
   "execution_count": null,
   "id": "1a97dcef",
   "metadata": {},
   "outputs": [],
   "source": []
  }
 ],
 "metadata": {
  "kernelspec": {
   "display_name": "Python 3",
   "language": "python",
   "name": "python3"
  },
  "language_info": {
   "codemirror_mode": {
    "name": "ipython",
    "version": 3
   },
   "file_extension": ".py",
   "mimetype": "text/x-python",
   "name": "python",
   "nbconvert_exporter": "python",
   "pygments_lexer": "ipython3",
   "version": "3.7.6"
  }
 },
 "nbformat": 4,
 "nbformat_minor": 5
}
