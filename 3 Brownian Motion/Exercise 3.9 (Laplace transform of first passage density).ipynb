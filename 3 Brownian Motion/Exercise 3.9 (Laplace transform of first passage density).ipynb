{
 "cells": [
  {
   "cell_type": "markdown",
   "metadata": {},
   "source": [
    "### Exercise 3.9"
   ]
  },
  {
   "cell_type": "markdown",
   "metadata": {},
   "source": [
    "Let  $m>0$ be given, and define\n",
    "\\begin{equation}\n",
    "f(t)=\\frac{m}{t\\sqrt{2\\pi t}}\\exp\\left\\{-\\frac{m^2}{2t}\\right\\}.\n",
    "\\end{equation}\n",
    "According to $(3.7.3)$ in Theorem $3.7.1$, $f(t)$ is the density of the first passage time\n",
    "\\begin{equation}\n",
    "\\tau_m=\\min\\{t\\geq 0;W(t)=m\\},\n",
    "\\end{equation}\n",
    "where $W$ is a Brownian motion without drift.  Let\n",
    "\\begin{equation}\n",
    "g(\\alpha)=\\int_{0}^{\\infty}e^{-\\alpha t}f(t)dt, \\quad \\alpha>0,\n",
    "\\end{equation}\n",
    "be the Laplace transform of the density $f(t,m)$.  This problem verifies directly without resort to the probablistic arguments of this chapter, that \n",
    "\\begin{equation}\n",
    "g(\\alpha)=e^{-m\\sqrt{2\\alpha}}, \\quad \\alpha>0,\n",
    "\\end{equation}\n",
    "which is the formula derived in Theorem $3.6.2$."
   ]
  },
  {
   "cell_type": "markdown",
   "metadata": {},
   "source": [
    "### Exercise 3.9.1"
   ]
  },
  {
   "cell_type": "markdown",
   "metadata": {},
   "source": [
    "For positive numbers $a$ and $b$, define\n",
    "\\begin{equation}\n",
    "I(a,b)=\\int_{0}^{\\infty}\\exp\\left\\{-a^2x^2-\\frac{b^2}{x^2}\\right\\}dx.\n",
    "\\end{equation}\n",
    "Make the change of variable $y=\\frac{b}{ax}$ to show that\n",
    "\\begin{align}\n",
    "I(a,b)&=\\frac{b}{a}\\int_{0}^{\\infty}\\frac{1}{y^2}\\exp\\left\\{-a^2y^2-\\frac{b^2}{y^2}\\right\\}dy\\\\\n",
    "&=\\frac{b}{a}\\int_{0}^{\\infty}\\frac{1}{x^2}\\exp\\left\\{-a^2x^2-\\frac{b^2}{x^2}\\right\\}dx.\n",
    "\\end{align}"
   ]
  },
  {
   "cell_type": "markdown",
   "metadata": {},
   "source": [
    "### Solution 3.9.1"
   ]
  },
  {
   "cell_type": "markdown",
   "metadata": {},
   "source": [
    "Let us make the change of variable $y=\\frac{b}{ax}$.  We first derive the new limits of integration.  These become\n",
    "\\begin{align}\n",
    "y(x=0)&=\\frac{b}{a0}=\\infty,\\\\\n",
    "y(x=\\infty)&=\\frac{b}{a\\infty}=0.\n",
    "\\end{align}"
   ]
  },
  {
   "cell_type": "markdown",
   "metadata": {},
   "source": [
    "We now determine $dx(dy)$, i.e., $dx$ as a function of $dy$.\n",
    "\\begin{gather}\n",
    "y=\\frac{b}{ax}\\Rightarrow\\\\\n",
    "dy=-\\frac{b}{ax^2}dx\\Rightarrow\\\\\n",
    "-\\frac{a}{b}\\underbrace{x^2}_{=\\frac{b^2}{a^2y^2}}dy=dx\\Rightarrow\\\\\n",
    "-\\frac{b}{a}\\frac{1}{y^2}dy=x.\n",
    "\\end{gather}"
   ]
  },
  {
   "cell_type": "markdown",
   "metadata": {},
   "source": [
    "Finally, we determine the new integrand.  This becomes\n",
    "\\begin{align}\n",
    "\\exp\\left\\{-a^2x^2-\\frac{b^2}{x^2}\\right\\}&=\\exp\\left\\{-a^2\\frac{b^2}{a^2y^2}-b^2\\frac{y^2a^2}{b^2}\\right\\}\\\\\n",
    "&=\\exp\\left\\{-\\frac{b^2}{y^2}-y^2a^2\\right\\}.\n",
    "\\end{align}"
   ]
  },
  {
   "cell_type": "markdown",
   "metadata": {},
   "source": [
    "Putting all this together, we get that the new integral becomes\n",
    "\\begin{align}\n",
    "\\int_{0}^{\\infty}\\exp\\left\\{-a^2x^2-\\frac{b^2}{x^2}\\right\\}dx&=\\int_{\\infty}^{0}\\exp\\left\\{-\\frac{b^2}{y^2}-y^2a^2\\right\\}-\\frac{b}{a}\\frac{1}{y^2}dy\\\\\n",
    "&=\\frac{b}{a}\\int_{0}^{\\infty}\\frac{1}{y^2}\\exp\\left\\{-y^2a^2-\\frac{b^2}{y^2}\\right\\}dy,\n",
    "\\end{align}\n",
    "as desired. $\\square$"
   ]
  },
  {
   "cell_type": "markdown",
   "metadata": {},
   "source": [
    "### Exercise 3.9.2"
   ]
  },
  {
   "cell_type": "markdown",
   "metadata": {},
   "source": [
    "Sum the two equations for $I(a,b)$ in part (i) and divide by 2 to obtain\n",
    "\\begin{equation}\n",
    "I(a,b)=\\frac{1}{2a}\\int_{0}^{\\infty}\\left(a+\\frac{b}{x^2}\\right)\\exp\\left\\{-ax^2-\\frac{b^2}{x^2}\\right\\}dx.\n",
    "\\end{equation}\n",
    "Make the change of variable $t=ax-b/x$ and show that\n",
    "\\begin{equation}\n",
    "I(a,b)=\\frac{\\sqrt{\\pi}}{2a}e^{-2ab}.\n",
    "\\end{equation}\n",
    "(Hint: Consider the normal density with mean zero and variance $1/2$.)"
   ]
  },
  {
   "cell_type": "markdown",
   "metadata": {},
   "source": [
    "### Solution 3.9.2"
   ]
  },
  {
   "cell_type": "markdown",
   "metadata": {},
   "source": [
    "First we sum the two equations in part (i) and divive by 2.  This gives\n",
    "\\begin{align}\n",
    "&\\frac{1}{2}\\int_{0}^{\\infty}\\exp\\left\\{-a^2x^2-\\frac{b^2}{x^2}\\right\\}dx+\\frac{b}{2a}\\int_{0}^{\\infty}\\frac{1}{x^2}\\exp\\left\\{-a^2x^2-\\frac{b^2}{x^2}\\right\\}dx\\\\\n",
    "&=\\int_{0}^{\\infty}\\frac{a}{2a}\\exp\\left\\{-a^2x^2-\\frac{b^2}{x^2}\\right\\}+\\frac{b}{2a}\\frac{1}{x^2}\\exp\\left\\{-a^2x^2-\\frac{b^2}{x^2}\\right\\} dx\\\\\n",
    "&=\\frac{1}{2a}\\int_{0}^{\\infty}a\\exp\\left\\{-a^2x^2-\\frac{b^2}{x^2}\\right\\}+\\frac{b}{x^2}\\exp\\left\\{-a^2x^2-\\frac{b^2}{x^2}\\right\\} dx\\\\\n",
    "&=\\frac{1}{2a}\\int_{0}^{\\infty}\\left(a+\\frac{b}{x^2}\\right)\\exp\\left\\{-a^2x^2-\\frac{b^2}{x^2}\\right\\}dx,\n",
    "\\end{align}\n",
    "which establishes the first result."
   ]
  },
  {
   "cell_type": "markdown",
   "metadata": {},
   "source": [
    "Now let us make the change of variable $t=ax-b/x$.  First we derive the new limits of integration.  These are\n",
    "\\begin{align}\n",
    "t(x=0)&=a0-b/0=-\\infty,\\\\\n",
    "t(x=\\infty)&=a\\infty-b/\\infty=\\infty.\n",
    "\\end{align}"
   ]
  },
  {
   "cell_type": "markdown",
   "metadata": {},
   "source": [
    "Now we must find $dx$ as a function of $dt$.  This is given by\n",
    "\\begin{align}\n",
    "t=ax-b/x\\Rightarrow\\\\\n",
    "dt=adx+b/x^2dx\\Rightarrow\\\\\n",
    "\\frac{dt}{(a+\\frac{b}{x^2})}=dx.\n",
    "\\end{align}"
   ]
  },
  {
   "cell_type": "markdown",
   "metadata": {},
   "source": [
    "Finally, we determine the new integrand.  But first, note that\n",
    "\\begin{gather}\n",
    "t=ax-b/x\\Rightarrow\\\\\n",
    "t^2=a^2x^2-2(ax)(b/x)+b^2/x^2\\\\\n",
    "-t^2-2ab=-a^2x^2-b^2/x^2.\n",
    "\\end{gather}\n",
    "Using this, we have\n",
    "\\begin{gather}\n",
    "\\left(a+\\frac{b}{x^2}\\right)\\exp\\left\\{-a^2x^2-\\frac{b^2}{x^2}\\right\\}dx=\\\\\n",
    "\\left(a+\\frac{b}{x^2}\\right)\\exp\\left\\{-t^2-2ab\\right\\}\\frac{dt}{(a+\\frac{b}{x^2})}\\\\\n",
    "\\exp\\left\\{-t^2-2ab\\right\\}dt.\n",
    "\\end{gather}"
   ]
  },
  {
   "cell_type": "markdown",
   "metadata": {},
   "source": [
    "We may now put this all together to obtain the final result.\n",
    "\\begin{align}\n",
    "\\frac{1}{2a}&\\int_{0}^{\\infty}\\left(a+\\frac{b}{x^2}\\right)\\exp\\left\\{-a^2x^2-\\frac{b^2}{x^2}\\right\\}dx\\\\\n",
    "&=\\frac{1}{2a}\\int_{-\\infty}^{\\infty}\\exp\\left\\{-t^2-2ab\\right\\}dt\\\\\n",
    "&=\\frac{1}{2a}e^{-2ab}\\int_{-\\infty}^{\\infty}e^{-t^2}dt\\\\\n",
    "&=\\frac{1}{2a}e^{-2ab}\\underbrace{\\frac{\\sqrt{1/2}\\sqrt{2\\pi}}{1}}_{\\sqrt{\\pi}}\\underbrace{\\int_{-\\infty}^{\\infty}\\frac{1}{\\sqrt{1/2}\\sqrt{2\\pi}}e^{-\\frac{1}{2}\\frac{t^2}{1/2}}dt}_{=1}\\\\\n",
    "&=\\frac{1}{2a}e^{-2ab}\\sqrt{\\pi}. \\square\n",
    "\\end{align}"
   ]
  },
  {
   "cell_type": "markdown",
   "metadata": {},
   "source": [
    "### Exercise 3.9.3"
   ]
  },
  {
   "cell_type": "markdown",
   "metadata": {},
   "source": [
    "Make the change of variable $x=t^{-1/2}$ in the definition of $g(\\alpha)$ and conclude from (ii) that\n",
    "\\begin{equation}\n",
    "g(\\alpha)=\\frac{2m}{\\sqrt{2\\pi}}I(m/\\sqrt{2},\\sqrt{\\alpha})=e^{-m\\sqrt{2\\alpha}}.\n",
    "\\end{equation}"
   ]
  },
  {
   "cell_type": "markdown",
   "metadata": {},
   "source": [
    "### Solution 3.9.3"
   ]
  },
  {
   "cell_type": "markdown",
   "metadata": {},
   "source": [
    "Let us make the change of variable $x=t^{-1/2}$.  First we derive the new limits of integration.\n",
    "\\begin{align}\n",
    "x(t=0)&=0^{-1/2}=\\infty,\\\\\n",
    "x(t=\\infty)&=\\infty^{-1/2}=0.\n",
    "\\end{align}"
   ]
  },
  {
   "cell_type": "markdown",
   "metadata": {},
   "source": [
    "Now we must find $dt$ as a function of $dx$.\n",
    "\\begin{align}\n",
    "x=t^{-1/2}\\Rightarrow\n",
    "dx=-\\frac{1}{2}t^{-3/2}dt\\Rightarrow\\\\\n",
    "-2\\underbrace{t^{3/2}}_{=x^{-3}}dx=dt\\Rightarrow\\\\\n",
    "-2x^{-3}dx=dt.\n",
    "\\end{align}"
   ]
  },
  {
   "cell_type": "markdown",
   "metadata": {},
   "source": [
    "Finally we must derive the new integrand.  We will need the following series of calculations.  First,\n",
    "\\begin{align}\n",
    "f(\\underbrace{t}_{=x^{-2}})&=f(x^{-2})\\\\\n",
    "&=\\frac{m}{x^{-2}\\sqrt{2\\pi x^{-2}}}\\exp\\left\\{-\\frac{m^2}{2x^{-2}}\\right\\}.\n",
    "\\end{align}\n",
    "Second,\n",
    "\\begin{align}\n",
    "e^{-\\alpha t}=e^{-\\alpha x^{-2}}.\n",
    "\\end{align}"
   ]
  },
  {
   "cell_type": "markdown",
   "metadata": {},
   "source": [
    "Using all the results above, we obtain\n",
    "\\begin{align}\n",
    "g(\\alpha)&=\\int_{0}^{\\infty}e^{-\\alpha t}f(t)dt\\\\\n",
    "&=\\int_{\\infty}^{0}e^{-\\alpha x^{-2}}\\frac{m}{x^{-2}\\sqrt{2\\pi x^{-2}}}\\exp\\left\\{-\\frac{m^2}{2x^{-2}}\\right\\}(-2x^{-3})dx\\\\\n",
    "&=\\frac{2m}{\\sqrt{2\\pi}}\\int_{0}^{\\infty}\\exp\\left\\{-\\frac{m^2}{2}x^2-\\frac{\\alpha}{x^2}\\right\\}dx.\n",
    "\\end{align}"
   ]
  },
  {
   "cell_type": "markdown",
   "metadata": {},
   "source": [
    "Note that if we let $a^2=\\frac{m^2}{2}\\Rightarrow a=\\frac{m}{\\sqrt{2}}$ and $b^2=\\alpha\\Rightarrow b=\\sqrt{\\alpha}$, then the expression above can be rewritten as\n",
    "\\begin{align}\n",
    "\\frac{2m}{\\sqrt{2\\pi}}I(m/\\sqrt{2}, \\sqrt{\\alpha})&=\\frac{2m}{\\sqrt{2\\pi}}\\frac{\\sqrt{\\pi}}{2m/\\sqrt{2}}e^{-2m/\\sqrt{2}\\sqrt{\\alpha}}\\\\\n",
    "&=e^{-m\\sqrt{2\\alpha}}.\n",
    "\\end{align}\n",
    "This establishes the final desired result. $\\square$"
   ]
  },
  {
   "cell_type": "code",
   "execution_count": null,
   "metadata": {},
   "outputs": [],
   "source": []
  }
 ],
 "metadata": {
  "kernelspec": {
   "display_name": "Python 3",
   "language": "python",
   "name": "python3"
  },
  "language_info": {
   "codemirror_mode": {
    "name": "ipython",
    "version": 3
   },
   "file_extension": ".py",
   "mimetype": "text/x-python",
   "name": "python",
   "nbconvert_exporter": "python",
   "pygments_lexer": "ipython3",
   "version": "3.7.6"
  }
 },
 "nbformat": 4,
 "nbformat_minor": 4
}
