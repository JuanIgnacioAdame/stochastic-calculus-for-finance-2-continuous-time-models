{
 "cells": [
  {
   "cell_type": "markdown",
   "id": "67a8be2f",
   "metadata": {},
   "source": [
    "### Exercise 3.6"
   ]
  },
  {
   "cell_type": "markdown",
   "id": "76a23a7f",
   "metadata": {},
   "source": [
    "Let $W(t)$ be a Brownian motion and let $\\mathcal{F}(t), t\\geq 0$, be an associated filtration."
   ]
  },
  {
   "cell_type": "markdown",
   "id": "b6ba9618",
   "metadata": {},
   "source": [
    "### Exercise 3.6.1"
   ]
  },
  {
   "cell_type": "markdown",
   "id": "ab27b78b",
   "metadata": {},
   "source": [
    "For $\\mu\\in\\mathbb{R}$, consider the *Brownian motion with drift* $\\mu$:\n",
    "\\begin{equation}\n",
    "X(t)=\\mu t+W(t).\n",
    "\\end{equation}\n",
    "Show that for any Borel-measurable function $f(y)$, and for any $0\\leq s<t$, the function\n",
    "\\begin{equation}\n",
    "g(x)=\\frac{1}{\\sqrt{2\\pi(t-s)}}\\int_{-\\infty}^{\\infty}f(y)\\exp\\left\\{-\\frac{(y-x-\\mu(t-s))^2}{2(t-s)}\\right\\}dy\n",
    "\\end{equation}\n",
    "satisfies $\\mathbb{E}[f(X(t))|\\mathcal{F}(s)]=g(X(s))$, and hence $X$ has the Markov property.  We may rewrite $g(x)$ as $g(x)=\\int_{-\\infty}^{\\infty}f(y)p(\\tau,x,y)dy$, where $\\tau=t-s$ and\n",
    "\\begin{equation}\n",
    "p(t,x,y)=\\frac{1}{\\sqrt{2\\pi\\tau}}\\exp\\left\\{-\\frac{(y-x-\\mu\\tau)^2}{2\\tau}\\right\\}\n",
    "\\end{equation}\n",
    "is the transition density for Brownian motion with drift $\\mu$."
   ]
  },
  {
   "cell_type": "markdown",
   "id": "b16deef1",
   "metadata": {},
   "source": [
    "### Solution 3.6.1"
   ]
  },
  {
   "cell_type": "markdown",
   "id": "b75685d6",
   "metadata": {},
   "source": [
    "First, note that we can rewrite\n",
    "\\begin{align}\n",
    "X(t)=X(t)\\underbrace{-X(s)+X(s)}_{=1}&=\\mu t+W(t)-\\mu s-W(s)+\\mu s+W(s)\\\\\n",
    "&=\\mu (t-s)+\\underbrace{\\mu s+W(s)}_{=X(s)}+W(t)-W(s)\\\\\n",
    "&=\\mu(t-s)+X(s)+W(t)-W(s).\n",
    "\\end{align}"
   ]
  },
  {
   "cell_type": "markdown",
   "id": "edab788c",
   "metadata": {},
   "source": [
    "In particular, this means that\n",
    "\\begin{equation}\n",
    "f(X(t))=f(\\mu(t-s)+X(s)+W(t)-W(s)).\n",
    "\\end{equation}"
   ]
  },
  {
   "cell_type": "markdown",
   "id": "40e5b456",
   "metadata": {},
   "source": [
    "Note that $X(s)$ is $\\mathcal{F}(s)$-measurable, and $W(t)-W(s)$ is independent of $\\mathcal{F}(s)$ (and of course $\\mu(t-s)$ is in fact not random).  Then the Independence Lemma 2.3.4 tells us that if we define the function $g(x)$ of the dummy variable $x$ as\n",
    "\\begin{equation}\n",
    "g(x)=\\mathbb{E}f(\\mu(t-s)+x+W(t)-W(s)),\n",
    "\\end{equation}\n",
    "then in fact\n",
    "\\begin{equation}\n",
    "g(X(s))=\\mathbb{E}[f(\\mu(t-s)+X(s)+W(t)-W(s))|\\mathcal{F}(s)]=\\mathbb{E}[f(X(t))|\\mathcal{F}(s)].\n",
    "\\end{equation}\n",
    "It remains only to further simplify the expression $\\mathbb{E}f(\\mu(t-s)+x+W(t)-W(s))$."
   ]
  },
  {
   "cell_type": "markdown",
   "id": "2cf1410a",
   "metadata": {},
   "source": [
    "By Definition 3.3.1, we have that the random variable $W(t)-W(s)$ has density\n",
    "\\begin{equation}\n",
    "\\varphi(z)=\\frac{1}{\\sqrt{(t-s)2\\pi}}e^{-\\frac{1}{2}\\frac{z^2}{t-s}},\n",
    "\\end{equation}\n",
    "and so Theorem 1.5.2 tells us that\n",
    "\\begin{equation}\n",
    "\\mathbb{E}f(\\mu(t-s)+x+W(t)-W(s))=\\int_{-\\infty}^{\\infty}f(\\mu(t-s)+x+z)\\varphi(z)dz.\n",
    "\\end{equation}\n",
    "If we make the variable substitution $y=\\mu(t-s)+x+z$, then $z=y-x-\\mu(t-s)$, $dy=dz$, $y(z=-\\infty)=-\\infty$, and $y(z=\\infty)=\\infty$, so the above integral can be rewritten as\n",
    "\\begin{equation}\n",
    "\\int_{-\\infty}^{\\infty}f(y)\\varphi(y-x-\\mu(t-s))dy=\\int_{-\\infty}^{\\infty}f(y)\\frac{1}{\\sqrt{(t-s)2\\pi}}e^{-\\frac{1}{2}\\frac{(y-x-\\mu(t-s))^2}{(t-s)}}dy,\n",
    "\\end{equation}\n",
    "which establishes the desired result. $\\square$"
   ]
  },
  {
   "cell_type": "markdown",
   "id": "6c381336",
   "metadata": {},
   "source": [
    "### Exercise 3.6.2"
   ]
  },
  {
   "cell_type": "markdown",
   "id": "8ea7e819",
   "metadata": {},
   "source": [
    "For $\\nu\\in\\mathbb{R}$ and $\\sigma>0$, consider the *geometric Brownian motion*\n",
    "\\begin{equation}\n",
    "S(t)=S(0)e^{\\sigma W(t)+\\nu t}.\n",
    "\\end{equation}\n",
    "Set $\\tau=t-s$ and\n",
    "\\begin{equation}\n",
    "p(\\tau,x,y)=\\frac{1}{\\sigma y\\sqrt{2\\pi\\tau}}\\exp\\left\\{-\\frac{(\\log\\frac{y}{x}-\\mu\\tau)^2}{2\\sigma^2\\tau}\\right\\}.\n",
    "\\end{equation}\n",
    "Show that for any Borel-measurable function $f(y)$ and for any $0\\leq s<t$ the function $g(x)=\\int_{0}^{\\infty}f(y)p(\\tau,x,y)dy$ satisfies $\\mathbb{E}\\left[f(S(t))|\\mathcal{F}(s)\\right]=g(S(s))$ and hence $S$ has the Markov property and $p(\\tau,x,y)$ is its transition density."
   ]
  },
  {
   "cell_type": "markdown",
   "id": "2faede20",
   "metadata": {},
   "source": [
    "### Solution 3.6.2"
   ]
  },
  {
   "cell_type": "markdown",
   "id": "3f9247e2",
   "metadata": {},
   "source": [
    "First, note that\n",
    "\\begin{align}\n",
    "S(t)&=S(0)e^{\\sigma W(t)+\\nu t}\\\\\n",
    "&=S(0)e^{\\sigma W(t)+\\nu t}\\underbrace{e^{-\\sigma W(s)-\\nu s}e^{\\sigma W(s)+\\nu s}}_{=1}\\\\\n",
    "&=\\underbrace{S(0)e^{W(s)+\\nu s}}_{=S(s)}e^{\\nu\\tau}e^{\\sigma(W(t)-W(s))}\\\\\n",
    "&=S(s)e^{\\nu\\tau}e^{\\sigma(W(t)-W(s))}.\n",
    "\\end{align}\n",
    "In particular, this means that\n",
    "\\begin{equation}\n",
    "f(S(t))=f(S(s)e^{\\nu\\tau}e^{\\sigma(W(t)-W(s))}).\n",
    "\\end{equation}"
   ]
  },
  {
   "cell_type": "markdown",
   "id": "007165c5",
   "metadata": {},
   "source": [
    "Observe that $S(s)$ is $\\mathcal{F}(s)$-measurable, $e^{\\nu\\tau}$ is in fact not random, and $e^{\\sigma(W(t)-W(s))}$ is independent of $\\mathcal{F}(s)$.  Then the Independence Lemma 2.3.4 tells us that if we define the function $g(x)$ of the dummy variable $x$ by\n",
    "\\begin{equation}\n",
    "g(x):=\\mathbb{E}f(xe^{\\nu\\tau}e^{\\sigma(W(t)-W(s))}),\n",
    "\\end{equation}\n",
    "then in fact\n",
    "\\begin{equation}\n",
    "g(S(s))=\\mathbb{E}\\left[f(S(s)e^{\\nu\\tau}e^{\\sigma(W(t)-W(s))})|\\mathcal{F}(s)\\right]=\\mathbb{E}\\left[f(S(t))|\\mathcal{F}(s)\\right].\n",
    "\\end{equation}\n",
    "It only remains to further simplify the expression $\\mathbb{E}f(xe^{\\nu\\tau}e^{\\sigma(W(t)-W(s))})$."
   ]
  },
  {
   "cell_type": "markdown",
   "id": "c408e88d",
   "metadata": {},
   "source": [
    "By Definition 3.3.1, we have that the random variable $W(t)-W(s)$ has density\n",
    "\\begin{equation}\n",
    "\\varphi(z)=\\frac{1}{\\sqrt{\\tau2\\pi}}e^{-\\frac{1}{2}\\frac{z^2}{\\tau}},\n",
    "\\end{equation}\n",
    "and so Theorem 1.5.2 tells us that\n",
    "\\begin{equation}\n",
    "\\mathbb{E}f(xe^{\\nu\\tau}e^{\\sigma(W(t)-W(s))})=\\int_{-\\infty}^{\\infty}f(xe^{\\nu\\tau}e^{\\sigma z})\\frac{1}{\\sqrt{\\tau2\\pi}}e^{-\\frac{1}{2}\\frac{z^2}{\\tau}}dz.\n",
    "\\end{equation}"
   ]
  },
  {
   "cell_type": "markdown",
   "id": "8530ae0b",
   "metadata": {},
   "source": [
    "If we make the variable substitution\n",
    "\\begin{equation}\n",
    "y=xe^{\\nu\\tau}e^{\\sigma z},\n",
    "\\end{equation}\n",
    "then\n",
    "\\begin{align}\n",
    "&y(z=\\infty)=xe^{\\nu\\tau}e^{\\sigma \\infty}=\\infty,\\\\\n",
    "&y(z=-\\infty)=xe^{\\nu\\tau}e^{\\sigma (-\\infty)}=0,\\\\\n",
    "&dy=\\sigma\\underbrace{xe^{\\nu\\tau}e^{\\sigma z}}_{=y}dz=\\sigma y dz, \\text{ and}\\\\\n",
    "&z=\\frac{\\log\\frac{y}{x}-\\nu\\tau}{\\sigma}.\n",
    "\\end{align}"
   ]
  },
  {
   "cell_type": "markdown",
   "id": "f52ed862",
   "metadata": {},
   "source": [
    "This means we can rewrite the integral of interest as\n",
    "\\begin{equation}\n",
    "\\int_{0}^{\\infty}f(y)\\frac{1}{\\sqrt{\\tau2\\pi}}e^{-\\frac{1}{2}\\frac{\\left(\\frac{\\log\\frac{y}{x}-\\nu\\tau}{\\sigma}\\right)^2}{\\tau}}\\frac{1}{\\sigma y}dy=\\int_{0}^{\\infty}f(y)\\frac{1}{\\sigma y\\sqrt{\\tau 2\\pi}}\\exp\\left\\{-\\frac{(\\log\\frac{y}{x}-\\nu\\tau)^2}{2\\sigma^2\\tau}\\right\\}.\n",
    "\\end{equation}\n",
    "This establishes the desired result. $\\square$"
   ]
  },
  {
   "cell_type": "code",
   "execution_count": null,
   "id": "8346444c",
   "metadata": {},
   "outputs": [],
   "source": []
  }
 ],
 "metadata": {
  "kernelspec": {
   "display_name": "Python 3",
   "language": "python",
   "name": "python3"
  },
  "language_info": {
   "codemirror_mode": {
    "name": "ipython",
    "version": 3
   },
   "file_extension": ".py",
   "mimetype": "text/x-python",
   "name": "python",
   "nbconvert_exporter": "python",
   "pygments_lexer": "ipython3",
   "version": "3.7.6"
  }
 },
 "nbformat": 4,
 "nbformat_minor": 5
}
