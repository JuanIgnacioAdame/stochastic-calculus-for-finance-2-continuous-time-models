{
 "cells": [
  {
   "cell_type": "markdown",
   "metadata": {},
   "source": [
    "### Exercise 3.7"
   ]
  },
  {
   "cell_type": "markdown",
   "metadata": {},
   "source": [
    "Theorem 3.6.2 provides the Laplace transform of the density of the first passage time for Brownian motion.  This problem dervies the analogous formula for Brownian motion with drift.  Let $W$ be a Brownian motion.  For $m>0$ and $\\mu\\in\\mathbb{R}$.  For $0\\leq t<\\infty$, define\n",
    "\\begin{align}\n",
    "&X(t)=\\mu t+W(t),\\\\\n",
    "&\\tau_m=\\min\\{t\\geq 0; X(t)=m\\}.\n",
    "\\end{align}\n",
    "As usual, we set $\\tau_m=\\infty$ if $X(t)$ never reaches the level $m$.  Let $\\sigma$ be a positive number and set\n",
    "\\begin{equation}\n",
    "Z(t)=\\exp\\{\\sigma X(t)-(\\sigma\\mu+\\frac{1}{2}\\sigma^2)t\\}.\n",
    "\\end{equation}"
   ]
  },
  {
   "cell_type": "markdown",
   "metadata": {},
   "source": [
    "### Exercise 3.7.1"
   ]
  },
  {
   "cell_type": "markdown",
   "metadata": {},
   "source": [
    "Show that $Z(t), t\\geq 0,$ is a martingale."
   ]
  },
  {
   "cell_type": "markdown",
   "metadata": {},
   "source": [
    "### Solution 3.7.1"
   ]
  },
  {
   "cell_type": "markdown",
   "metadata": {},
   "source": [
    "This follows from a simple calculation.  First, note that\n",
    "\\begin{equation}\n",
    "Z(t)=\\exp\\{\\sigma X(t)-(\\sigma\\mu+\\frac{1}{2}\\sigma^2)t\\}=\\exp\\{\\sigma(\\mu t+W(t))-(\\sigma\\mu+\\frac{1}{2}\\sigma^2)t\\}=\\exp\\{\\sigma W(t)-\\frac{1}{2}\\sigma^2t\\}.\n",
    "\\end{equation}\n",
    "We see that $Z(t)$ as defined in this exercise is in fact the same $Z(t)$ that is proven to be a martingale in Theorem 3.6.1. $\\square$"
   ]
  },
  {
   "cell_type": "markdown",
   "metadata": {},
   "source": [
    "### Exercise 3.7.2"
   ]
  },
  {
   "cell_type": "markdown",
   "metadata": {},
   "source": [
    "Use 3.7.1 above to conlude that\n",
    "\\begin{equation}\n",
    "\\mathbb{E}\\left[\\exp\\{\\sigma X(t\\land\\tau_m)-(\\sigma\\mu+\\frac{1}{2}\\sigma^2)(t\\land\\tau_m)\\}\\right]=1, \\quad t\\geq 0.\n",
    "\\end{equation}"
   ]
  },
  {
   "cell_type": "markdown",
   "metadata": {},
   "source": [
    "### Solution 3.7.2"
   ]
  },
  {
   "cell_type": "markdown",
   "metadata": {},
   "source": [
    "Similar to the discussion following Theorem 3.6.1, we first note that a martingale \"frozen\" at a stopping time is still a martingale and hence must have constant expectation.  Hence,\n",
    "\\begin{equation}\n",
    "1=Z(0)=\\mathbb{E}Z(t\\land\\tau_m)=\\mathbb{E}\\left[\\exp\\{\\sigma X(t\\land\\tau_m)-(\\sigma\\mu+\\frac{1}{2}\\sigma^2)(t\\land\\tau_m)\\}\\right]. \\square\n",
    "\\end{equation}"
   ]
  },
  {
   "cell_type": "markdown",
   "metadata": {},
   "source": [
    "### Exercise 3.7.3"
   ]
  },
  {
   "cell_type": "markdown",
   "metadata": {},
   "source": [
    "Now suppose $\\mu\\geq 0$.  Show that, for $\\sigma>0$,\n",
    "\\begin{equation}\n",
    "\\mathbb{E}\\left[\\exp\\left\\{\\sigma m-\\left(\\sigma\\mu+\\frac{1}{2}\\sigma^2\\right)\\tau_m\\right\\}\\mathbb{I}_{\\{\\tau_m<\\infty\\}}\\right]=1.\n",
    "\\end{equation}\n",
    "Use this fact to show $\\mathbb{P}\\{\\tau_m<\\infty\\}=1$ and to obtain the Laplace transform\n",
    "\\begin{equation}\n",
    "\\mathbb{E}e^{-\\alpha\\tau_m}=e^{m\\mu-m\\sqrt{2\\alpha+\\mu^2}} \\text{  for all  } \\alpha>0.\n",
    "\\end{equation}"
   ]
  },
  {
   "cell_type": "markdown",
   "metadata": {},
   "source": [
    "### Solution 3.7.3"
   ]
  },
  {
   "cell_type": "markdown",
   "metadata": {},
   "source": [
    "There are two cases to consider: $\\tau_m<\\infty$, and $\\tau_m=\\infty$."
   ]
  },
  {
   "cell_type": "markdown",
   "metadata": {},
   "source": [
    "If $\\tau_m<\\infty$, then\n",
    "\\begin{align}\n",
    "\\lim_{t\\rightarrow\\infty}\\exp\\{\\sigma X(t\\land\\tau_m)-(\\sigma\\mu+\\frac{1}{2}\\sigma^2)(t\\land\\tau_m)\\}&=\\exp\\{\\sigma \\lim_{t\\rightarrow\\infty}X(t\\land\\tau_m)-(\\sigma\\mu+\\frac{1}{2}\\sigma^2)\\lim_{t\\rightarrow\\infty}(t\\land\\tau_m)\\}\\\\\n",
    "&=\\exp\\{\\sigma\\underbrace{X(\\tau_m)}_{=m}-(\\sigma\\mu+\\frac{1}{2}\\sigma^2)\\tau_m\\}\\\\\n",
    "&=\\exp\\left\\{\\sigma m-\\left(\\sigma\\mu+\\frac{1}{2}\\sigma^2\\right)\\tau_m\\right\\}.\n",
    "\\end{align}"
   ]
  },
  {
   "cell_type": "markdown",
   "metadata": {},
   "source": [
    "On the other hand, if $\\tau_m=\\infty$, then\n",
    "\\begin{align}\n",
    "\\lim_{t\\rightarrow\\infty}\\left(\\exp\\{\\sigma X(t\\land\\tau_m)-(\\sigma\\mu+\\frac{1}{2}\\sigma^2)(t\\land\\tau_m)\\}\\right)&=\\exp\\{\\sigma \\underbrace{\\lim_{t\\rightarrow\\infty}X(t\\land\\tau_m)}_{<m}-(\\underbrace{\\sigma}_{>0}\\underbrace{\\mu}_{\\geq0}+\\frac{1}{2}\\sigma^2)\\underbrace{\\lim_{t\\rightarrow\\infty}(t\\land\\tau_m)}_{\\infty}\\}=0.\n",
    "\\end{align}"
   ]
  },
  {
   "cell_type": "markdown",
   "metadata": {},
   "source": [
    "We can summarize these two facts by\n",
    "\\begin{equation}\n",
    "\\lim_{t\\rightarrow\\infty}\\left(\\exp\\{\\sigma X(t\\land\\tau_m)-(\\sigma\\mu+\\frac{1}{2}\\sigma^2)(t\\land\\tau_m)\\}\\right)=\\exp\\left\\{\\sigma m-\\left(\\sigma\\mu+\\frac{1}{2}\\sigma^2\\right)\\tau_m\\right\\}\\mathbb{I}_{\\{\\tau_m<\\infty\\}}.\n",
    "\\end{equation}"
   ]
  },
  {
   "cell_type": "markdown",
   "metadata": {},
   "source": [
    "If we now use the Dominated Convergence Theorem 1.4.9, we have\n",
    "\\begin{align}\n",
    "\\mathbb{E}\\left[\\exp\\left\\{\\sigma m-\\left(\\sigma\\mu+\\frac{1}{2}\\sigma^2\\right)\\tau_m\\right\\}\\mathbb{I}_{\\{\\tau_m<\\infty\\}}\\right]&=\\mathbb{E}\\left[\\lim_{t\\rightarrow\\infty}\\left(\\exp\\{\\sigma X(t\\land\\tau_m)-(\\sigma\\mu+\\frac{1}{2}\\sigma^2)(t\\land\\tau_m)\\}\\right)\\right]\\\\\n",
    "&=\\lim_{t\\rightarrow\\infty}\\mathbb{E}\\left[\\exp\\{\\sigma X(t\\land\\tau_m)-(\\sigma\\mu+\\frac{1}{2}\\sigma^2)(t\\land\\tau_m)\\}\\right]\\\\\n",
    "&=\\lim_{t\\rightarrow\\infty}\\underbrace{\\mathbb{E}Z(t\\land\\tau_m)}_{=Z(0)=1}=1.\n",
    "\\end{align}"
   ]
  },
  {
   "cell_type": "markdown",
   "metadata": {},
   "source": [
    "We derived this expression under the assumption that $m$ and $\\sigma$ are both striclty positive.  We may not simply plug in $\\sigma=0$, but since this expression holds for all $\\sigma>0$, we may take the limit $\\sigma\\downarrow0$ and use the Monotone Convergence Theorem 1.4.5 to obtain\n",
    "\\begin{align}\n",
    "1&=\\lim_{\\sigma\\downarrow 0}\\mathbb{E}\\left[\\exp\\left\\{\\sigma m-\\left(\\sigma\\mu+\\frac{1}{2}\\sigma^2\\right)\\tau_m\\right\\}\\mathbb{I}_{\\{\\tau_m<\\infty\\}}\\right]\\\\\n",
    "&=\\mathbb{E}\\left[\\underbrace{\\lim_{\\sigma\\downarrow 0}\\exp\\left\\{\\sigma m-\\left(\\sigma\\mu+\\frac{1}{2}\\sigma^2\\right)\\tau_m\\right\\}}_{=1}\\mathbb{I}_{\\{\\tau_m<\\infty\\}}\\right]\\\\\n",
    "&=\\mathbb{E}[\\mathbb{I}_{\\{\\tau_m<\\infty\\}}]\\\\\n",
    "&=\\mathbb{P}\\{\\tau_m<\\infty\\}.\n",
    "\\end{align}"
   ]
  },
  {
   "cell_type": "markdown",
   "metadata": {},
   "source": [
    "Because $\\mathbb{P}\\{\\tau_m=\\infty\\}=0$, we may in fact drop the $\\mathbb{I}_{\\{\\tau_m<\\infty\\}}$ in the expectation $\\mathbb{E}\\left[\\exp\\left\\{\\sigma m-\\left(\\sigma\\mu+\\frac{1}{2}\\sigma^2\\right)\\tau_m\\right\\}\\mathbb{I}_{\\{\\tau_m<\\infty\\}}\\right]$, i.e.,\n",
    "\\begin{align}\n",
    "1&=\\mathbb{E}\\left[\\exp\\left\\{\\sigma m-\\left(\\sigma\\mu+\\frac{1}{2}\\sigma^2\\right)\\tau_m\\right\\}\\mathbb{I}_{\\{\\tau_m<\\infty\\}}\\right]\\\\\n",
    "&=\\mathbb{E}\\left[\\exp\\left\\{\\sigma m-\\left(\\sigma\\mu+\\frac{1}{2}\\sigma^2\\right)\\tau_m\\right\\}\\right]\\Rightarrow\\\\\n",
    "&e^{-\\sigma m}=\\mathbb{E}e^{-\\underbrace{\\left(\\sigma\\mu+\\frac{1}{2}\\sigma^2\\right)}_{:=\\alpha}\\tau_m}\\Rightarrow\\\\\n",
    "&\\mathbb{E}e^{-\\alpha\\tau_m}=e^{-\\sigma m}.\n",
    "\\end{align}\n",
    "It only remains for $\\sigma$ in terms of $\\alpha$."
   ]
  },
  {
   "cell_type": "markdown",
   "metadata": {},
   "source": [
    "\\begin{gather}\n",
    "\\sigma\\mu+\\frac{1}{2}\\sigma^2=\\alpha\\Rightarrow\\\\\n",
    "\\frac{1}{2}\\sigma^2+\\sigma\\mu-\\alpha=0\\Rightarrow\\\\\n",
    "\\sigma=\\frac{-mu\\pm\\sqrt{\\mu^2-4(\\frac{1}{2})(-\\alpha)}}{2\\frac{1}{2}}\\\\\n",
    "\\sigma=-\\mu\\pm\\sqrt{\\mu^2+2\\alpha}.\n",
    "\\end{gather}\n",
    "Because $\\sigma>0$ by assumption, we know that we must take the positive root in the expression above, i.e., we know that in fact\n",
    "\\begin{equation}\n",
    "\\sigma=-\\mu+\\sqrt{\\mu^2+2\\alpha}.\n",
    "\\end{equation}"
   ]
  },
  {
   "cell_type": "markdown",
   "metadata": {},
   "source": [
    "If we now plug this into the expectation value of interest, we obtain the desired result.\n",
    "\\begin{equation}\n",
    "\\mathbb{E}e^{-\\alpha\\tau_m}=e^{-\\sigma m}=e^{-(-\\mu+\\sqrt{\\mu^2+2\\alpha})m}=e^{m\\mu-m\\sqrt{2\\alpha+\\mu^2}}. \\square\n",
    "\\end{equation}"
   ]
  },
  {
   "cell_type": "markdown",
   "metadata": {},
   "source": [
    "### Exercise 3.7.4"
   ]
  },
  {
   "cell_type": "markdown",
   "metadata": {},
   "source": [
    "Show that if $\\mu>0$, then $\\mathbb{E}\\tau_m<\\infty$.  Obtain a formula for $\\mathbb{E}\\tau_m$. (Hint: Differentiate the formula in (iii) with respect to $\\alpha$.)"
   ]
  },
  {
   "cell_type": "markdown",
   "metadata": {},
   "source": [
    "### Solution 3.7.4"
   ]
  },
  {
   "cell_type": "markdown",
   "metadata": {},
   "source": [
    "We beging by differentiating the expression we have for $\\mathbb{E}e^{-\\alpha\\tau_m}$, and noting that we may \"bring\" the derivative inside the expectation value, as justified by the Leibniz integral rule.  In other words,\n",
    "\\begin{equation}\n",
    "\\frac{\\partial}{\\partial \\alpha}\\mathbb{E}e^{-\\alpha\\tau_m}=\\mathbb{E}\\frac{\\partial}{\\partial \\alpha}e^{-\\alpha\\tau_m}=-\\mathbb{E}[\\tau_me^{-\\alpha\\tau_m}].\n",
    "\\end{equation}"
   ]
  },
  {
   "cell_type": "markdown",
   "metadata": {},
   "source": [
    "Note that the leftmost part of the equation above is in fact is given by\n",
    "\\begin{equation}\n",
    "\\frac{\\partial}{\\partial \\alpha}\\mathbb{E}e^{-\\alpha\\tau_m}=\\frac{\\partial}{\\partial \\alpha}e^{m\\mu-m\\sqrt{2\\alpha+\\mu^2}}=-\\frac{me^{mu-m\\sqrt{2\\alpha+u^2}}}{\\sqrt{2\\alpha+u^2}}.\n",
    "\\end{equation}\n",
    "Plugging this into the equation above, we get\n",
    "\\begin{equation}\n",
    "\\mathbb{E}[\\tau_me^{-\\alpha\\tau_m}]=\\frac{me^{mu-m\\sqrt{2\\alpha+u^2}}}{\\sqrt{2\\alpha+u^2}}.\n",
    "\\end{equation}"
   ]
  },
  {
   "cell_type": "markdown",
   "metadata": {},
   "source": [
    "This formula was derived for $\\alpha>0$, so we cannot simply plug in $\\alpha=0$.  However, we can take the limit as $\\alpha\\downarrow0$ and use The Monotone Convergece Theorem 1.4.5 to get\n",
    "\\begin{align}\n",
    "\\mathbb{E}\\tau_m&=\\mathbb{E}\\lim_{\\alpha\\downarrow0}\\tau_me^{-\\alpha\\tau_m}\\\\\n",
    "&=\\lim_{\\alpha\\downarrow0}\\mathbb{E}[\\tau_me^{-\\alpha\\tau_m}]\\\\\n",
    "&=\\lim_{\\alpha\\downarrow0}\\frac{me^{mu-m\\sqrt{2\\alpha+u^2}}}{\\sqrt{2\\alpha+u^2}}=\\frac{m}{\\mu}<\\infty. \\square\n",
    "\\end{align}"
   ]
  },
  {
   "cell_type": "markdown",
   "metadata": {},
   "source": [
    "### Exercise 3.7.5"
   ]
  },
  {
   "cell_type": "markdown",
   "metadata": {},
   "source": [
    "Now suppose $\\mu<0$.  Show that, for $\\sigma>-2\\mu$,\n",
    "\\begin{equation}\n",
    "\\mathbb{E}\\left[\\exp\\left\\{\\sigma m-\\left(\\sigma\\mu+\\frac{1}{2}\\sigma^2\\right)\\tau_m\\right\\}\\mathbb{I}_{\\{\\tau_m<\\infty\\}}\\right]=1.\n",
    "\\end{equation}\n",
    "Use this fact to show that $\\mathbb{P}\\{\\tau_m<\\infty\\}=e^{-2m|\\mu|}$, which is strictly less than one, and to obtain the Laplace transform\n",
    "\\begin{equation}\n",
    "\\mathbb{E}e^{-\\alpha\\tau_m}=e^{m\\mu-m\\sqrt{2\\alpha+\\mu^2}} \\text{ for all } \\alpha>0.\n",
    "\\end{equation}"
   ]
  },
  {
   "cell_type": "markdown",
   "metadata": {},
   "source": [
    "### Solution 3.7.5"
   ]
  },
  {
   "cell_type": "markdown",
   "metadata": {},
   "source": [
    "There are two cases to consider: $\\tau_m<\\infty$, and $\\tau_m=\\infty$."
   ]
  },
  {
   "cell_type": "markdown",
   "metadata": {},
   "source": [
    "If $\\tau_m<\\infty$, then\n",
    "\\begin{align}\n",
    "\\lim_{t\\rightarrow\\infty}\\exp\\{\\sigma X(t\\land\\tau_m)-(\\sigma\\mu+\\frac{1}{2}\\sigma^2)(t\\land\\tau_m)\\}&=\\exp\\{\\sigma \\lim_{t\\rightarrow\\infty}X(t\\land\\tau_m)-(\\sigma\\mu+\\frac{1}{2}\\sigma^2)\\lim_{t\\rightarrow\\infty}(t\\land\\tau_m)\\}\\\\\n",
    "&=\\exp\\{\\sigma\\underbrace{X(\\tau_m)}_{=m}-(\\sigma\\mu+\\frac{1}{2}\\sigma^2)\\tau_m\\}\\\\\n",
    "&=\\exp\\left\\{\\sigma m-\\left(\\sigma\\mu+\\frac{1}{2}\\sigma^2\\right)\\tau_m\\right\\}.\n",
    "\\end{align}"
   ]
  },
  {
   "cell_type": "markdown",
   "metadata": {},
   "source": [
    "Now suppose $\\tau_m=\\infty$.  First we rewrite the expression of interest.\n",
    "\\begin{align}\n",
    "\\exp\\{\\sigma X(t\\land\\tau_m)-(\\sigma\\mu+\\frac{1}{2}\\sigma^2)(t\\land\\tau_m)\\}=\\frac{\\exp\\{\\sigma X(t\\land\\tau_m)\\}}{\\exp\\{(\\sigma\\mu+\\frac{1}{2}\\sigma^2)(t\\land\\tau_m)\\}}.\n",
    "\\end{align}"
   ]
  },
  {
   "cell_type": "markdown",
   "metadata": {},
   "source": [
    "Note that if $\\tau_m=\\infty$, then the numerator can be bounded *from above* as\n",
    "\\begin{equation}\n",
    "\\exp\\{\\sigma X(t\\land\\tau_m)\\}<\\exp\\{\\sigma m\\} \\text{ for all } t.\n",
    "\\end{equation}\n",
    "As for the demoniator, first observe that \n",
    "\\begin{equation}\n",
    "\\epsilon:=\\sigma\\mu+\\frac{1}{2}\\sigma^2>(-2\\mu)\\mu+\\frac{1}{2}(-2\\mu)^2=0.\n",
    "\\end{equation}\n",
    "Hence, when we take the limit as $t\\rightarrow\\infty$, we get\n",
    "\\begin{equation}\n",
    "\\lim_{t\\rightarrow\\infty}\\frac{\\exp\\{\\sigma X(t\\land\\tau_m)\\}}{\\exp\\{(\\sigma\\mu+\\frac{1}{2}\\sigma^2)(t\\land\\tau_m)\\}}<\\frac{\\exp\\{\\sigma m\\}}{\\underbrace{\\lim_{t\\rightarrow\\infty}e^{\\epsilon(t\\land\\tau_m)}}_{=\\infty}}=0.\n",
    "\\end{equation}"
   ]
  },
  {
   "cell_type": "markdown",
   "metadata": {},
   "source": [
    "We can summarize the two facts above by\n",
    "\\begin{equation}\n",
    "\\lim_{t\\rightarrow\\infty}\\exp\\{\\sigma X(t\\land\\tau_m)-(\\sigma\\mu+\\frac{1}{2}\\sigma^2)(t\\land\\tau_m)\\}=\\exp\\left\\{\\sigma m-\\left(\\sigma\\mu+\\frac{1}{2}\\sigma^2\\right)\\tau_m\\right\\}\\mathbb{I}_{\\{\\tau_m<\\infty\\}}.\n",
    "\\end{equation}"
   ]
  },
  {
   "cell_type": "markdown",
   "metadata": {},
   "source": [
    "If we now use the Dominated Convergence Theorem 1.4.9, we have\n",
    "\\begin{align}\n",
    "\\mathbb{E}\\left[\\exp\\left\\{\\sigma m-\\left(\\sigma\\mu+\\frac{1}{2}\\sigma^2\\right)\\tau_m\\right\\}\\mathbb{I}_{\\{\\tau_m<\\infty\\}}\\right]&=\\mathbb{E}\\left[\\lim_{t\\rightarrow\\infty}\\left(\\exp\\{\\sigma X(t\\land\\tau_m)-(\\sigma\\mu+\\frac{1}{2}\\sigma^2)(t\\land\\tau_m)\\}\\right)\\right]\\\\\n",
    "&=\\lim_{t\\rightarrow\\infty}\\mathbb{E}\\left[\\exp\\{\\sigma X(t\\land\\tau_m)-(\\sigma\\mu+\\frac{1}{2}\\sigma^2)(t\\land\\tau_m)\\}\\right]\\\\\n",
    "&=\\lim_{t\\rightarrow\\infty}\\underbrace{\\mathbb{E}Z(t\\land\\tau_m)}_{=Z(0)=1}=1.\n",
    "\\end{align}"
   ]
  },
  {
   "cell_type": "markdown",
   "metadata": {},
   "source": [
    "We derived this expression under the assumption that $\\mu<0$ and that $\\sigma>-2\\mu$.  We may not simply plug in $\\sigma=-2\\mu$, but since this expression holds for all $\\sigma>-2\\mu$, we may take the limit $\\sigma\\downarrow-2\\mu$ and use the Monotone Convergence Theorem 1.4.5 to obtain\n",
    "\\begin{align}\n",
    "1&=\\lim_{\\sigma\\downarrow -2\\mu}\\mathbb{E}\\left[\\exp\\left\\{\\sigma m-\\left(\\sigma\\mu+\\frac{1}{2}\\sigma^2\\right)\\tau_m\\right\\}\\mathbb{I}_{\\{\\tau_m<\\infty\\}}\\right]\\\\\n",
    "&=\\mathbb{E}\\left[\\lim_{\\sigma\\downarrow -2\\mu}\\exp\\left\\{\\sigma m-\\underbrace{\\left(\\sigma\\mu+\\frac{1}{2}\\sigma^2\\right)}_{\\rightarrow 0}\\tau_m\\right\\}\\mathbb{I}_{\\{\\tau_m<\\infty\\}}\\right]\\\\\n",
    "&=\\mathbb{E}[e^{-2m\\mu}\\mathbb{I}_{\\{\\tau_m<\\infty\\}}].\n",
    "\\end{align}"
   ]
  },
  {
   "cell_type": "markdown",
   "metadata": {},
   "source": [
    "In particular, the last equation says that\n",
    "\\begin{equation}\n",
    "\\mathbb{P}\\{\\tau_m<\\infty\\}=\\mathbb{E}[\\mathbb{I}_{\\{\\tau_m<\\infty\\}}]=e^{2m\\underbrace{\\mu}_{<0}}=e^{-2\\underbrace{m|\\mu|}_{>0}}<1.\n",
    "\\end{equation}"
   ]
  },
  {
   "cell_type": "markdown",
   "metadata": {},
   "source": [
    "Using this, now wish to calculate $\\mathbb{E}e^{-\\alpha\\tau_m}$.  First, note that\n",
    "\\begin{equation}\n",
    "\\mathbb{E}e^{-\\alpha\\tau_m}=\\mathbb{E}e^{-\\alpha\\tau_m}\\mathbb{I}_{\\{\\tau_m<\\infty\\}}+\\mathbb{E}\\underbrace{e^{-\\alpha\\tau_m}\\mathbb{I}_{\\{\\tau_m=\\infty\\}}}_{=0}=\\mathbb{E}e^{-\\alpha\\tau_m}\\mathbb{I}_{\\{\\tau_m<\\infty\\}},\n",
    "\\end{equation}\n",
    "and hence\n",
    "\\begin{gather}\n",
    "1=\\mathbb{E}\\left[\\exp\\left\\{\\sigma m-\\left(\\sigma\\mu+\\frac{1}{2}\\sigma^2\\right)\\tau_m\\right\\}\\mathbb{I}_{\\{\\tau_m<\\infty\\}}\\right]=\\mathbb{E}e^{\\sigma m}e^{-\\alpha \\tau_m}\\mathbb{I}_{\\tau_m<\\infty}\\Rightarrow\\\\\n",
    "e^{-\\sigma m}=\\mathbb{E}e^{-\\alpha \\tau_m}\\mathbb{I}_{\\{\\tau_m<\\infty\\}}=\\mathbb{E}e^{-\\alpha \\tau_m}.\n",
    "\\end{gather}"
   ]
  },
  {
   "cell_type": "markdown",
   "metadata": {},
   "source": [
    "At this point it only remains to solve for $\\sigma$ in terms of $\\alpha$ and $\\mu$.  But this relationship is the same as what we had in Exercise 3.7.3.  Hence, we may conclude the final desired result\n",
    "\\begin{equation}\n",
    "\\mathbb{E}e^{-\\alpha\\tau_m}=e^{m\\mu-m\\sqrt{2\\alpha+\\mu^2}} \\text{ for all } \\alpha>0. \\square\n",
    "\\end{equation}"
   ]
  }
 ],
 "metadata": {
  "kernelspec": {
   "display_name": "Python 3",
   "language": "python",
   "name": "python3"
  },
  "language_info": {
   "codemirror_mode": {
    "name": "ipython",
    "version": 3
   },
   "file_extension": ".py",
   "mimetype": "text/x-python",
   "name": "python",
   "nbconvert_exporter": "python",
   "pygments_lexer": "ipython3",
   "version": "3.7.6"
  }
 },
 "nbformat": 4,
 "nbformat_minor": 5
}
