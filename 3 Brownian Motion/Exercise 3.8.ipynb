{
 "cells": [
  {
   "cell_type": "markdown",
   "metadata": {},
   "source": [
    "### Exercise 3.8"
   ]
  },
  {
   "cell_type": "markdown",
   "metadata": {},
   "source": [
    "This problem presents the convergence of the distribution of stock prices in a sequence of binomial models to the distribution of geometric Brownian motion.  In contrast to the analysis of Subsection 3.2.7, here we allow the interest rate to be different from zero."
   ]
  },
  {
   "cell_type": "markdown",
   "metadata": {},
   "source": [
    "Let $\\sigma>0$ and $r\\geq 0$ be given.  For each positive integer $n$, we consider a binomial model taking $n$ steps per unit time.  In this model, the interest rate per period is $\\frac{r}{n}$, the up factor is $u_n=e^{\\sigma/\\sqrt{n}}$, and the down factor is $d_n=e^{-\\sigma/\\sqrt{n}}$.  The risk-neutral probabilities are then\n",
    "\\begin{equation}\n",
    "\\tilde{p}_n=\\frac{\\frac{r}{n}+1-e^{-\\sigma/\\sqrt{n}}}{e^{\\sigma/\\sqrt{n}}-e^{-\\sigma/\\sqrt{n}}}, \\quad \\tilde{q}_n=\\frac{e^{\\sigma/\\sqrt{n}}-\\frac{r}{n}-1}{e^{\\sigma/\\sqrt{n}}-e^{-\\sigma/\\sqrt{n}}}.\n",
    "\\end{equation}\n",
    "Let $t$ be an arbitrary positive rational number, and for each positive integer $n$ for which $nt$ is an integer, define\n",
    "\\begin{equation}\n",
    "M_{nt,n}=\\sum_{k=1}^{nt}X_{k,n},\n",
    "\\end{equation}\n",
    "where $X_{1,n},\\dots,X_{nt,n}$ are independent, identically distributed random variables with\n",
    "\\begin{equation}\n",
    "\\tilde{\\mathbb{P}}\\{X_{k,n}=1\\}=\\tilde{p}_n, \\quad \\tilde{\\mathbb{P}}\\{X_{k,n}=-1\\}=\\tilde{q}_n, \\quad k=1,\\dots,nt. \n",
    "\\end{equation}\n",
    "The stock price at time $t$ in this binomial model, which is the result of $nt$ steps from the initial time, is given by (see (3.2.15) for a similar equation)\n",
    "\\begin{align}\n",
    "S_n(t)&=S(0)u_n^{\\frac{1}{2}(nt+M_{nt,n})}d_n^{\\frac{1}{2}(nt-M_{nt,n})}\\\\\n",
    "&=S(0)\\exp\\left\\{\\frac{\\sigma}{2\\sqrt{n}}(nt+M_{nt,n})\\right\\}\\exp\\left\\{-\\frac{\\sigma}{2\\sqrt{n}}(nt-M_{nt,n})\\right\\}\\\\\n",
    "&=S(0)\\exp\\left\\{\\frac{\\sigma}{\\sqrt{n}}M_{nt,n}\\right\\}.\n",
    "\\end{align}\n",
    "This problem shows that as $n\\rightarrow\\infty$, the distribution of the sequence of random variables $\\frac{\\sigma}{\\sqrt{n}}M_{nt,n}$ appearing in the exponent above converges to the normal distribution with mean $(r-\\frac{1}{2}\\sigma^2)t$ and variance $\\sigma^2t$.  Therefore, the limiting distribution of $S_n(t)$ is the same as the distribution of the geometric Brownian motion $S(0)\\exp\\{\\sigma W(t)+(r-\\frac{1}{2}\\sigma)t\\}$ at time $t$."
   ]
  },
  {
   "cell_type": "markdown",
   "metadata": {},
   "source": [
    "### Exercise 3.8.1"
   ]
  },
  {
   "cell_type": "markdown",
   "metadata": {},
   "source": [
    "Show that the moment-generating function $\\varphi_n(u)$ of $\\frac{1}{\\sqrt{n}}M_{nt,n}$ is given by\n",
    "\\begin{equation}\n",
    "\\varphi_n(u)=\\left[e^{\\frac{u}{\\sqrt{n}}}\\left(\\frac{\\frac{r}{n}+1-e^{-\\sigma/\\sqrt{n}}}{e^{\\sigma/\\sqrt{n}}-e^{-\\sigma/\\sqrt{n}}}\\right)-e^{-\\frac{u}{\\sqrt{n}}}\\left(\\frac{\\frac{r}{n}+1-e^{\\sigma/\\sqrt{n}}}{e^{\\sigma/\\sqrt{n}}-e^{-\\sigma/\\sqrt{n}}}\\right)\\right]^{nt}.\n",
    "\\end{equation}"
   ]
  },
  {
   "cell_type": "markdown",
   "metadata": {},
   "source": [
    "### Solution 3.8.1"
   ]
  },
  {
   "cell_type": "markdown",
   "metadata": {},
   "source": [
    "Following Equation (3.2.14), we get the first equation below.  It is then just a matter of rewriting the expression.\n",
    "\\begin{align}\n",
    "\\varphi_n(u)&=\\Pi_{j=1}^{nt}\\underbrace{\\tilde{\\mathbb{E}}\\exp\\left\\{\\frac{u}{\\sqrt{n}}X_j\\right\\}}_{=\\tilde{p}_n\\exp\\left\\{\\frac{u}{\\sqrt{n}}(1)\\right\\}+\\tilde{q}_n\\exp\\left\\{\\frac{u}{\\sqrt{n}}(-1)\\right\\}}\\\\\n",
    "&=\\Pi_{j=1}^{nt}\\left(\\tilde{p}_ne^{\\frac{u}{\\sqrt{n}}}+\\tilde{q}_ne^{-\\frac{u}{\\sqrt{n}}}\\right)\\\\\n",
    "&=\\Pi_{j=1}^{nt}\\left(\\tilde{p}_ne^{\\frac{u}{\\sqrt{n}}}-(-\\tilde{q}_n)e^{-\\frac{u}{\\sqrt{n}}}\\right)\\\\\n",
    "&=\\left(\\tilde{p}_ne^{\\frac{u}{\\sqrt{n}}}-(-\\tilde{q}_n)e^{-\\frac{u}{\\sqrt{n}}}\\right)^{nt}\\\\\n",
    "&=\\left[e^{\\frac{u}{\\sqrt{n}}}\\left(\\frac{\\frac{r}{n}+1-e^{-\\sigma/\\sqrt{n}}}{e^{\\sigma/\\sqrt{n}}-e^{-\\sigma/\\sqrt{n}}}\\right)-e^{-\\frac{u}{\\sqrt{n}}}\\left(\\frac{\\frac{r}{n}+1-e^{\\sigma/\\sqrt{n}}}{e^{\\sigma/\\sqrt{n}}-e^{-\\sigma/\\sqrt{n}}}\\right)\\right]^{nt}. \\square\n",
    "\\end{align}"
   ]
  },
  {
   "cell_type": "markdown",
   "metadata": {},
   "source": [
    "### Exercise 3.8.2"
   ]
  },
  {
   "cell_type": "markdown",
   "metadata": {},
   "source": [
    "We want to compute\n",
    "\\begin{equation}\n",
    "\\lim_{n\\rightarrow\\infty}\\varphi_n(u)=\\lim_{x\\downarrow0}\\varphi_{\\frac{1}{x^2}}(u),\n",
    "\\end{equation}\n",
    "where we have made the change of variable $x=\\frac{1}{\\sqrt{n}}$.  To do this, we will compute $\\log \\varphi_{\\frac{1}{x^2}}(u)$ and then take the limit as $x\\downarrow0$.  Show that\n",
    "\\begin{equation}\n",
    "\\log\\varphi_{\\frac{1}{x^2}}(u)=\\frac{t}{x^2}\\log\\left[\\frac{(rx^2+1)\\sinh ux+\\sinh(\\sigma-u)x}{\\sinh\\sigma x}\\right]\n",
    "\\end{equation}\n",
    "(the definitions are $\\sinh z=\\frac{e^z-e^{-z}}{2}$, and $\\cosh z=\\frac{e^{z}+e^{-z}}{2}$), and use the formula\n",
    "\\begin{equation}\n",
    "\\sinh(A-B)=\\sinh A\\cosh B-\\cosh A\\sinh B\n",
    "\\end{equation}\n",
    "to rewrite this as\n",
    "\\begin{equation}\n",
    "\\log\\varphi_{\\frac{1}{x^2}}(u)=\\frac{t}{x^2}\\log\\left[\\cosh ux+\\frac{(rx^2+1-\\cosh\\sigma x)\\sinh ux}{\\sinh\\sigma x}\\right].\n",
    "\\end{equation}"
   ]
  },
  {
   "cell_type": "markdown",
   "metadata": {},
   "source": [
    "### Solution 3.8.2"
   ]
  },
  {
   "cell_type": "markdown",
   "metadata": {},
   "source": [
    "We show this with the following calculation.\n",
    "\\begin{align}\n",
    "\\log\\varphi_{\\frac{1}{x^2}}(u)&=\\log\\left[e^{xu}\\left(\\frac{\\frac{r}{n}+1-e^{-\\sigma x}}{\\underbrace{e^{\\sigma x}-e^{-\\sigma x}}_{=2\\sinh\\sigma x}}\\right)-e^{-xu}\\left(\\frac{\\frac{r}{n}+1-e^{\\sigma x}}{\\underbrace{e^{\\sigma x}-e^{-\\sigma x}}_{=2\\sinh\\sigma x}}\\right)\\right]^{\\frac{t}{x^2}}\\\\\n",
    "&=\\frac{t}{x^2}\\log\\left[\\frac{e^{xu}(x^2r+1-e^{-\\sigma x})-e^{-xu}(x^2r+1-e^{\\sigma x})}{2\\sinh \\sigma x}\\right]\\\\\n",
    "&=\\frac{t}{x^2}\\log\\left[\\frac{(x^2r+1)\\overbrace{(e^{xu}-e^{-xu})}^{=2\\sinh xu}+\\overbrace{e^{xu}(-e^{-\\sigma x})+e^{-x u}e^{\\sigma x}}^{2\\sinh (\\sigma-u)x}}{2\\sinh \\sigma x}\\right]\\\\\n",
    "&=\\frac{t}{x^2}\\log\\left[\\frac{(rx^2+1)\\sinh ux+\\sinh(\\sigma-u)x}{\\sinh\\sigma x}\\right].\n",
    "\\end{align}\n",
    "This establishes the first result."
   ]
  },
  {
   "cell_type": "markdown",
   "metadata": {},
   "source": [
    "Using the identity\n",
    "\\begin{equation}\n",
    "\\sinh(A-B)=\\sinh A\\cosh B-\\cosh A\\sinh B\n",
    "\\end{equation}\n",
    "with $A=\\sigma x$ and $B=ux$, we have\n",
    "\\begin{equation}\n",
    "\\sinh(\\sigma-u)x=\\sinh \\sigma x\\cosh ux-\\cosh \\sigma x\\sinh ux.\n",
    "\\end{equation}\n",
    "Plugging this into the equation we derived above, we get the second result as follows:\n",
    "\\begin{align}\n",
    "\\log\\varphi_{\\frac{1}{x^2}}(u)&=\\frac{t}{x^2}\\log\\left[\\frac{(rx^2+1)\\sinh ux+\\sinh \\sigma x\\cosh ux-\\cosh \\sigma x\\sinh ux}{\\sinh\\sigma x}\\right]\\\\\n",
    "&=\\frac{t}{x^2}\\log\\left[\\frac{(rx^2+1-\\cosh\\sigma x)\\sinh ux+\\sinh\\sigma x\\cosh ux}{\\sinh\\sigma x}\\right]\\\\\n",
    "&=\\frac{t}{x^2}\\log\\left[\\cosh ux+\\frac{(rx^2+1-\\cosh\\sigma x)\\sinh ux}{\\sinh\\sigma x}\\right]. \\square\n",
    "\\end{align}"
   ]
  },
  {
   "cell_type": "markdown",
   "metadata": {},
   "source": [
    "### Exercise 3.8.3"
   ]
  },
  {
   "cell_type": "markdown",
   "metadata": {},
   "source": [
    "Use the Taylor series expansions\n",
    "\\begin{equation}\n",
    "\\cosh z=1+\\frac{1}{2}z^2+O(z^4), \\quad \\sinh z=z+O(z^3),\n",
    "\\end{equation}\n",
    "to show that\n",
    "\\begin{align}\n",
    "\\cosh ux&+\\frac{(rx^2+1-\\cosh\\sigma x)\\sinh ux}{\\sinh\\sigma x}\\\\\n",
    "&=1+\\frac{1}{2}u^2x^2+\\frac{rux^2}{\\sigma}-\\frac{1}{2}ux^2\\sigma+O(x^4).\n",
    "\\end{align}\n",
    "The notation $O(x^j)$ is used to represent terms of the order $x^j$."
   ]
  },
  {
   "cell_type": "markdown",
   "metadata": {},
   "source": [
    "### Solution 3.8.3"
   ]
  },
  {
   "cell_type": "markdown",
   "metadata": {},
   "source": [
    "We show with the following series of caluclations.  For the left term, we have\n",
    "\\begin{equation}\n",
    "\\cosh ux=1+\\frac{1}{2}u^2x^2+\\underbrace{O((ux)^4)}_{=O(x^4)}=1+\\frac{1}{2}u^2x^2+O(x^4).\n",
    "\\end{equation}"
   ]
  },
  {
   "cell_type": "markdown",
   "metadata": {},
   "source": [
    "The right term involves a few more computations.  First,\n",
    "\\begin{equation}\n",
    "rx^2+1-\\cosh\\sigma x=rx^2+1-1-\\frac{1}{2}\\sigma^2x^2-O((\\sigma x)^4)=rx^2-\\frac{1}{2}\\sigma^2x^2-O((\\sigma x)^4).\n",
    "\\end{equation}\n",
    "Second, we have\n",
    "\\begin{equation}\n",
    "\\sinh ux=ux+O((ux)^3).\n",
    "\\end{equation}\n",
    "Hence, the numerator for the right term becomes\n",
    "\\begin{equation}\n",
    "(rx^2-\\frac{1}{2}\\sigma^2x^2-O((\\sigma x)^4))(ux+O((ux)^3)).\n",
    "\\end{equation}\n",
    "The denominator for the right term is\n",
    "\\begin{equation}\n",
    "\\sinh\\sigma x=\\sigma x+O((\\sigma x)^3).\n",
    "\\end{equation}"
   ]
  },
  {
   "cell_type": "markdown",
   "metadata": {},
   "source": [
    "Putting the two equations above together, we obtain for the right term\n",
    "\\begin{align}\n",
    "\\frac{(rx^2+1-\\cosh\\sigma x)\\sinh ux}{\\sinh\\sigma x}&=\\frac{(rx^2-\\frac{1}{2}\\sigma^2x^2-O((\\sigma x)^4))(ux+O((ux)^3))}{\\sigma x+O((\\sigma x)^3)}\\\\\n",
    "&=\\frac{(rx^2-\\frac{1}{2}\\sigma^2x^2-O((\\sigma x)^4))ux(1+O((ux)^2))}{\\sigma x(1+O((\\sigma x)^2))}\\\\\n",
    "&=\\frac{1+O((ux)^2)}{1+O((\\sigma x)^2)}\\frac{u}{\\sigma}(rx^2-\\frac{1}{2}\\sigma^2x^2-O((\\sigma x)^4))\\\\\n",
    "&=\\frac{1+O((ux)^2)}{1+O((\\sigma x)^2)}\\left[\\frac{rux^2}{\\sigma}-\\frac{1}{2}ux^2\\sigma-\\frac{u}{\\sigma}O((\\sigma x)^4)\\right]\\\\\n",
    "&=\\left(+1-1+\\frac{1+O((ux)^2)}{1+O((\\sigma x)^2)}\\right)\\left[\\frac{rux^2}{\\sigma}-\\frac{1}{2}ux^2\\sigma-\\frac{u}{\\sigma}O((\\sigma x)^4)\\right]\\\\\n",
    "&=\\left[\\frac{rux^2}{\\sigma}-\\frac{1}{2}ux^2\\sigma-\\underbrace{\\frac{u}{\\sigma}O((\\sigma x)^4)}_{=O(x^4)}\\right]+\\underbrace{\\left(-1+\\frac{1+O((ux)^2)}{1+O((\\sigma x)^2)}\\right)\\left[\\frac{rux^2}{\\sigma}-\\frac{1}{2}ux^2\\sigma-\\frac{u}{\\sigma}O((\\sigma x)^4)\\right]}_{=O(x^4)}\\\\\n",
    "&=\\frac{rux^2}{\\sigma}-\\frac{1}{2}ux^2\\sigma+O(x^4).\n",
    "\\end{align}"
   ]
  },
  {
   "cell_type": "markdown",
   "metadata": {},
   "source": [
    "Putting everything together, we obtain\n",
    "\\begin{align}\n",
    "\\cosh ux&+\\frac{(rx^2+1-\\cosh\\sigma x)\\sinh ux}{\\sinh\\sigma x}=1+\\frac{1}{2}u^2x^2+\\frac{rux^2}{\\sigma}-\\frac{1}{2}ux^2\\sigma+O(x^4). \\square\n",
    "\\end{align}"
   ]
  },
  {
   "cell_type": "markdown",
   "metadata": {},
   "source": [
    "### Exercise 3.8.4"
   ]
  },
  {
   "cell_type": "markdown",
   "metadata": {},
   "source": [
    "Use the Taylor series expansion\n",
    "\\begin{equation}\n",
    "\\log(1+x)=x+O(x^2)\n",
    "\\end{equation}\n",
    "to compute $\\lim_{x\\downarrow0}\\log\\varphi_{\\frac{1}{x^2}}(u)$.  Now explain how you know that the limiting distribution for $\\frac{\\sigma}{\\sqrt{n}}M_{nt,n}$ is normal with mean $(r-\\frac{1}{2}\\sigma^2)t$ and variance $\\sigma^2 t$."
   ]
  },
  {
   "cell_type": "markdown",
   "metadata": {},
   "source": [
    "### Solution 3.8.4"
   ]
  },
  {
   "cell_type": "markdown",
   "metadata": {},
   "source": [
    "We show this with a few calculations.  First, note that\n",
    "\\begin{equation}\n",
    "\\log\\varphi_{\\frac{1}{x^2}}(u)=\\frac{t}{x^2}\\log(1+\\underbrace{\\frac{1}{2}u^2x^2+\\frac{rux^2}{\\sigma}-\\frac{1}{2}ux^2\\sigma+O(x^4)}_{:=z})=\\frac{t}{x^2}[z+O(z^2)].\n",
    "\\end{equation}\n",
    "Hence,\n"
   ]
  },
  {
   "cell_type": "markdown",
   "metadata": {},
   "source": [
    "We first analyze the term $\\frac{t}{x^2}O(z^2)$.  Because $z=O(x^4)$, we have that $O(z^2)=O(x^8)$, and hence \\begin{equation}\n",
    "\\lim_{x\\downarrow0}\\frac{t}{x^2}O(z^2)=\\lim_{x\\downarrow0}\\frac{t}{x^2}O(x^8)\\lim_{x\\downarrow0}tO(x^6)=0.\n",
    "\\end{equation}"
   ]
  },
  {
   "cell_type": "markdown",
   "metadata": {},
   "source": [
    "Now we simplify the second term.\n",
    "\\begin{align}\n",
    "\\frac{t}{x^2}z&=\\frac{t}{x^2}\\left(\\frac{1}{2}u^2x^2+\\frac{rux^2}{\\sigma}-\\frac{1}{2}ux^2\\sigma+O(x^4)\\right)\\\\\n",
    "&=t\\left(\\frac{1}{2}u^2+\\frac{ru}{\\sigma}-\\frac{1}{2}u\\sigma+O(x^2)\\right),\n",
    "\\end{align}\n",
    "and hence\n",
    "\\begin{equation}\n",
    "\\lim_{x\\downarrow0}\\frac{t}{x^2}z=\\lim_{x\\downarrow0}t\\left(\\frac{1}{2}u^2+\\frac{ru}{\\sigma}-\\frac{1}{2}u\\sigma+O(x^2)\\right)=t\\left(\\frac{1}{2}u^2+\\frac{ru}{\\sigma}-\\frac{1}{2}u\\sigma\\right).\n",
    "\\end{equation}"
   ]
  },
  {
   "cell_type": "markdown",
   "metadata": {},
   "source": [
    "In short, this means\n",
    "\\begin{equation}\n",
    "\\lim_{x\\downarrow0}\\log\\varphi_{\\frac{1}{x^2}}(u)=t\\left(\\frac{1}{2}u^2+\\frac{ru}{\\sigma}-\\frac{1}{2}u\\sigma\\right)=u^2\\left(\\frac{t}{2}\\right)+u\\left(t\\left(\\frac{r}{\\sigma}-\\frac{1}{2}\\sigma\\right)\\right).\n",
    "\\end{equation}"
   ]
  },
  {
   "cell_type": "markdown",
   "metadata": {},
   "source": [
    "We now recall that random variables can be identified by their moment generating function, and the expression above is in fact the moment generating function for a normally distributed random variable.  More explicitly, for a normally distributed random variable with mean $\\mu$ and variance $\\sigma^2$, the moment generating function is given by\n",
    "\\begin{equation}\n",
    "\\mu u+\\frac{1}{2}\\sigma^2u^2,\n",
    "\\end{equation}\n",
    "and hence from the expression we derived above we have that\n",
    "\\begin{align}\n",
    "\\tilde{\\mathbb{E}}\\frac{1}{\\sqrt{n}}M_{nt,n}&=t\\left(\\frac{r}{\\sigma}-\\frac{1}{2}\\sigma\\right),\\\\\n",
    "\\text{Var}\\frac{1}{\\sqrt{n}}M_{nt,n}&=t.\n",
    "\\end{align}"
   ]
  },
  {
   "cell_type": "markdown",
   "metadata": {},
   "source": [
    "Using those results we finally obtain the final desired result.\n",
    "\\begin{align}\n",
    "\\tilde{\\mathbb{E}}\\frac{\\sigma}{\\sqrt{n}}M_{nt,n}&=\\left(r-\\frac{1}{2}\\sigma^2\\right)t,\\\\\n",
    "\\text{Var}\\frac{\\sigma}{\\sqrt{n}}M_{nt,n}&=\\sigma^2t. \\square\n",
    "\\end{align}"
   ]
  },
  {
   "cell_type": "code",
   "execution_count": null,
   "metadata": {},
   "outputs": [],
   "source": []
  }
 ],
 "metadata": {
  "kernelspec": {
   "display_name": "Python 3",
   "language": "python",
   "name": "python3"
  },
  "language_info": {
   "codemirror_mode": {
    "name": "ipython",
    "version": 3
   },
   "file_extension": ".py",
   "mimetype": "text/x-python",
   "name": "python",
   "nbconvert_exporter": "python",
   "pygments_lexer": "ipython3",
   "version": "3.7.6"
  }
 },
 "nbformat": 4,
 "nbformat_minor": 4
}
