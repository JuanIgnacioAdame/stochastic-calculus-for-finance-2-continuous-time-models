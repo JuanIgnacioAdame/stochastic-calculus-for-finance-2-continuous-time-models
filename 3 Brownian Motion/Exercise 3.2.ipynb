{
 "cells": [
  {
   "cell_type": "markdown",
   "id": "315c77b3",
   "metadata": {},
   "source": [
    "### Exercise 3.2"
   ]
  },
  {
   "cell_type": "markdown",
   "id": "78a34c27",
   "metadata": {},
   "source": [
    "Let $W(t), t\\geq 0$, be a Brownian motion, and let $\\mathcal{F}(t), t\\geq 0$, be a filtration for this Brownian motion.  Show that $W^2(t)-t$ is a martingale. (Hint: For $0\\leq s\\leq t$, write $W^2(t)$ as $(W(t)-W(s))^2+2W(t)W(s))-W^2(s)$.) "
   ]
  },
  {
   "cell_type": "markdown",
   "id": "d849bba2",
   "metadata": {},
   "source": [
    "### Solution 3.2"
   ]
  },
  {
   "cell_type": "markdown",
   "id": "6a152b45",
   "metadata": {},
   "source": [
    "Let $s\\leq t$.  In order for the adapted stochstic process $M(t):=W^2(t)-t$ to be a martingale, it must hold that\n",
    "\\begin{equation}\n",
    "\\mathbb{E}[M(t)|\\mathcal{F}(s)]\\stackrel{!}{=}M(s).\n",
    "\\end{equation}"
   ]
  },
  {
   "cell_type": "markdown",
   "id": "aef63057",
   "metadata": {},
   "source": [
    "Following the hint, we rewrite $M(t)=W^2(t)-t=(W(t)-W(s))^2+2W(t)W(s)-W^2(s)-t$, and we obtian\n",
    "\\begin{gather}\n",
    "\\mathbb{E}[M(t)|\\mathcal{F}(s)]=\\\\\\mathbb{E}[(W(t)-W(s))^2|\\mathcal{F}(s)]+\\mathbb{E}[2W(t)W(s)|\\mathcal{F}(s)]-\\mathbb{E}[W^2(s)|\\mathcal{F}(s)]-\\mathbb{E}[t|\\mathcal{F}(s)].\n",
    "\\end{gather}"
   ]
  },
  {
   "cell_type": "markdown",
   "id": "a39f0a5a",
   "metadata": {},
   "source": [
    "We now simplify these terms from left to right."
   ]
  },
  {
   "cell_type": "markdown",
   "id": "1703d2e2",
   "metadata": {},
   "source": [
    "For the first term, we recall that Brownian motion accumulates quadratic variation at rate one per unit time.  An equivalent way of saying this is that\n",
    "\\begin{equation}\n",
    "\\mathbb{E}[(W(t)-W(s))^2|\\mathcal{F}(s)]=t-s.\n",
    "\\end{equation}"
   ]
  },
  {
   "cell_type": "markdown",
   "id": "ff83923f",
   "metadata": {},
   "source": [
    "For the second term, first take out $W(s)$ because it is $\\mathcal{F}(s)$-measurable (i.e. we use the \"taking out what is known\" property, Theorem 2.3.2 (ii), of conditional expectation values), and then we use the fact that Brownian motion is a martingale (Theorem 3.3.4) and we obtain\n",
    "\\begin{equation}\n",
    "\\mathbb{E}[2W(t)W(s)|\\mathcal{F}(s)]=2W(s)\\mathbb{E}[W(t)|\\mathcal{F}(s)]=2W^2(s).\n",
    "\\end{equation}"
   ]
  },
  {
   "cell_type": "markdown",
   "id": "818d611d",
   "metadata": {},
   "source": [
    "For the third term we need only use Theorem 2.3.2(ii) and we obtain\n",
    "\\begin{equation}\n",
    "\\mathbb{E}[W^2(s)|\\mathcal{F}(s)]=W^2(s).\n",
    "\\end{equation}"
   ]
  },
  {
   "cell_type": "markdown",
   "id": "549018e3",
   "metadata": {},
   "source": [
    "For the fourth term we observe that $t$ is in fact not random, so we have\n",
    "\\begin{equation}\n",
    "\\mathbb{E}[t|\\mathcal{F}(s)]=t.\n",
    "\\end{equation}"
   ]
  },
  {
   "cell_type": "markdown",
   "id": "99eb58f0",
   "metadata": {},
   "source": [
    "Putting this all together, we obtian\n",
    "\\begin{align}\n",
    "\\mathbb{E}[M(t)|\\mathcal{F}(s)]&=(t-s)+(2W^2(s))+(-W^2(s))+(-t)\\\\\n",
    "&=W^2(s)-s\\\\\n",
    "&=M(s).\n",
    "\\end{align}\n",
    "This finishes the proof. $\\square$"
   ]
  },
  {
   "cell_type": "code",
   "execution_count": null,
   "id": "7fff97b3",
   "metadata": {},
   "outputs": [],
   "source": []
  }
 ],
 "metadata": {
  "kernelspec": {
   "display_name": "Python 3",
   "language": "python",
   "name": "python3"
  },
  "language_info": {
   "codemirror_mode": {
    "name": "ipython",
    "version": 3
   },
   "file_extension": ".py",
   "mimetype": "text/x-python",
   "name": "python",
   "nbconvert_exporter": "python",
   "pygments_lexer": "ipython3",
   "version": "3.7.6"
  }
 },
 "nbformat": 4,
 "nbformat_minor": 5
}
