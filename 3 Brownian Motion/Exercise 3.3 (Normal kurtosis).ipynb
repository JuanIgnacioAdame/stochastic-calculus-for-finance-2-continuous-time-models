{
 "cells": [
  {
   "cell_type": "markdown",
   "metadata": {},
   "source": [
    "### Exercise 3.3"
   ]
  },
  {
   "cell_type": "markdown",
   "metadata": {},
   "source": [
    "The *kurtosis* of a random variable is defined to be the ratio of its fourth central moment to the square of its variance.  For a normal random variable, the kurtosis is 3.  This fact was used to obtain $(3.4.7)$.  This exercises verifies this fact."
   ]
  },
  {
   "cell_type": "markdown",
   "metadata": {},
   "source": [
    "Let $X$ be a normal random variable with mean $\\mu$, so that $X-\\mu$ has mean zero.  Let the variance of $X$, which is also the variance of $X-\\mu$, be $\\sigma^2$.  In $(3.2.13)$, we computed the moment-generating function of $X-\\mu$ to be $\\varphi(u)=\\mathbb{E}e^{u(X-\\mu)}=e^{\\frac{1}{2}u^2\\sigma^2}$, where $u$ is a real variable.  Differentiating this function with respect to $u$, we obtain\n",
    "\\begin{equation}\n",
    "\\varphi'(u)=\\mathbb{E}\\left[(X-\\mu)e^{u(X-\\mu)}\\right]=\\sigma^2ue^{\\frac{1}{2}\\sigma^2u^2}\n",
    "\\end{equation}\n",
    "and, in particular, $\\varphi'(0)=\\mathbb{E}(X-\\mu)=0$.  Differentiating again, we obtain\n",
    "\\begin{equation}\n",
    "\\varphi''(u)=\\mathbb{E}\\left[(X-\\mu)^2e^{u(X-u)}\\right]=(\\sigma^2+\\sigma^4u^2)e^{\\frac{1}{2}\\sigma^2u^2}\n",
    "\\end{equation}\n",
    "and, in particular, $\\varphi''(0)=\\mathbb{E}\\left[(X-\\mu)^2\\right]=\\sigma^2$.  Differentiate two more times and obtain the normal kurtosis formula $\\mathbb{E}[(X-\\mu)^4]=3\\sigma^4$."
   ]
  },
  {
   "cell_type": "markdown",
   "metadata": {},
   "source": [
    "### Solution 3.3"
   ]
  },
  {
   "cell_type": "markdown",
   "metadata": {},
   "source": [
    "By differentiating two more times, and evaluating $\\varphi^{(4)}$ at $u=0$, we obtain the expression\n",
    "\\begin{equation}\n",
    "\\varphi^{(4)}(0)=\\mathbb{E}\\left[(X-\\mu)^4\\right].\n",
    "\\end{equation}"
   ]
  },
  {
   "cell_type": "markdown",
   "metadata": {},
   "source": [
    "Let $Y:=X-\\mu$, so that $Y$ has density $f(y)=\\frac{1}{\\sigma\\sqrt{2\\pi}}e^{-\\frac{1}{2}\\frac{y^2}{\\sigma^2}}$.  Then we have\n",
    "\\begin{align}\n",
    "\\mathbb{E}\\left[(X-\\mu)^4\\right]&=\\int_{-\\infty}^{\\infty}y^4\\frac{1}{\\sigma\\sqrt{2\\pi}}e^{-\\frac{1}{2}\\frac{y^2}{\\sigma^2}}dy\\\\\n",
    "&=\\frac{1}{\\sigma\\sqrt{2\\pi}}\\int_{-\\infty}^{\\infty}y^4e^{-\\alpha y^2}dy\n",
    "\\end{align}\n",
    "where, in the last equality, $\\alpha=\\frac{1}{2\\sigma^2}$.  Note that this expression can be rewritten as\n",
    "\\begin{equation}\n",
    "\\frac{1}{\\sigma\\sqrt{2\\pi}}\\int_{-\\infty}^{\\infty}\\frac{\\partial^2}{\\partial\\alpha^2}e^{-\\alpha y^2}dy=\\frac{1}{\\sigma\\sqrt{2\\pi}}\\frac{\\partial^2}{\\partial\\alpha^2}\\int_{-\\infty}^{\\infty}e^{-\\alpha y^2}dy.\n",
    "\\end{equation}\n",
    "Here that we have made use of the so-called Leibniz integral rule to justify bringing out the partial derivative with respect to $\\alpha$ outside of the integral."
   ]
  },
  {
   "cell_type": "markdown",
   "metadata": {},
   "source": [
    "Now it is just a matter of further simplifying the expression.\n",
    "\\begin{align}\n",
    "\\frac{1}{\\sigma\\sqrt{2\\pi}}\\frac{\\partial^2}{\\partial\\alpha^2}\\int_{-\\infty}^{\\infty}e^{-\\alpha y^2}dy&=\\frac{1}{\\sigma\\sqrt{2\\pi}}\\sqrt{\\pi}\\frac{\\partial^2}{\\partial\\alpha^2}\\alpha^{-\\frac{1}{2}}\\\\\n",
    "&=\\underbrace{\\frac{1}{\\sigma\\sqrt{2\\pi}}\\sqrt{\\frac{\\pi}{\\alpha}}}_{=1}\\frac{\\overbrace{(2(2)-1)!!}^{=3}}{(2\\alpha)^2}\\\\\n",
    "&=3\\underbrace{\\frac{1}{(2\\alpha)^2}}_{=\\sigma^4}=3\\sigma^4. \\square\n",
    "\\end{align}"
   ]
  },
  {
   "cell_type": "markdown",
   "metadata": {},
   "source": [
    "*Note*: Here we have used !! to denote the so-called *double factorial*, which is defined to be the product of all integers from 1 up to $n$ that have the same parity as $n$.  We see, therefore, that $(2(2)-1)!!=(4-1)!!=3!!=3\\times 1=3$."
   ]
  }
 ],
 "metadata": {
  "kernelspec": {
   "display_name": "Python 3",
   "language": "python",
   "name": "python3"
  },
  "language_info": {
   "codemirror_mode": {
    "name": "ipython",
    "version": 3
   },
   "file_extension": ".py",
   "mimetype": "text/x-python",
   "name": "python",
   "nbconvert_exporter": "python",
   "pygments_lexer": "ipython3",
   "version": "3.7.6"
  }
 },
 "nbformat": 4,
 "nbformat_minor": 5
}
