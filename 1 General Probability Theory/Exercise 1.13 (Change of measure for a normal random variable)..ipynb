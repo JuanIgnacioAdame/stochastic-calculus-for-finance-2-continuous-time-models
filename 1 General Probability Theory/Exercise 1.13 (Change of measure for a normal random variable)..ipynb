{
 "cells": [
  {
   "cell_type": "markdown",
   "metadata": {},
   "source": [
    "### Exercise 1.13"
   ]
  },
  {
   "cell_type": "markdown",
   "metadata": {},
   "source": [
    "A nonrigorous but informative derivation of the formual for the Radon-Nikodym derivative $Z(\\omega)$ in Example 1.6.6 is provided by this exercise.  As in that example, let $X$ be a standard normal random variable on some probability space $(\\Omega,\\mathcal{F},\\mathbb{P})$, and let $Y=X+\\theta$.  Our goal is to define a strictly positive random variable $Z(\\omega)$ so that when we set\n",
    "\\begin{equation}\n",
    "\\tilde{\\mathbb{P}}(A)=\\int_{A}Z(\\omega)d\\mathbb{P}(\\omega) \\text{ for all } A\\in\\mathcal{F},\n",
    "\\end{equation}\n",
    "the random variable $Y$ under $\\tilde{\\mathbb{P}}$ is standard normal.  If we fix $\\overline{\\omega}\\in\\Omega$ and choose a set $A$ that contains $\\overline{\\omega}$ and is \"small\", then\n",
    "\\begin{equation}\n",
    "\\tilde{\\mathbb{P}}(A)\\approx Z(\\overline{\\omega})\\mathbb{P}(A),\n",
    "\\end{equation}\n",
    "where the symbol $\\approx$ means \"is approximately equal to\".  Dividing by $\\mathbb{P}(A)$, we see that\n",
    "\\begin{equation}\n",
    "\\frac{\\tilde{\\mathbb{P}}(A)}{\\tilde{\\mathbb{P}}(A)}\\approx Z(\\overline{\\omega})\n",
    "\\end{equation}\n",
    "for \"small\" sets $A$ containing $\\overline{\\omega}$.  We use this observation to identify $Z(\\overline{\\omega})$."
   ]
  },
  {
   "cell_type": "markdown",
   "metadata": {},
   "source": [
    "With $\\overline{\\omega}$ fixed, let $x=X(\\overline{\\omega})$.  For $\\epsilon>0$, we define $B(x,\\epsilon)=[x-\\frac{\\epsilon}{2}, x+\\frac{\\epsilon}{2}]$ to be the closed interval centered at $x$ and having length $\\epsilon$.  Let $y=x+\\theta$ and $B(y,\\epsilon)=[y-\\frac{\\epsilon}{2}, y+\\frac{\\epsilon}{2}]$."
   ]
  },
  {
   "cell_type": "markdown",
   "metadata": {},
   "source": [
    "### Exercise 1.13.1"
   ]
  },
  {
   "cell_type": "markdown",
   "metadata": {},
   "source": [
    "Show that\n",
    "\\begin{equation}\n",
    "\\frac{1}{\\epsilon}\\mathbb{P}\\left\\{X\\in B(x,\\epsilon)\\right\\}\\approx \\frac{1}{\\sqrt{2\\pi}}e^{-\\frac{X^2(\\overline{\\omega})}{2}}.\n",
    "\\end{equation}"
   ]
  },
  {
   "cell_type": "markdown",
   "metadata": {},
   "source": [
    "### Solution 1.13.1"
   ]
  },
  {
   "cell_type": "markdown",
   "metadata": {},
   "source": [
    "Because $X$ is standard normal under $\\mathbb{P}$, we in fact have\n",
    "\\begin{equation}\n",
    "\\mathbb{P}\\left\\{X\\in B(x,\\epsilon)\\right\\}=\\int_{x-\\epsilon/2}^{x+\\epsilon/2}\\varphi(s)ds.\n",
    "\\end{equation}"
   ]
  },
  {
   "cell_type": "markdown",
   "metadata": {},
   "source": [
    "Because $[x-\\epsilon/2, x+\\epsilon/2]$ is a \"small\" set containing $x$, we can make the approximation\n",
    "\\begin{equation}\n",
    "\\int_{x-\\epsilon/2}^{x+\\epsilon/2}\\varphi(s)ds=\\varphi(x)\\underbrace{d[x-\\epsilon/2, x+\\epsilon/2]}_{\\epsilon}=\\frac{1}{\\sqrt{2\\pi}}e^{-\\frac{x^2}{2}}\\epsilon=\\frac{1}{\\sqrt{2\\pi}}e^{-\\frac{X^2(\\overline{\\omega})}{2}}\\epsilon.\n",
    "\\end{equation}"
   ]
  },
  {
   "cell_type": "markdown",
   "metadata": {},
   "source": [
    "Hence, have\n",
    "\\begin{equation}\n",
    "\\frac{1}{\\epsilon}\\mathbb{P}\\left\\{X\\in B(x,\\epsilon)\\right\\}\\approx \\frac{1}{\\sqrt{2\\pi}}e^{-\\frac{X^2(\\overline{\\omega})}{2}}. \\square\n",
    "\\end{equation}"
   ]
  },
  {
   "cell_type": "markdown",
   "metadata": {},
   "source": [
    "### Exercise 1.13.2"
   ]
  },
  {
   "cell_type": "markdown",
   "metadata": {},
   "source": [
    "In order for $Y$ to be a standard normal random varaible under $\\tilde{\\mathbb{P}}$, show that that we must have\n",
    "\\begin{equation}\n",
    "\\frac{1}{\\epsilon}\\tilde{\\mathbb{P}}\\left\\{Y\\in B(y,\\epsilon)\\right\\}\\approx\\frac{1}{\\sqrt{2\\pi}}e^{-\\frac{Y^2(\\overline{\\omega})}{2}}.\n",
    "\\end{equation}"
   ]
  },
  {
   "cell_type": "markdown",
   "metadata": {},
   "source": [
    "### Solution 1.13.2"
   ]
  },
  {
   "cell_type": "markdown",
   "metadata": {},
   "source": [
    "In order for $Y$ to be a standard normal random variable under $\\tilde{\\mathbb{P}}$, we must have\n",
    "\\begin{equation}\n",
    "\\tilde{\\mathbb{P}}\\left\\{Y\\in B(y,\\epsilon)\\right\\}\\stackrel{!}{=}\\int_{y-\\epsilon/q}^{y+\\epsilon/2}\\varphi(s)ds.\n",
    "\\end{equation}"
   ]
  },
  {
   "cell_type": "markdown",
   "metadata": {},
   "source": [
    "Because $[y-\\epsilon/2, y+\\epsilon/2]$ is a \"small\" set containing $y$, this would imply the approximation\n",
    "\\begin{equation}\n",
    "\\int_{y-\\epsilon/2}^{y+\\epsilon/2}\\varphi(s)ds=\\varphi(y)\\underbrace{d[y-\\epsilon/2, y+\\epsilon/2]}_{\\epsilon}=\\frac{1}{\\sqrt{2\\pi}}e^{-\\frac{\\overbrace{y^2}^{Y^2(\\overline{\\omega})}}{2}}\\epsilon=\\frac{1}{\\sqrt{2\\pi}}e^{-\\frac{Y^2(\\overline{\\omega})}{2}}\\epsilon.\n",
    "\\end{equation}"
   ]
  },
  {
   "cell_type": "markdown",
   "metadata": {},
   "source": [
    "Hence, we see that we must indeed have\n",
    "\\begin{equation}\n",
    "\\frac{1}{\\epsilon}\\tilde{\\mathbb{P}}\\left\\{Y\\in B(y,\\epsilon)\\right\\}\\approx\\frac{1}{\\sqrt{2\\pi}}e^{-\\frac{Y^2(\\overline{\\omega})}{2}}. \\square\n",
    "\\end{equation}"
   ]
  },
  {
   "cell_type": "markdown",
   "metadata": {},
   "source": [
    "### Exercise 1.13.3"
   ]
  },
  {
   "cell_type": "markdown",
   "metadata": {},
   "source": [
    "Show that $\\left\\{X\\in B(x,\\epsilon)\\right\\}$ and $\\left\\{Y\\in B(y,\\epsilon)\\right\\}$ are the same set, which we call $A(\\overline{\\omega},\\epsilon)$.  This set contains $\\overline{\\omega}$ and is \"small\" when $\\epsilon>0$ is small."
   ]
  },
  {
   "cell_type": "markdown",
   "metadata": {},
   "source": [
    "### Solution 1.13.3"
   ]
  },
  {
   "cell_type": "markdown",
   "metadata": {},
   "source": [
    "Let $\\omega\\in\\{X\\in B(x,\\epsilon)\\}$.  Then $Y(\\omega)=X(\\omega)+\\theta\\geq x-\\epsilon/2+\\theta=(x+\\theta)-\\epsilon/2=y-\\epsilon/2$, and $Y(\\omega)=X(\\omega)+\\theta\\leq x+\\epsilon/2+\\theta=y+\\epsilon/2$.  Hence, $\\omega\\in\\left\\{Y\\in B(y,\\epsilon)\\right\\}$.  This shows $\\{X\\in B(x,\\epsilon)\\}\\subseteq \\{Y\\in B(y,\\epsilon)\\}$"
   ]
  },
  {
   "cell_type": "markdown",
   "metadata": {},
   "source": [
    "Now instead suppose $\\omega\\in\\{Y\\in B(y,\\epsilon)\\}$.  Then $X(\\omega)=Y(\\omega)-\\theta\\leq y+\\epsilon/2-\\theta=(y-\\theta)+\\epsilon/2=x+\\epsilon/2$, and $X(\\omega)=Y(\\omega)-\\theta\\geq y-\\epsilon/2-\\theta=x-\\epsilon/2$.  Hence, $\\omega\\in\\left\\{X\\in B(x,\\epsilon)\\right\\}$.  This shows $\\{Y\\in B(y,\\epsilon)\\}\\subseteq \\{X\\in B(x,\\epsilon)\\}$."
   ]
  },
  {
   "cell_type": "markdown",
   "metadata": {},
   "source": [
    "Putting the two results above together, we can conclude that $\\{Y\\in B(y,\\epsilon)\\}=\\{X\\in B(x,\\epsilon)\\}=:A(\\overline{\\omega},\\epsilon)$. $\\square$"
   ]
  },
  {
   "cell_type": "markdown",
   "metadata": {},
   "source": [
    "### Exercise 1.13.4"
   ]
  },
  {
   "cell_type": "markdown",
   "metadata": {},
   "source": [
    "Show that\n",
    "\\begin{equation}\n",
    "\\frac{\\tilde{\\mathbb{P}}(A(\\overline{\\omega},\\epsilon))}{\\mathbb{P}(A(\\overline{\\omega},\\epsilon))}\\approx e^{-\\theta X(\\overline{\\omega})-\\frac{1}{2}\\theta^2}.\n",
    "\\end{equation}\n",
    "The right-hand side is the value we obtained for $Z(\\overline{\\omega})$ in Example 1.6.6."
   ]
  },
  {
   "cell_type": "markdown",
   "metadata": {},
   "source": [
    "### Solution 1.13.4"
   ]
  },
  {
   "cell_type": "markdown",
   "metadata": {},
   "source": [
    "Using the results from the sub-exercises above, this is now just a matter of a simple calculation.\n",
    "\\begin{equation}\n",
    "\\frac{\\tilde{\\mathbb{P}}(A(\\overline{\\omega},\\epsilon))}{\\mathbb{P}(A(\\overline{\\omega},\\epsilon))}\\approx\\frac{\\frac{1}{\\sqrt{2\\pi}}e^{-\\frac{Y^2(\\overline{\\omega})}{2}}}{\\frac{1}{\\sqrt{2\\pi}}e^{-\\frac{X^2(\\overline{\\omega})}{2}}}=\\frac{e^{-\\frac{Y^2(\\overline{\\omega})}{2}}}{e^{-\\frac{X^2(\\overline{\\omega})}{2}}}=\\frac{e^{-\\frac{(X(\\overline{\\omega})+\\theta)^2}{2}}}{e^{-\\frac{X^2(\\overline{\\omega})}{2}}}=e^{-\\theta X(\\overline{\\omega})-\\frac{1}{2}\\theta^2}. \\square\n",
    "\\end{equation}"
   ]
  },
  {
   "cell_type": "code",
   "execution_count": null,
   "metadata": {},
   "outputs": [],
   "source": []
  }
 ],
 "metadata": {
  "kernelspec": {
   "display_name": "Python 3",
   "language": "python",
   "name": "python3"
  },
  "language_info": {
   "codemirror_mode": {
    "name": "ipython",
    "version": 3
   },
   "file_extension": ".py",
   "mimetype": "text/x-python",
   "name": "python",
   "nbconvert_exporter": "python",
   "pygments_lexer": "ipython3",
   "version": "3.7.6"
  }
 },
 "nbformat": 4,
 "nbformat_minor": 4
}
