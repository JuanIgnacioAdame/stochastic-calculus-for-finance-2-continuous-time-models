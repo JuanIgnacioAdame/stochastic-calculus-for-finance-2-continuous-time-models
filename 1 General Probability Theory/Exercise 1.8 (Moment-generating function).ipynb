{
 "cells": [
  {
   "cell_type": "markdown",
   "metadata": {},
   "source": [
    "### Exercise 1.8"
   ]
  },
  {
   "cell_type": "markdown",
   "metadata": {},
   "source": [
    "Let $X$ be a nonnegative random variable, and assume that\n",
    "\\begin{equation}\n",
    "\\varphi(t)=\\mathbb{E}e^{tX}\n",
    "\\end{equation}\n",
    "is finite for every $t\\in\\mathbb{R}$.  Assume further that $\\mathbb{E}[Xe^{tX}]<\\infty$ for every $t\\in\\mathbb{R}$.  The purpose of this exercise is to show that $\\varphi'(t)=\\mathbb{E}[Xe^{tX}]$ and, in particular, $\\varphi'(0)=\\mathbb{E}X$."
   ]
  },
  {
   "cell_type": "markdown",
   "metadata": {},
   "source": [
    "We recall the definition of derivative:\n",
    "\\begin{equation}\n",
    "\\varphi'(t)=\\lim_{s\\rightarrow t}\\frac{\\varphi(t)-\\varphi(s)}{t-s}=\\lim_{s\\rightarrow t}\\frac{\\mathbb{E}e^{tX}-\\mathbb{E}e^{sX}}{t-s}=\\lim_{s\\rightarrow t}\\mathbb{E}\\left[\\frac{e^{tX}-e^{sX}}{t-s}\\right].\n",
    "\\end{equation}"
   ]
  },
  {
   "cell_type": "markdown",
   "metadata": {},
   "source": [
    "The limit above is taken over a *continuous* variable $s$, but we can choose a sequence of numbers $\\{s_n\\}_{n=1}^{\\infty}$ converging to $t$ and compute\n",
    "\\begin{equation}\n",
    "\\lim_{s_n\\rightarrow t}\\mathbb{E}\\left[\\frac{e^{tX}-e^{s_nX}}{t-s_n}\\right],\n",
    "\\end{equation}\n",
    "where now we are taking a limit of the expectations of the *sequence* of random variables\n",
    "\\begin{equation}\n",
    "Y_n=\\frac{e^{tX}-e^{s_nX}}{t-s_n}.\n",
    "\\end{equation}"
   ]
  },
  {
   "cell_type": "markdown",
   "metadata": {},
   "source": [
    "If this limit turns out to be the same, regardless of how we choose the sequence $\\{s_n\\}_{n=1}^{\\infty}$ that converges to $t$, then this limit is also the same as $\\lim_{s\\rightarrow t}\\mathbb{E}\\left[\\frac{e^{tX}-e^{sX}}{t-s}\\right]$ and is $\\varphi'(t)$."
   ]
  },
  {
   "cell_type": "markdown",
   "metadata": {},
   "source": [
    "The Mean Value Theorem from calculus states that if $f(t)$ is a differentiable function, then for any two numbers $s$ and $t$, there is a number $\\theta$ between $s$ and $t$ such that\n",
    "\\begin{equation}\n",
    "f(t)-f(s)=f'(\\theta)(t-s).\n",
    "\\end{equation}"
   ]
  },
  {
   "cell_type": "markdown",
   "metadata": {},
   "source": [
    "If we fix $\\omega\\in\\Omega$ and define $f(t)=e^{tX(\\omega)}$, then this becomes\n",
    "\\begin{equation}\n",
    "e^{tX(\\omega)}-e^{sX(\\omega)}=(t-s)X(\\omega)e^{\\theta(\\omega)X(\\omega)},\n",
    "\\end{equation}\n",
    "where $\\theta(\\omega)$ is a number depending on $\\omega$ (i.e. a random variable lying between $t$ and $s$)."
   ]
  },
  {
   "cell_type": "markdown",
   "metadata": {},
   "source": [
    "### Exercise 1.8.1"
   ]
  },
  {
   "cell_type": "markdown",
   "metadata": {},
   "source": [
    "Use the Dominated Convergence Theorem (Theorem 1.4.9) and equation (1.9.1) to show that\n",
    "\\begin{equation}\n",
    "\\lim_{n\\rightarrow\\infty}\\mathbb{E}Y_n=\\mathbb{E}[\\lim_{n\\rightarrow\\infty}Y_n]=\\mathbb{E}[Xe^{tX}].\n",
    "\\end{equation}"
   ]
  },
  {
   "cell_type": "markdown",
   "metadata": {},
   "source": [
    "This establishes the desired formula $\\varphi'(t)=\\mathbb{E}[Xe^{tX}]$."
   ]
  },
  {
   "cell_type": "markdown",
   "metadata": {},
   "source": [
    "### Solution 1.8.1"
   ]
  },
  {
   "cell_type": "markdown",
   "metadata": {},
   "source": [
    "Using Equation (1.9.1), we rewrite\n",
    "\\begin{equation}\n",
    "Y_n=\\frac{e^{tX}-e^{s_nX}}{t-s_n}=\\frac{(t-s_n)X(\\omega)e^{\\theta_n(\\omega)X(\\omega)}}{t-s_n}=X(\\omega)e^{\\theta_n(\\omega)X(\\omega)},\n",
    "\\end{equation}\n",
    "where $\\theta_n(\\omega)$ is a number lying between $t$ and $s_n$, wich in turn implies\n",
    "\\begin{equation}\n",
    "\\theta_n(\\omega)\\leq\\max\\{s_n, t\\}.\n",
    "\\end{equation}"
   ]
  },
  {
   "cell_type": "markdown",
   "metadata": {},
   "source": [
    "Our goal now is to find a function which bounds $|X(\\omega)e^{\\theta_n(\\omega)X(\\omega)}|$ from above for all $n$.  First, note that because $X$ is nonnegative, then\n",
    "\\begin{equation}\n",
    "|X(\\omega)e^{\\theta_n(\\omega)X(\\omega)}|=X(\\omega)e^{\\theta_n(\\omega)X(\\omega)},\n",
    "\\end{equation}\n",
    "and\n",
    "\\begin{equation}\n",
    "X(\\omega)e^{\\theta_n(\\omega)X(\\omega)}\\leq X(\\omega)e^{\\max_n\\{\\theta_n(\\omega)\\}X(\\omega)}.\n",
    "\\end{equation}\n",
    "Our goal is to see if we can replace the quantity $\\max_n\\{\\theta_n(\\omega)\\}$ with some $n$-independent $\\theta$ in such a way that $\\mathbb{E}X(\\omega)e^{\\theta(\\omega)X(\\omega)}<\\infty$."
   ]
  },
  {
   "cell_type": "markdown",
   "metadata": {},
   "source": [
    "To see that this is possible, first note that for any $\\epsilon>0$, we may assume $\\max_n\\{|s_n-t\\}|<\\epsilon$.  If this is not the case, note that because $s_n\\rightarrow t$, there exists $N(\\epsilon)$ such that for all $n\\geq N(\\epsilon)$, we have $|s_n-t|<\\epsilon$.  In other words, $\\max_{n\\geq N(\\epsilon)}\\{|s_n-t|\\}<\\epsilon$, so we could always pass to the subsequence indexed by $n\\geq N(\\epsilon)$)."
   ]
  },
  {
   "cell_type": "markdown",
   "metadata": {},
   "source": [
    "This allows to us to bound $\\theta_n(\\omega)$ by\n",
    "\\begin{equation}\n",
    "\\theta_n(\\omega)\\leq\\max\\{s_n, t\\}\\leq t+\\epsilon.\n",
    "\\end{equation}\n",
    "This bound in turn implies that\n",
    "\\begin{equation}\n",
    "|Y_n|=|X(\\omega)e^{\\theta_n(\\omega)X(\\omega)}|=X(\\omega)e^{\\theta_n(\\omega)X(\\omega)}\\leq Z:=X(\\omega)e^{(t+\\epsilon)X(\\omega)}.\n",
    "\\end{equation}"
   ]
  },
  {
   "cell_type": "markdown",
   "metadata": {},
   "source": [
    "Note that by assumption we also have\n",
    "\\begin{equation}\n",
    "\\mathbb{E}Xe^{(t+\\epsilon)X}=\\mathbb{E}Z<\\infty.\n",
    "\\end{equation}"
   ]
  },
  {
   "cell_type": "markdown",
   "metadata": {},
   "source": [
    "This means we may apply The Dominated Convergence Theorem, and we obtain\n",
    "\\begin{equation}\n",
    "\\lim_{n\\rightarrow\\infty}\\mathbb{E}Y_n=\\mathbb{E}[\\lim_{n\\rightarrow\\infty}Y_n]=\\mathbb{E}[Xe^{tX}].\n",
    "\\end{equation}\n",
    "This establishes the desired formula $\\varphi'(t)=\\mathbb{E}[Xe^{tX}]$. $\\square$"
   ]
  },
  {
   "cell_type": "markdown",
   "metadata": {},
   "source": [
    "### Exercise 1.8.2"
   ]
  },
  {
   "cell_type": "markdown",
   "metadata": {},
   "source": [
    "Suppose the random variable $X$ can take both positive and negative values and $\\mathbb{E}e^{tX}<\\infty$ and $\\mathbb{E}[|X|e^{tX}]<\\infty$ for every $t\\in\\mathbb{R}$.  Show that once again $\\varphi'(t)=\\mathbb{E}[Xe^{tX}]$. (Hint: Use the notation (1.3.1)  to write $X=X^{+}-X^{-}$.)"
   ]
  },
  {
   "cell_type": "markdown",
   "metadata": {},
   "source": [
    "### Solution 1.8.2"
   ]
  },
  {
   "cell_type": "markdown",
   "metadata": {},
   "source": [
    "Our goal is to find an $n$-independent $Z(\\omega)$ such that\n",
    "\\begin{equation}\n",
    "|Y_n|=|X(\\omega)e^{\\theta_n(\\omega)X(\\omega)}|\\leq Z(\\omega), \\text{ and } \\mathbb{E}Z<\\infty.\n",
    "\\end{equation}"
   ]
  },
  {
   "cell_type": "markdown",
   "metadata": {},
   "source": [
    "First, note that\n",
    "\\begin{align}\n",
    "|X(\\omega)e^{\\theta_n(\\omega)X(\\omega)}|&\\leq |X(\\omega)| e^{\\theta_n(\\omega)X(\\omega)}\\\\\n",
    "&\\leq |X(\\omega)| e^{|\\theta_n(\\omega)X(\\omega)|}\\\\\n",
    "&\\leq|X(\\omega)| e^{\\max_n\\{|\\theta_n(\\omega)|\\}|X(\\omega)|}\\\\\n",
    "&\\leq|X(\\omega)| e^{(|t|+|\\epsilon|)|X(\\omega)|}:=Z(\\omega).\n",
    "\\end{align}"
   ]
  },
  {
   "cell_type": "markdown",
   "metadata": {},
   "source": [
    "Our goal is now to show that $\\mathbb{E}Z<\\infty$."
   ]
  },
  {
   "cell_type": "markdown",
   "metadata": {},
   "source": [
    "To see that this is the case, recall that by assumption we have\n",
    "\\begin{align}\n",
    "\\infty>\\mathbb{E}[|X|e^{(|t|+|\\epsilon|)X}]&=\\int_{\\Omega}|X|e^{(|t|+|\\epsilon|)X}d\\mathbb{P}\\\\\n",
    "&=\\int_{\\{X\\geq 0\\}}|X|e^{(|t|+|\\epsilon|)X^{+}}d\\mathbb{P}+\\int_{\\{X<0\\}}|X|e^{(|t|+|\\epsilon|)(-X^{-})}d\\mathbb{P}.\n",
    "\\end{align}"
   ]
  },
  {
   "cell_type": "markdown",
   "metadata": {},
   "source": [
    "This implies that\n",
    "\\begin{equation}\n",
    "\\int_{\\{X\\geq 0\\}}|X|e^{(|t|+|\\epsilon|)X^{+}}d\\mathbb{P}<\\infty.\n",
    "\\end{equation}"
   ]
  },
  {
   "cell_type": "markdown",
   "metadata": {},
   "source": [
    "Similarly, by assumption we have\n",
    "\\begin{align}\n",
    "\\infty>\\mathbb{E}[|X|e^{-(|t|+|\\epsilon|)X}]&=\\int_{\\Omega}|X|e^{-(|t|+|\\epsilon|)X}d\\mathbb{P}\\\\\n",
    "&=\\int_{\\{X\\geq 0\\}}|X|e^{-(|t|+|\\epsilon|)X^{+}}d\\mathbb{P}+\\int_{\\{X<0\\}}|X|e^{-(|t|+|\\epsilon|)(-X^{-})}d\\mathbb{P}\\\\\n",
    "&=\\int_{\\{X\\geq 0\\}}|X|e^{-(|t|+|\\epsilon|)X^{+}}d\\mathbb{P}+\\int_{\\{X<0\\}}|X|e^{(|t|+|\\epsilon|)(X^{-})}d\\mathbb{P}.\n",
    "\\end{align}"
   ]
  },
  {
   "cell_type": "markdown",
   "metadata": {},
   "source": [
    "This implies that\n",
    "\\begin{equation}\n",
    "\\int_{\\{X<0\\}}|X|e^{(|t|+|\\epsilon|)(X^{-})}d\\mathbb{P}<\\infty.\n",
    "\\end{equation}"
   ]
  },
  {
   "cell_type": "markdown",
   "metadata": {},
   "source": [
    "Putting those two bounds together, we obtain\n",
    "\\begin{align}\n",
    "\\mathbb{E}Z&=\\int_{\\Omega}|X(\\omega)| e^{(|t|+|\\epsilon|)|X(\\omega)|}d\\mathbb{P}\\\\\n",
    "&=\\int_{\\{X\\geq 0\\}}|X|e^{(|t|+|\\epsilon|)X^{+}}d\\mathbb{P}+\\int_{\\{X<0\\}}|X|e^{(|t|+|\\epsilon|)(X^{-})}d\\mathbb{P}<\\infty.\n",
    "\\end{align}"
   ]
  },
  {
   "cell_type": "markdown",
   "metadata": {},
   "source": [
    "This means we may apply The Dominated Convergence Theorem, and we obtain\n",
    "\\begin{equation}\n",
    "\\lim_{n\\rightarrow\\infty}\\mathbb{E}Y_n=\\mathbb{E}[\\lim_{n\\rightarrow\\infty}Y_n]=\\mathbb{E}[Xe^{tX}].\n",
    "\\end{equation}\n",
    "This establishes the desired formula $\\varphi'(t)=\\mathbb{E}[Xe^{tX}]$. $\\square$"
   ]
  },
  {
   "cell_type": "code",
   "execution_count": null,
   "metadata": {},
   "outputs": [],
   "source": []
  }
 ],
 "metadata": {
  "kernelspec": {
   "display_name": "Python 3",
   "language": "python",
   "name": "python3"
  },
  "language_info": {
   "codemirror_mode": {
    "name": "ipython",
    "version": 3
   },
   "file_extension": ".py",
   "mimetype": "text/x-python",
   "name": "python",
   "nbconvert_exporter": "python",
   "pygments_lexer": "ipython3",
   "version": "3.7.6"
  }
 },
 "nbformat": 4,
 "nbformat_minor": 4
}
