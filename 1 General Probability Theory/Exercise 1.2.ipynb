{
 "cells": [
  {
   "cell_type": "markdown",
   "metadata": {},
   "source": [
    "### Exercise 1.2"
   ]
  },
  {
   "cell_type": "markdown",
   "metadata": {},
   "source": [
    "The infinite coin-toss space $\\Omega_{\\infty}$ of Eample 1.1.4 is *uncountably infinite*.  In other words, we cannot list all its elements in a sequence.  To see that this is impossible, suppose there were such a sequential list of all elements of $\\Omega_{\\infty}$:\n",
    "\\begin{align}\n",
    "\\omega^{(1)}&=\\omega_1^{(1)}\\omega_2^{(1)}\\omega_3^{(1)}\\omega_4^{(1)}\\dots\\\\\n",
    "\\omega^{(2)}&=\\omega_1^{(2)}\\omega_2^{(2)}\\omega_3^{(2)}\\omega_4^{(2)}\\dots\\\\\n",
    "\\omega^{(3)}&=\\omega_1^{(3)}\\omega_2^{(3)}\\omega_3^{(3)}\\omega_4^{(3)}\\dots\\\\\n",
    "&\\vdots\n",
    "\\end{align}"
   ]
  },
  {
   "cell_type": "markdown",
   "metadata": {},
   "source": [
    "An element that does not appear in this list is the sequence whose first component is $H$ if $\\omega_1^{(1)}$ is $T$ and is $T$ if $\\omega_1^{(1)}$ is $H$, whose second component is $H$ if $\\omega_2^{(2)}$ is $T$ and is $T$ if $\\omega_2^{(2)}$ is $H$, whose third component is $H$ if $\\omega_3^{(3)}$ is $T$ and is $T$ if $\\omega_3^{(3)}$ is $H$, etc.  Thus, the list does not include every element of $\\Omega_{\\infty}$."
   ]
  },
  {
   "cell_type": "markdown",
   "metadata": {},
   "source": [
    "Now consider the set of sequences of coin tosses in which the outcome on each even-numbered toss matches the outcome of the toss preceding it, i.e.,\n",
    "\\begin{equation}\n",
    "A=\\{\\omega=\\omega_1\\omega_2\\omega_3\\omega_4\\dots; \\omega_1=\\omega_2,\\omega_3=\\omega_4,\\dots\\}.\n",
    "\\end{equation}"
   ]
  },
  {
   "cell_type": "markdown",
   "metadata": {},
   "source": [
    "### Exercise 1.2.1"
   ]
  },
  {
   "cell_type": "markdown",
   "metadata": {},
   "source": [
    "Show that $A$ is uncountably infinite."
   ]
  },
  {
   "cell_type": "markdown",
   "metadata": {},
   "source": [
    "### Solution 1.2.1"
   ]
  },
  {
   "cell_type": "markdown",
   "metadata": {},
   "source": [
    "Suppose there were such a sequential list of all elements of $A$:\n",
    "\\begin{align}\n",
    "\\omega^{(1)}&=\\omega_1^{(1)}\\omega_1^{(1)}\\omega_2^{(1)}\\omega_2^{(1)}\\dots\\\\\n",
    "\\omega^{(2)}&=\\omega_1^{(2)}\\omega_1^{(2)}\\omega_2^{(2)}\\omega_2^{(2)}\\dots\\\\\n",
    "\\omega^{(3)}&=\\omega_1^{(3)}\\omega_1^{(3)}\\omega_2^{(3)}\\omega_2^{(3)}\\dots\\\\\n",
    "&\\vdots\n",
    "\\end{align}"
   ]
  },
  {
   "cell_type": "markdown",
   "metadata": {},
   "source": [
    "An element that does not appear in this list is the sequence whose first and second component is $H$ if $\\omega_1^{(1)}=\\omega_2^{(1)}$ is $T$ and is $T$ if $\\omega_1^{(1)}=\\omega_2^{(1)}$ is $H$, whose third and fourth component is $H$ if $\\omega_3^{(2)}=\\omega_4^{(2)}$ is $T$ and is $T$ if $\\omega_3^{(2)}=\\omega_4^{(2)}$ is $H$, whose fifth and sixth component is $H$ if $\\omega_3^{(5)}=\\omega_3^{(6)}$ is $T$ and is $T$ if $\\omega_3^{(5)}=\\omega_3^{(6)}$ is $H$, etc.  Thus, the list does not include every element of $A$. $\\square$"
   ]
  },
  {
   "cell_type": "markdown",
   "metadata": {},
   "source": [
    "### Exercise 1.2.2"
   ]
  },
  {
   "cell_type": "markdown",
   "metadata": {},
   "source": [
    "Show that, when $0<p<1$, we have $\\mathbb{P}(A)=0$."
   ]
  },
  {
   "cell_type": "markdown",
   "metadata": {},
   "source": [
    "### Solution 1.2.2"
   ]
  },
  {
   "cell_type": "markdown",
   "metadata": {},
   "source": [
    "Let\n",
    "\\begin{equation}\n",
    "A_n:=\\{\\omega=\\omega_1\\omega_2\\omega_3\\omega_4\\dots; \\omega_1=\\omega_2,\\dots,\\omega_{2n-1}=\\omega_{2n}\\}.\n",
    "\\end{equation}\n",
    "In other words, $A_n$ is the set of all infinite-length coin toss sequences such that, for the first $2n$ coin tosses, all even coin tosses match the preceding coin toss."
   ]
  },
  {
   "cell_type": "markdown",
   "metadata": {},
   "source": [
    "Clearly, $A\\subset A_n$ for every $n$."
   ]
  },
  {
   "cell_type": "markdown",
   "metadata": {},
   "source": [
    "Our goal is now to show that $\\lim_{n\\rightarrow\\infty}\\mathbb{P}(A_n)=0$.  If this is the case, then we can conclude from Exercise 1.1.2 that $\\mathbb{P}(A)=0$."
   ]
  },
  {
   "cell_type": "markdown",
   "metadata": {},
   "source": [
    "We now show this.\n",
    "\\begin{equation}\n",
    "\\mathbb{P}(A_n)=\\frac{2^n}{2^{2n}}=\\frac{1}{2^n}\\stackrel{n\\rightarrow\\infty}{\\rightarrow}0.\n",
    "\\end{equation}"
   ]
  },
  {
   "cell_type": "markdown",
   "metadata": {},
   "source": [
    "Hence, we can conclude the desired result: $\\mathbb{P}(A)=0$. $\\square$"
   ]
  },
  {
   "cell_type": "markdown",
   "metadata": {},
   "source": [
    "### Remark"
   ]
  },
  {
   "cell_type": "markdown",
   "metadata": {},
   "source": [
    "Uncountably infinite sets can have any probability between zero and one, including zero and one.  The uncountability of the set does ot help determine its probability."
   ]
  },
  {
   "cell_type": "code",
   "execution_count": null,
   "metadata": {},
   "outputs": [],
   "source": []
  }
 ],
 "metadata": {
  "kernelspec": {
   "display_name": "Python 3",
   "language": "python",
   "name": "python3"
  },
  "language_info": {
   "codemirror_mode": {
    "name": "ipython",
    "version": 3
   },
   "file_extension": ".py",
   "mimetype": "text/x-python",
   "name": "python",
   "nbconvert_exporter": "python",
   "pygments_lexer": "ipython3",
   "version": "3.7.6"
  }
 },
 "nbformat": 4,
 "nbformat_minor": 4
}
