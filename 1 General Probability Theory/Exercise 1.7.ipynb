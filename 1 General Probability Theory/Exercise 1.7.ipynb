{
 "cells": [
  {
   "cell_type": "markdown",
   "metadata": {},
   "source": [
    "### Exercise 1.7"
   ]
  },
  {
   "cell_type": "markdown",
   "metadata": {},
   "source": [
    "For each positive integer $n$, define $f_n$ to be the normal density with mean zero and variance $n$, i.e.,\n",
    "\\begin{equation}\n",
    "f_n(x)=\\frac{1}{\\sqrt{2n\\pi}}e^{-\\frac{x^2}{2n}}.\n",
    "\\end{equation}"
   ]
  },
  {
   "cell_type": "markdown",
   "metadata": {},
   "source": [
    "### Exercise 1.7.1"
   ]
  },
  {
   "cell_type": "markdown",
   "metadata": {},
   "source": [
    "What is the function $f(x)=\\lim_{n\\rightarrow\\infty}f_n(x)$?"
   ]
  },
  {
   "cell_type": "markdown",
   "metadata": {},
   "source": [
    "### Solution 1.7.1"
   ]
  },
  {
   "cell_type": "markdown",
   "metadata": {},
   "source": [
    "Note that $\\max_{x\\in\\mathbb{R}}e^{-\\frac{x^2}{2n}}=e^{-\\frac{0}{2n}}=1$.  Hence\n",
    "\\begin{equation}\n",
    "\\lim_{n\\rightarrow\\infty}f_n(x)\\leq\\lim_{n\\rightarrow\\infty}\\frac{1}{\\sqrt{2n\\pi}}1=0.\n",
    "\\end{equation}"
   ]
  },
  {
   "cell_type": "markdown",
   "metadata": {},
   "source": [
    "On the other hand, $\\inf_{x\\in\\mathbb{R}}\\{e^{-\\frac{x^2}{2n}}\\}=0$.  Hence,\n",
    "\\begin{equation}\n",
    "\\lim_{n\\rightarrow\\infty}f_n(x)\\geq\\lim_{n\\rightarrow\\infty}\\frac{1}{\\sqrt{2n\\pi}}0=0.\n",
    "\\end{equation}"
   ]
  },
  {
   "cell_type": "markdown",
   "metadata": {},
   "source": [
    "The only way those two equalities are satisfied is if\n",
    "\\begin{equation}\n",
    "\\lim_{n\\rightarrow\\infty}f_n(x)=0. \\square\n",
    "\\end{equation}"
   ]
  },
  {
   "cell_type": "markdown",
   "metadata": {},
   "source": [
    "### Exercise 1.7.2"
   ]
  },
  {
   "cell_type": "markdown",
   "metadata": {},
   "source": [
    "What is $\\lim_{n\\rightarrow\\infty}\\int_{-\\infty}^{\\infty}f_n(x)dx$?"
   ]
  },
  {
   "cell_type": "markdown",
   "metadata": {},
   "source": [
    "### Solution 1.7.2"
   ]
  },
  {
   "cell_type": "markdown",
   "metadata": {},
   "source": [
    "Recall that\n",
    "\\begin{equation}\n",
    "\\int_{-\\infty}^{\\infty}e^{-ax^2+bx+c}=\\sqrt{\\frac{\\pi}{a}}e^{\\frac{b^2}{4a}+c}.\n",
    "\\end{equation}"
   ]
  },
  {
   "cell_type": "markdown",
   "metadata": {},
   "source": [
    "We can make use of this identity, where in our case $b=c=0$, and $a=\\frac{1}{2n}$.  In other words,\n",
    "\\begin{equation}\n",
    "\\int_{-\\infty}^{\\infty}\\frac{1}{\\sqrt{2n\\pi}}e^{-\\frac{x^2}{2n}}dx=\\frac{1}{\\sqrt{2n\\pi}}\\sqrt{\\frac{\\pi}{\\frac{1}{2n}}}=1.\n",
    "\\end{equation}"
   ]
  },
  {
   "cell_type": "markdown",
   "metadata": {},
   "source": [
    "Hence, we see that\n",
    "\\begin{equation}\n",
    "\\lim_{n\\rightarrow\\infty}\\int_{-\\infty}^{\\infty}f_n(x)dx=\\lim_{n\\rightarrow\\infty}1=1. \\square\n",
    "\\end{equation}"
   ]
  },
  {
   "cell_type": "markdown",
   "metadata": {},
   "source": [
    "### Exercise 1.7.3"
   ]
  },
  {
   "cell_type": "markdown",
   "metadata": {},
   "source": [
    "Note that\n",
    "\\begin{equation}\n",
    "\\lim_{n\\rightarrow\\infty}\\int_{-\\infty}^{\\infty}f_n(x)dx\\neq\\int_{-\\infty}^{\\infty}f(x)dx.\n",
    "\\end{equation}"
   ]
  },
  {
   "cell_type": "markdown",
   "metadata": {},
   "source": [
    "Explain why this does not violate the Monotone Convergence Theorem, 1.4.5.  Why does this not violate the Dominated Convergence Theorem, Theorem 1.4.9?"
   ]
  },
  {
   "cell_type": "markdown",
   "metadata": {},
   "source": [
    "### Solution 1.7.3"
   ]
  },
  {
   "cell_type": "markdown",
   "metadata": {},
   "source": [
    "#### Monotone Convergence Theorem"
   ]
  },
  {
   "cell_type": "markdown",
   "metadata": {},
   "source": [
    "Recall that one of the requirements of the Monotone Convergence Theorem is that\n",
    "\\begin{equation}\n",
    "0\\leq f_1\\leq f_2\\leq... \\text{ almost everywhere}.\n",
    "\\end{equation}"
   ]
  },
  {
   "cell_type": "markdown",
   "metadata": {},
   "source": [
    "In our case, this condition is violated.  To see this, let $0\\leq n<m$.  Then\n",
    "\\begin{equation}\n",
    "\\frac{f_n}{f_m}=\\frac{\\frac{1}{\\sqrt{2n\\pi}}e^{-\\frac{x^2}{2n}}}{\\frac{1}{\\sqrt{2m\\pi}}e^{-\\frac{x^2}{2m}}}=\\sqrt{\\frac{m}{n}}e^{-\\frac{x^2}{2n}+\\frac{x^2}{2m}}.\n",
    "\\end{equation}"
   ]
  },
  {
   "cell_type": "markdown",
   "metadata": {},
   "source": [
    "Note that when $x=0$, this reduces to\n",
    "\\begin{equation}\n",
    "\\frac{f_n(0)}{f_m(0)}=\\sqrt{\\frac{m}{n}}e^{-\\frac{0^2}{2n}+\\frac{0^2}{2m}}=\\sqrt{\\frac{m}{n}}>1.\n",
    "\\end{equation}"
   ]
  },
  {
   "cell_type": "markdown",
   "metadata": {},
   "source": [
    "Because the function is continuous, then we can find an $\\epsilon>0$ such that for all $x\\in[0-\\epsilon, 0+\\epsilon]$, we have\n",
    "\\begin{equation}\n",
    "\\frac{f_n(x)}{f_m(x)}>1\\Rightarrow f_n(x)>f_m(x).\n",
    "\\end{equation}"
   ]
  },
  {
   "cell_type": "markdown",
   "metadata": {},
   "source": [
    "Hence, it does not hold that $f_m\\geq f_n$ almost everywhere, and this violates the conditions under which the Monotone Convergence Theorem holds."
   ]
  },
  {
   "cell_type": "markdown",
   "metadata": {},
   "source": [
    "#### Dominated Convergence Theorem"
   ]
  },
  {
   "cell_type": "markdown",
   "metadata": {},
   "source": [
    "As for the Dominated Convergence Theorem, recall that one of the conditions is that there be a function $g$ such that $|f_n|\\leq g$, and $\\int_{-\\infty}^{\\infty}g(x)dx<\\infty$.  "
   ]
  },
  {
   "cell_type": "markdown",
   "metadata": {},
   "source": [
    "To that end, let $g$ be any function such that $g\\geq|f_n|$.  We want to show that in our case, this automatically implies $\\int_{-\\infty}^{\\infty}g(x)dx=\\infty$.  Indeed, if $g(x)\\geq f_n(x)$ for all $n$, then, in particular,\n",
    "\\begin{equation}\n",
    "g(x)\\geq f_{\\lceil x^2\\rceil}(x)=\\frac{1}{\\sqrt{2\\lceil x^2\\rceil\\pi}}e^{-\\frac{x^2}{2\\lceil x^2\\rceil}}\\geq\\frac{1}{\\sqrt{2\\lceil x^2\\rceil\\pi}}e^{-\\frac{1}{2}}=\\frac{e^{-\\frac{1}{2}}}{\\sqrt{2\\pi}}\\frac{1}{\\sqrt{\\lceil x^2\\rceil}}.\n",
    "\\end{equation}"
   ]
  },
  {
   "cell_type": "markdown",
   "metadata": {},
   "source": [
    "Our goal now is to show that $\\int_{-\\infty}^{\\infty}\\frac{1}{\\sqrt{\\lceil x^2\\rceil}}dx=\\infty$.  To see this, first note that\n",
    "\\begin{equation}\n",
    "\\frac{1}{\\sqrt{\\lceil x^2\\rceil}}\\geq\\frac{1}{\\sqrt{x^2+1}}.\n",
    "\\end{equation}\n",
    "Hence,\n",
    "\\begin{align}\n",
    "\\int_{-\\infty}^{\\infty}\\frac{1}{\\sqrt{\\lceil x^2\\rceil}}dx&\\geq\\int_{-\\infty}^{\\infty}\\frac{1}{\\sqrt{x^2+1}}dx\\\\\n",
    "&=\\underbrace{\\log(\\sqrt{x^2+1}+x)}_{\\sinh^{-1}(x)}|_{-\\infty}^{\\infty}=\\infty.\n",
    "\\end{align}"
   ]
  },
  {
   "cell_type": "markdown",
   "metadata": {},
   "source": [
    "This implies that $\\int_{-\\infty}^{\\infty}g(x)dx=\\infty$, which violates the conditions under which the Dominated Convergence Theorem holds."
   ]
  },
  {
   "cell_type": "markdown",
   "metadata": {},
   "source": [
    "In summary, we see that neither of the two theorems are violated, as should be the case. $\\square$"
   ]
  },
  {
   "cell_type": "code",
   "execution_count": null,
   "metadata": {},
   "outputs": [],
   "source": []
  }
 ],
 "metadata": {
  "kernelspec": {
   "display_name": "Python 3",
   "language": "python",
   "name": "python3"
  },
  "language_info": {
   "codemirror_mode": {
    "name": "ipython",
    "version": 3
   },
   "file_extension": ".py",
   "mimetype": "text/x-python",
   "name": "python",
   "nbconvert_exporter": "python",
   "pygments_lexer": "ipython3",
   "version": "3.7.6"
  }
 },
 "nbformat": 4,
 "nbformat_minor": 4
}
