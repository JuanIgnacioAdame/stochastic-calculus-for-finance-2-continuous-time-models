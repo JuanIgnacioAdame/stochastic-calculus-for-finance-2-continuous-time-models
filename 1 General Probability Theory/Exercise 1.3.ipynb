{
 "cells": [
  {
   "cell_type": "markdown",
   "metadata": {},
   "source": [
    "### Exercise 1.3"
   ]
  },
  {
   "cell_type": "markdown",
   "metadata": {},
   "source": [
    "Consider the set function $\\mathbb{P}$ defined for every subset of $[0,1]$ by the formula that $\\mathbb{P}(A)=0$ if $A$ is a finite set and $\\mathbb{P}(A)=\\infty$ if $A$ is an infinite set.  Show that $\\mathbb{P}$ satisfies $(1.1.3)-(1.1.5)$, but $\\mathbb{P}$ does not have the countable additivity property $(1.1.2)$.  We see then that the finite additivity property $(1.1.5)$ does not imply the countable additivity property $(1.1.2)$."
   ]
  },
  {
   "cell_type": "markdown",
   "metadata": {},
   "source": [
    "### Solution 1.3"
   ]
  },
  {
   "cell_type": "markdown",
   "metadata": {},
   "source": [
    "$(1.1.3)$ is the property that $\\mathbb{P}(\\emptyset)=0$.  Because $\\emptyset$ is finite, this property is indeed satisfied by $\\mathbb{P}$."
   ]
  },
  {
   "cell_type": "markdown",
   "metadata": {},
   "source": [
    "$(1.1.4)$ is the property that if $A$ and $B$ are disjoint sets in $\\mathcal{F}$, then $\\mathbb{P}(A\\cup B)=\\mathbb{P}(A)+\\mathbb{P}(B)$.  To check this, we must consider three case: 1) both $A$ and $B$ are finite, 2) $A$ is finite but $B$ is infinite (the case that $A$ is infinite but $B$ is finite is automatically proven by symmetry), and 3) both $A$ and $B$ are infinite."
   ]
  },
  {
   "cell_type": "markdown",
   "metadata": {},
   "source": [
    "1) If both $A$ and $B$ are finite, then $A\\cup B$ is finite, in which case $\\mathbb{P}(A\\cup B)=0=0+0=\\mathbb{P}(A)+\\mathbb{P}(B)$."
   ]
  },
  {
   "cell_type": "markdown",
   "metadata": {},
   "source": [
    "2) If $A$ is finite but $B$ is infinite, then $A\\cup B$ is infinite, in which case $\\mathbb{P}(A\\cup B)=\\infty=0+\\infty=\\mathbb{P}(A)+\\mathbb{P}(B)$."
   ]
  },
  {
   "cell_type": "markdown",
   "metadata": {},
   "source": [
    "3) If both $A$ and $B$ are infinite, then $A\\cup B$ is infinite, in which case $\\mathbb{P}(A\\cup B)=\\infty=\\infty+\\infty=\\mathbb{P}(A)+\\mathbb{P}(B)$."
   ]
  },
  {
   "cell_type": "markdown",
   "metadata": {},
   "source": [
    "$(1.1.5)$ is the property that if $A_1,\\dots,A_N$ are finitely many disjoint sets in $\\mathcal{F}$, then $\\mathcal{P}(\\cup_{i=1}^{N}A_n)=\\sum_{n=1}^{N}\\mathbb{P}(A_n)$."
   ]
  },
  {
   "cell_type": "markdown",
   "metadata": {},
   "source": [
    "This property holds by induction on $N$.  Our base case is $N=2$, which we have just shown.  Now suppose that we have shown that the result holds up to $N-1$.  We want to show that this implies the result also holds for $N$.  To see that this holds, let $A=A_1$, $B=\\cup_{n=2}^{N}A_n$.  Then $\\mathbb{P}(\\cup_{i=1}^{N}A_n)=\\mathbb{P}(A\\cup B)=\\mathbb{P}(A)+\\mathbb{P}(B)=\\mathbb{P}(A_1)+\\mathbb{P}(\\cup_{n=2}^{N}A_n)=\\mathbb{P}(A_1)+\\mathbb{P}(A_2)+\\dots+\\mathbb{P}(A_N)=\\sum_{n=1}^{N}A_n$."
   ]
  },
  {
   "cell_type": "markdown",
   "metadata": {},
   "source": [
    "Finally, we need to show that $\\mathbb{P}$ does not satisfy countable additiviy.  To see this, consider the set $A=\\cup_{n=0}^{\\infty}\\{\\frac{1}{2^n}\\}$.  Clearly $A$ is infinite, so We see then that the finite additivity property $(1.1.5)$ does not imply the countable additivity property $(1.1.2)$. $\\square$"
   ]
  },
  {
   "cell_type": "code",
   "execution_count": null,
   "metadata": {},
   "outputs": [],
   "source": []
  }
 ],
 "metadata": {
  "kernelspec": {
   "display_name": "Python 3",
   "language": "python",
   "name": "python3"
  },
  "language_info": {
   "codemirror_mode": {
    "name": "ipython",
    "version": 3
   },
   "file_extension": ".py",
   "mimetype": "text/x-python",
   "name": "python",
   "nbconvert_exporter": "python",
   "pygments_lexer": "ipython3",
   "version": "3.7.6"
  }
 },
 "nbformat": 4,
 "nbformat_minor": 4
}
