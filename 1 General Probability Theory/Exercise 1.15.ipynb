{
 "cells": [
  {
   "cell_type": "markdown",
   "metadata": {},
   "source": [
    "### Exericse 1.15"
   ]
  },
  {
   "cell_type": "markdown",
   "metadata": {},
   "source": [
    "Let $X$ be a random variable on a probability space $(\\Omega,\\mathcal{F},\\mathbb{P})$, and assume $X$ has a density function $f(x)$ that is positive for every $x\\in\\mathbb{R}$. Let $g$ be a strictly increasing, differentiable function satisfying\n",
    "\\begin{equation}\n",
    "\\lim_{y\\rightarrow-\\infty}g(y)=-\\infty, \\quad \\lim_{y\\rightarrow\\infty}g(y)=\\infty,\n",
    "\\end{equation}\n",
    "and define the random variable $Y=g(X)$."
   ]
  },
  {
   "cell_type": "markdown",
   "metadata": {},
   "source": [
    "Let $h(y)$ be an arbitrary nonnegative function satisfying $\\int_{-\\infty}^{\\infty}h(y)dy=1$.  We want to change the probability measure so that $h(y)$ is the density function for the random variable $Y$.  To do this, we define\n",
    "\\begin{equation}\n",
    "Z=\\frac{h(g(X))g'(X)}{f(X)}.\n",
    "\\end{equation}"
   ]
  },
  {
   "cell_type": "markdown",
   "metadata": {},
   "source": [
    "### Exercise 1.15.1"
   ]
  },
  {
   "cell_type": "markdown",
   "metadata": {},
   "source": [
    "Show that $Z$ is nonnegative and $\\mathbb{E}Z=1$."
   ]
  },
  {
   "cell_type": "markdown",
   "metadata": {},
   "source": [
    "### Solution 1.15.1"
   ]
  },
  {
   "cell_type": "markdown",
   "metadata": {},
   "source": [
    "First we show that $Z$ is nonnegative.  To see this, note that $h$ is nonnegative by assumption, and $f$ is nonnegative by assumption.  Similarly, $g$ is strictly increasing by assumption, and hence $g'$ is nonnegative.  Hence, $Z=hg'/f$ is nonnegative."
   ]
  },
  {
   "cell_type": "markdown",
   "metadata": {},
   "source": [
    "Now we show $\\mathbb{E}Z=1$.  By Theorem 1.5.2, we have \n",
    "\\begin{equation}\n",
    "\\int_{\\Omega}Z(\\omega)d\\mathbb{P}(\\omega)=\\int_{-\\infty}^{\\infty}\\varphi(x)h(g(x))g'(x)/f(x)dx,\n",
    "\\end{equation}\n",
    "where $\\varphi(x)$ is the density of $x$.  But $\\varphi(x)=f(x)$, and so we can plug this into the expression above and it simplifies further to\n",
    "\\begin{equation}\n",
    "\\int_{-\\infty}^{\\infty}h(g(x))g'(x)dx.\n",
    "\\end{equation}"
   ]
  },
  {
   "cell_type": "markdown",
   "metadata": {},
   "source": [
    "We now use change of variables.  If $u=g(x)$, then $du=g'(x)dx$, and the above expression reads\n",
    "\\begin{equation}\n",
    "\\int_{u(x=-\\infty)}^{u(x=\\infty)}h(u)du.\n",
    "\\end{equation}"
   ]
  },
  {
   "cell_type": "markdown",
   "metadata": {},
   "source": [
    "It remains to replace the limits of integration.  By assumption, $\\lim_{y\\rightarrow-\\infty}g(y)=-\\infty$, and hence $u(x=-\\infty)=g(-\\infty)=-\\infty$.  Similarly, by assumption we also have $\\lim_{y\\rightarrow\\infty}g(y)=\\infty$, and hence $u(x=\\infty)=g(\\infty)=\\infty$.  Now we can go ahead and plug this into the limits of integration and we have obtain\n",
    "\\begin{equation}\n",
    "\\int_{-\\infty}^{\\infty}h(u)du=1,\n",
    "\\end{equation}\n",
    "where this equality holds by assumption on $h$. $\\square$"
   ]
  },
  {
   "cell_type": "markdown",
   "metadata": {},
   "source": [
    "### Exercise 1.15.2"
   ]
  },
  {
   "cell_type": "markdown",
   "metadata": {},
   "source": [
    "Now define $\\tilde{\\mathbb{P}}$ by\n",
    "\\begin{equation}\n",
    "\\tilde{\\mathbb{P}}(A)=\\int_{A}Zd\\mathbb{P} \\quad \\text{ for all } A\\in\\mathcal{F}.\n",
    "\\end{equation}"
   ]
  },
  {
   "cell_type": "markdown",
   "metadata": {},
   "source": [
    "Show that $Y$ has density $h$ under $\\tilde{\\mathbb{P}}$."
   ]
  },
  {
   "cell_type": "markdown",
   "metadata": {},
   "source": [
    "### Solution 1.15.2"
   ]
  },
  {
   "cell_type": "markdown",
   "metadata": {},
   "source": [
    "By defintion of a probability density, $Y$ has density $h$ under $\\tilde{\\mathbb{P}}$ if for every Borel subset $B$ of $\\mathbb{R}$, we have\n",
    "\\begin{equation}\n",
    "\\tilde{\\mathbb{P}}\\{Y\\in B\\}=\\int_{B}h(x)dx.\n",
    "\\end{equation}"
   ]
  },
  {
   "cell_type": "markdown",
   "metadata": {},
   "source": [
    "Note this condition is in fact equivalent to the apparently weaker condition\n",
    "\\begin{equation}\n",
    "\\tilde{\\mathbb{P}}\\{Y\\leq b\\}=\\int_{-\\infty}^{b}h(x)dx \\text{ for every } b\\in\\mathbb{R}.\n",
    "\\end{equation}"
   ]
  },
  {
   "cell_type": "markdown",
   "metadata": {},
   "source": [
    "We now verify this second condition."
   ]
  },
  {
   "cell_type": "markdown",
   "metadata": {},
   "source": [
    "By definition of $\\tilde{\\mathbb{P}}$, we have\n",
    "\\begin{equation}\n",
    "\\tilde{\\mathbb{P}}\\{Y\\leq b\\}=\\int_{\\{Y\\leq b\\}}Z(\\omega)d\\mathbb{P}(\\omega).\n",
    "\\end{equation}"
   ]
  },
  {
   "cell_type": "markdown",
   "metadata": {},
   "source": [
    "Our goal now is to write the subset over which we are integrating, i.e. $\\{Y\\leq b\\}$, in a \"nicer\" form.  To do this, we first plug in the definition of $Y$ to rewrite this set as $\\{g(X)\\leq b\\}$. Now note that because $g$ is strictly increasing, its inverse $g^{-1}$ is well defined, and in addition the set can be rewritten as $\\{X\\leq g^{-1}(b)\\}$.  Hence, the above integral can be written as\n",
    "\\begin{equation}\n",
    "\\tilde{\\mathbb{P}}\\{Y\\leq b\\}=\\int_{\\{X\\leq g^{-1}(b)\\}}Z(\\omega)d\\mathbb{P}(\\omega)=\\int_{\\{X\\leq g^{-1}(b)\\}}\\frac{h(g(X))g'(X)}{f(X)}d\\mathbb{P}(\\omega)=\\int_{\\Omega}\\mathbb{I}_{\\{X\\leq g^{-1}(b)\\}}\\frac{h(g(X))g'(X)}{f(X)}d\\mathbb{P}(\\omega).\n",
    "\\end{equation}"
   ]
  },
  {
   "cell_type": "markdown",
   "metadata": {},
   "source": [
    "At this point, we have managed to write $\\tilde{\\mathbb{P}}\\{Y\\leq b\\}$ in terms of a function of the random variable $X$, integrated with respect to the probability measure $\\mathbb{P}$ under which $X$ has density $f$.  We may therefore use Theorem 1.5.2 to write\n",
    "\\begin{equation}\n",
    "\\int_{\\Omega}\\mathbb{I}_{\\{X\\leq g^{-1}(b)\\}}\\frac{h(g(X))g'(X)}{f(X)}d\\mathbb{P}(\\omega)=\\int_{-\\infty}^{g^{-1}(b)}f(x)\\frac{h(g(x))g'(x)}{f(x)}dx=\\int_{-\\infty}^{g^{-1}(b)}h(g(x))g'(x)dx=\\int_{u(x=-\\infty)}^{u(x=g^{-1}(b))}h(u)du.\n",
    "\\end{equation}"
   ]
  },
  {
   "cell_type": "markdown",
   "metadata": {},
   "source": [
    "We now just need to replace the limits of integration. $u(x=-\\infty)=g(x=-\\infty)=-\\infty$, and $u(x=g^{-1}(b))=g(g^{-1}(b))=b$.  Plugging this into the expression above, we obtain the desired result\n",
    "\\begin{equation}\n",
    "\\tilde{\\mathbb{P}}\\{Y\\leq b\\}=\\int_{-\\infty}^{b}h(u)du. \\square\n",
    "\\end{equation}"
   ]
  },
  {
   "cell_type": "code",
   "execution_count": null,
   "metadata": {},
   "outputs": [],
   "source": []
  }
 ],
 "metadata": {
  "kernelspec": {
   "display_name": "Python 3",
   "language": "python",
   "name": "python3"
  },
  "language_info": {
   "codemirror_mode": {
    "name": "ipython",
    "version": 3
   },
   "file_extension": ".py",
   "mimetype": "text/x-python",
   "name": "python",
   "nbconvert_exporter": "python",
   "pygments_lexer": "ipython3",
   "version": "3.7.6"
  }
 },
 "nbformat": 4,
 "nbformat_minor": 4
}
