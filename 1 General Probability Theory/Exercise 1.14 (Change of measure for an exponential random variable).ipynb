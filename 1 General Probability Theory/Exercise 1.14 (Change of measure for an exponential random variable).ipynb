{
 "cells": [
  {
   "cell_type": "markdown",
   "metadata": {},
   "source": [
    "### Exercise 1.14"
   ]
  },
  {
   "cell_type": "markdown",
   "metadata": {},
   "source": [
    "Let $X$ be a nonnegative random variable defined on a probability space $(\\Omega,\\mathcal{F},\\mathbb{P})$ with *exponential distribution*, which is\n",
    "\\begin{equation}\n",
    "\\mathbb{P}\\{X\\leq a\\}=1-e^{-\\lambda a}, \\quad a \\geq 0,\n",
    "\\end{equation}\n",
    "where $\\lambda$ is a positive constant. Let $\\overline{\\lambda}$ be another positive constant, and define\n",
    "\\begin{equation}\n",
    "Z=\\frac{\\overline{\\lambda}}{\\lambda}e^{-(\\overline{\\lambda}-\\lambda)X}.\n",
    "\\end{equation}"
   ]
  },
  {
   "cell_type": "markdown",
   "metadata": {},
   "source": [
    "Define $\\tilde{\\mathbb{P}}$ by\n",
    "\\begin{equation}\n",
    "\\tilde{\\mathbb{P}}(A)=\\int_{A}Zd\\mathbb{P} \\quad \\text{for all } A\\in\\mathcal{F}.\n",
    "\\end{equation}"
   ]
  },
  {
   "cell_type": "markdown",
   "metadata": {},
   "source": [
    "### Exercise 1.14.1"
   ]
  },
  {
   "cell_type": "markdown",
   "metadata": {},
   "source": [
    "Show that $\\tilde{P}(\\Omega)=1$."
   ]
  },
  {
   "cell_type": "markdown",
   "metadata": {},
   "source": [
    "### Solution 1.14.1"
   ]
  },
  {
   "cell_type": "markdown",
   "metadata": {},
   "source": [
    "From the Fundamental Theorem of Calculus, the density of $X$ under $\\mathbb{P}$ is given by\n",
    "\\begin{equation}\n",
    "\\varphi(a):=\\frac{d}{da}\\mathbb{P}\\{X\\leq a\\}=\\frac{d}{da}(1-e^{-\\lambda a})=\\lambda e^{-\\lambda a}.\n",
    "\\end{equation}"
   ]
  },
  {
   "cell_type": "markdown",
   "metadata": {},
   "source": [
    "If we apply Theorem 1.5.2, then we get\n",
    "\\begin{equation}\n",
    "\\tilde{\\mathbb{P}}(\\Omega)=\\int_{\\Omega}Z(\\omega)d\\mathbb{P}(\\omega)=\\int_{0}^{\\infty}\\frac{\\overline{\\lambda}}{\\lambda}e^{-(\\overline{\\lambda}-\\lambda)x}\\varphi(x)dx=\\int_{0}^{\\infty}\\frac{\\overline{\\lambda}}{\\lambda}e^{-(\\overline{\\lambda}-\\lambda)x}\\lambda e^{-\\lambda x}dx=\\int_{0}^{\\infty}\\overline{\\lambda}e^{-\\overline{\\lambda}x}dx=-e^{-\\overline{\\lambda}x}|_{0}^{\\infty}=1. \\square\n",
    "\\end{equation}"
   ]
  },
  {
   "cell_type": "markdown",
   "metadata": {},
   "source": [
    "### Exercise 1.14.2"
   ]
  },
  {
   "cell_type": "markdown",
   "metadata": {},
   "source": [
    "Compute the cumulative distribution function\n",
    "\\begin{equation}\n",
    "\\tilde{\\mathbb{P}}\\{X\\leq a\\} \\text{ for } a\\geq 0\n",
    "\\end{equation}\n",
    "for the random variable $X$ under the probability measure $\\tilde{\\mathbb{P}}$."
   ]
  },
  {
   "cell_type": "markdown",
   "metadata": {},
   "source": [
    "### Solution 1.14.2"
   ]
  },
  {
   "cell_type": "markdown",
   "metadata": {},
   "source": [
    "Again using Theorem 1.5.2, we get \n",
    "\\begin{equation}\n",
    "\\tilde{\\mathbb{P}}\\{X\\leq a\\}=\\int_{0}^{a}\\frac{\\overline{\\lambda}}{\\lambda}e^{-(\\overline{\\lambda}-\\lambda)x}\\lambda e^{-\\lambda x}dx=e^{-\\overline{\\lambda}x}|_{0}^{a}=1-e^{-\\overline{\\lambda}a}. \\square\n",
    "\\end{equation}"
   ]
  },
  {
   "cell_type": "code",
   "execution_count": null,
   "metadata": {},
   "outputs": [],
   "source": []
  }
 ],
 "metadata": {
  "kernelspec": {
   "display_name": "Python 3",
   "language": "python",
   "name": "python3"
  },
  "language_info": {
   "codemirror_mode": {
    "name": "ipython",
    "version": 3
   },
   "file_extension": ".py",
   "mimetype": "text/x-python",
   "name": "python",
   "nbconvert_exporter": "python",
   "pygments_lexer": "ipython3",
   "version": "3.7.6"
  }
 },
 "nbformat": 4,
 "nbformat_minor": 4
}
