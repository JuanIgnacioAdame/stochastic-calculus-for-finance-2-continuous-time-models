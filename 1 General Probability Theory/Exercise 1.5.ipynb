{
 "cells": [
  {
   "cell_type": "markdown",
   "metadata": {},
   "source": [
    "### Exercise 1.5"
   ]
  },
  {
   "cell_type": "markdown",
   "metadata": {},
   "source": [
    "When dealing with double Lebesgue integrals, just as with double Riemann integrals, the order of integration can be reversed.  The only assumption required is that the function being integrated be either nonnegative or integrable.  Here is an application of this fact."
   ]
  },
  {
   "cell_type": "markdown",
   "metadata": {},
   "source": [
    "Let $X$ be a nonnegative random variable with cumulative distribution function $F(x)=\\mathbb{P}\\{X\\leq x\\}$.  Show that\n",
    "\\begin{equation}\n",
    "\\mathbb{E}X=\\int_{0}^{\\infty}(1-F(x))dx\n",
    "\\end{equation}\n",
    "by showing that\n",
    "\\begin{equation}\n",
    "\\int_{\\Omega}\\int_{0}^{\\infty}\\mathbb{I}_{[0,X(\\omega))}(x)dxd\\mathbb{P}(\\omega).\n",
    "\\end{equation}\n",
    "is equal to both $\\mathbb{E}X$ and $\\int_{0}^{\\infty}(1-F(x))dx$."
   ]
  },
  {
   "cell_type": "markdown",
   "metadata": {},
   "source": [
    "### Solution 1.5"
   ]
  },
  {
   "cell_type": "markdown",
   "metadata": {},
   "source": [
    "We first compute the inner integral.  For fixed $\\omega$, we have\n",
    "\\begin{equation}\n",
    "\\int_{0}^{\\infty}\\mathbb{I}_{[0,X(\\omega))}(x)dx=\\int_{0}^{X(\\omega)}1dx+\\int_{X(\\omega)}^{\\infty}0dx=X(\\omega).\n",
    "\\end{equation}\n",
    "Hence,\n",
    "\\begin{equation}\n",
    "\\int_{\\Omega}\\int_{0}^{\\infty}\\mathbb{I}_{[0,X(\\omega))}(x)dxd\\mathbb{P}(\\omega)=\\int_{\\Omega}X(\\omega)d\\mathbb{P}(\\omega)=\\mathbb{E}X.\n",
    "\\end{equation}\n",
    "This establishes one of the results."
   ]
  },
  {
   "cell_type": "markdown",
   "metadata": {},
   "source": [
    "For the other result, we reverse the order of integration and start with the integral\n",
    "\\begin{equation}\n",
    "\\int_{\\Omega}\\mathbb{I}_{[0,X(\\omega))}(x)d\\mathbb{P}(\\omega).\n",
    "\\end{equation}"
   ]
  },
  {
   "cell_type": "markdown",
   "metadata": {},
   "source": [
    "For fixed $x$, note that\n",
    "\\begin{align}\n",
    "\\mathbb{I}_{[0,X(\\omega))}(x)&=1 \\text{ if } x\\in[0,X(\\omega))\\\\\n",
    "&=0 \\text{ if } x\\not\\in[0,X(\\omega)).\n",
    "\\end{align}"
   ]
  },
  {
   "cell_type": "markdown",
   "metadata": {},
   "source": [
    "Hence,\n",
    "\\begin{equation}\n",
    "\\int_{\\Omega}\\mathbb{I}_{[0,X(\\omega))}(x)d\\mathbb{P}(\\omega)=\\int_{\\substack{\\omega\\in\\Omega\\\\x\\in[0,X(\\omega))}}1d\\mathbb{P}(\\omega)+\\int_{\\substack{\\omega\\in\\Omega\\\\x\\not\\in[0,X(\\omega))}}0d\\mathbb{P}(\\omega)\n",
    "\\end{equation}"
   ]
  },
  {
   "cell_type": "markdown",
   "metadata": {},
   "source": [
    "Next, note that because $x\\in[0,\\infty)$, then $\\{\\omega\\in\\Omega|x\\in[0,X(\\omega))\\}=\\{\\omega\\in\\Omega|X(\\omega)>x\\}$.  It follows that\n",
    "\\begin{equation}\n",
    "\\int_{\\substack{\\omega\\in\\Omega\\\\x\\in[0,X(\\omega))}}1d\\mathbb{P}(\\omega)=\\mathbb{P}\\{\\omega\\in\\Omega|X(\\omega)> x\\}=1-F(x).\n",
    "\\end{equation}"
   ]
  },
  {
   "cell_type": "markdown",
   "metadata": {},
   "source": [
    "Putting this all together, we get\n",
    "\\begin{align}\n",
    "\\int_{\\Omega}\\int_{0}^{\\infty}\\mathbb{I}_{[0,X(\\omega))}(x)dxd\\mathbb{P}(\\omega)&=\\int_{0}^{\\infty}\\int_{\\Omega}\\mathbb{I}_{[0,X(\\omega))}(x)d\\mathbb{P}(\\omega)dx\\\\\n",
    "&=\\int_{0}^{\\infty}(1-F(x))dx.\n",
    "\\end{align}"
   ]
  },
  {
   "cell_type": "markdown",
   "metadata": {},
   "source": [
    "This establishes the second result."
   ]
  },
  {
   "cell_type": "markdown",
   "metadata": {},
   "source": [
    "Putting the two results together, we obtain\n",
    "\\begin{equation}\n",
    "\\mathbb{E}X=\\int_{0}^{\\infty}(1-F(x))dx. \\square\n",
    "\\end{equation}"
   ]
  },
  {
   "cell_type": "code",
   "execution_count": null,
   "metadata": {},
   "outputs": [],
   "source": []
  }
 ],
 "metadata": {
  "kernelspec": {
   "display_name": "Python 3",
   "language": "python",
   "name": "python3"
  },
  "language_info": {
   "codemirror_mode": {
    "name": "ipython",
    "version": 3
   },
   "file_extension": ".py",
   "mimetype": "text/x-python",
   "name": "python",
   "nbconvert_exporter": "python",
   "pygments_lexer": "ipython3",
   "version": "3.7.6"
  }
 },
 "nbformat": 4,
 "nbformat_minor": 4
}
