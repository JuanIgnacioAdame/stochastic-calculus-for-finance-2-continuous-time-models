{
 "cells": [
  {
   "cell_type": "markdown",
   "metadata": {},
   "source": [
    "### Exercise 1.12"
   ]
  },
  {
   "cell_type": "markdown",
   "metadata": {},
   "source": [
    "In Example 1.6.6, we began with a standard normal random variable $X$ on a probability space $(\\Omega,\\mathcal{F},\\mathbb{P})$ and defined the random variable $Y=X+\\theta$, where $\\theta$ is constant.  We also defined $Z=e^{-\\theta X-\\frac{1}{2}\\theta^2}$ and used $Z$ as the Radon-Nikodym derivative to construct the probability measure $\\tilde{\\mathbb{P}}$ by the formula (1.6.9):\n",
    "\\begin{equation}\n",
    "\\tilde{\\mathbb{P}}(A)=\\int_{A}Z(\\omega)d\\mathbb{P}(\\omega) \\text{ for all } A\\in\\mathcal{F}.\n",
    "\\end{equation}\n",
    "Under $\\tilde{\\mathbb{P}}$, the random variable $Y$ was shown to be standard normal."
   ]
  },
  {
   "cell_type": "markdown",
   "metadata": {},
   "source": [
    "We now have a standard normal random variable $Y$ on the probability space $(\\Omega,\\mathcal{F},\\mathbb{P})$, and $X$ is related to $Y$ by $X=Y-\\theta$.  By what we have just stated, with $X$ replaced by $Y$ and $\\theta$ replaced by $-\\theta$, we could define $\\hat{Z}=e^{\\theta Y-\\frac{1}{2}\\theta^2}$ and then use $\\hat{Z}$ as a Radon-Nikodym derivative to construct a probability measure $\\hat{\\mathbb{P}}$ by the formula\n",
    "\\begin{equation}\n",
    "\\hat{\\mathbb{P}}(A)=\\int_{A}\\hat{Z}(\\omega)d\\tilde{\\mathbb{P}}(\\omega) \\text{ for all } A\\in\\mathcal{F},\n",
    "\\end{equation}\n",
    "so that, under $\\hat{\\mathbb{P}}$, the random variable $X$ is standard normal.  Show that $\\hat{Z}=\\frac{1}{Z}$ and $\\hat{\\mathbb{P}}=\\mathbb{P}$."
   ]
  },
  {
   "cell_type": "markdown",
   "metadata": {},
   "source": [
    "### Solution 1.12"
   ]
  },
  {
   "cell_type": "markdown",
   "metadata": {},
   "source": [
    "We first show that $\\hat{Z}=\\frac{1}{Z}$.  Ineed,\n",
    "\\begin{equation}\n",
    "\\hat{Z}=e^{\\theta Y-\\frac{1}{2}\\theta^2}=e^{-(-\\theta Y+\\frac{1}{2}\\theta^2)}\n",
    "=\\frac{1}{e^{(-\\theta Y+\\frac{1}{2}\\theta^2)}}=\\frac{1}{e^{(-\\theta (X+\\theta)+\\frac{1}{2}\\theta^2)}}=\\frac{1}{e^{(-\\theta X-\\theta^2+\\frac{1}{2}\\theta^2)}}=\\frac{1}{e^{(-\\theta X-\\frac{1}{2}\\theta^2)}}=\\frac{1}{Z}.\n",
    "\\end{equation}"
   ]
  },
  {
   "cell_type": "markdown",
   "metadata": {},
   "source": [
    "We now need to show $\\hat{\\mathbb{P}}=\\mathbb{P}$.  In other words, for an arbitrary $A\\in\\mathcal{F}$ we want to show $\\hat{\\mathbb{P}}(A)=\\mathbb{P}(A).$"
   ]
  },
  {
   "cell_type": "markdown",
   "metadata": {},
   "source": [
    "By definition, we have\n",
    "\\begin{align}\n",
    "\\hat{\\mathbb{P}}(A)&=\\int_{A}\\hat{Z}(\\omega)d\\tilde{\\mathbb{P}}(\\omega)\\\\\n",
    "&=\\int_{\\Omega}\\mathbb{I}_{A}\\hat{Z}(\\omega)d\\tilde{\\mathbb{P}}(\\omega)\\\\\n",
    "&=\\tilde{\\mathbb{E}}\\mathbb{I}_{A}\\hat{Z}(\\omega).\\\\\n",
    "\\end{align}"
   ]
  },
  {
   "cell_type": "markdown",
   "metadata": {},
   "source": [
    "At this point we can use Theorem 1.6.1 to write this expectation value as an expectation value under the probability measure $\\mathbb{P}$.  Specifically, because $Z$ is a nonnegative random variable with $\\mathbb{E}Z=1$ and $\\mathbb{I}_A\\hat{Z}$ is a nonnegative random variable, then\n",
    "\\begin{equation}\n",
    "\\hat{\\mathbb{P}}(A)=\\tilde{\\mathbb{E}}\\mathbb{I}_{A}\\hat{Z}(\\omega)=\\mathbb{E}\\mathbb{I}_{A}\\hat{Z}(\\omega)Z(\\omega)=\\mathbb{E}\\mathbb{I}_A=\\mathbb{P}(A).\n",
    "\\end{equation}"
   ]
  },
  {
   "cell_type": "markdown",
   "metadata": {},
   "source": [
    "This establishes the desired result. $\\square$"
   ]
  },
  {
   "cell_type": "code",
   "execution_count": null,
   "metadata": {},
   "outputs": [],
   "source": []
  }
 ],
 "metadata": {
  "kernelspec": {
   "display_name": "Python 3",
   "language": "python",
   "name": "python3"
  },
  "language_info": {
   "codemirror_mode": {
    "name": "ipython",
    "version": 3
   },
   "file_extension": ".py",
   "mimetype": "text/x-python",
   "name": "python",
   "nbconvert_exporter": "python",
   "pygments_lexer": "ipython3",
   "version": "3.7.6"
  }
 },
 "nbformat": 4,
 "nbformat_minor": 4
}
