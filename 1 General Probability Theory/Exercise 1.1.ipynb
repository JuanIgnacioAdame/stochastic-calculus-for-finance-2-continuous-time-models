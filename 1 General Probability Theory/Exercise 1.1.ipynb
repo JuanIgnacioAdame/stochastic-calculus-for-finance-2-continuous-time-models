{
 "cells": [
  {
   "cell_type": "markdown",
   "metadata": {},
   "source": [
    "### Exercise 1.1"
   ]
  },
  {
   "cell_type": "markdown",
   "metadata": {},
   "source": [
    "Using the properties of Deinition 1.1.2 for a probability measure $\\mathbb{P}$, show the following."
   ]
  },
  {
   "cell_type": "markdown",
   "metadata": {},
   "source": [
    "### Exercise 1.1.1"
   ]
  },
  {
   "cell_type": "markdown",
   "metadata": {},
   "source": [
    "If $A\\in\\mathcal{F}$, $B\\in\\mathcal{F}$, and $A\\subset B$, then $\\mathbb{P}(A)\\leq\\mathbb{P}(B)$."
   ]
  },
  {
   "cell_type": "markdown",
   "metadata": {},
   "source": [
    "### Solution 1.1.1"
   ]
  },
  {
   "cell_type": "markdown",
   "metadata": {},
   "source": [
    "Note that because $A\\subset B$, we may write $B$ as the disjoint union\n",
    "\\begin{equation}\n",
    "B=(\\underbrace{B\\cap A}_{=A})\\sqcup (B\\setminus A)=A\\sqcup (B\\setminus A).\n",
    "\\end{equation}"
   ]
  },
  {
   "cell_type": "markdown",
   "metadata": {},
   "source": [
    "It follows from countable additivity (Defintion 1.1.2 (ii) of the textbook), which implies finite aditivity (see equation 1.1.5 of the textbook), that\n",
    "\\begin{align}\n",
    "\\mathbb{P}(B)=\\mathbb{P}(A)+\\mathbb{P}(B\\setminus A).\n",
    "\\end{align}"
   ]
  },
  {
   "cell_type": "markdown",
   "metadata": {},
   "source": [
    "By definition of a probability measure, the probability of any set lies in the interval $[0,1]$, i.e. $\\mathbb{P}(B),\\mathbb{P}(A),\\mathbb{P}(B\\setminus A)\\in[0,1]$.  Hence, the equality above implies the desired result\n",
    "\\begin{equation}\n",
    "\\mathbb{P}(A)\\leq\\mathbb{P}(B).\\square\n",
    "\\end{equation}"
   ]
  },
  {
   "cell_type": "markdown",
   "metadata": {},
   "source": [
    "### Exercise 1.1.2"
   ]
  },
  {
   "cell_type": "markdown",
   "metadata": {},
   "source": [
    "If $A\\in\\mathcal{F}$ and $\\{A_n\\}_{n=1}^{\\infty}$ is a sequence of sets in $\\mathcal{F}$ with $\\lim_{n\\rightarrow\\infty}\\mathbb{P}(A_n)=0$ and $A\\subset A_n$ for every $n$, then $\\mathbb{P}(A)=0$. (This property was used implicitly in Example 1.1.4 when we argued that the sequence of all heads, and indeed any particular sequence, must have probability zero.)"
   ]
  },
  {
   "cell_type": "markdown",
   "metadata": {},
   "source": [
    "### Solution 1.1.2"
   ]
  },
  {
   "cell_type": "markdown",
   "metadata": {},
   "source": [
    "Because $A\\subset A_n$, the previous exercise tells us that\n",
    "\\begin{equation}\n",
    "\\mathbb{P}(A)\\leq\\mathbb{P}(A_n).\n",
    "\\end{equation}"
   ]
  },
  {
   "cell_type": "markdown",
   "metadata": {},
   "source": [
    "Because the inequality above holds for all $n$ and both probabilities are converging sequences (i.e. $\\lim_{n\\rightarrow\\infty}\\mathbb{P}(A_n)=0$, and $\\lim_{n\\rightarrow\\infty}\\mathbb{P}(A)=\\mathbb{P}(A)$), the inequality still holds if we take the limit of both sides.  In other words, we have\n",
    "\\begin{equation}\n",
    "\\lim_{n\\rightarrow\\infty}\\mathbb{P}(A)\\leq\\lim_{n\\rightarrow\\infty}\\mathbb{P}(A_n)\\Rightarrow\n",
    "\\mathbb{P}(A)\\leq 0.\n",
    "\\end{equation}"
   ]
  },
  {
   "cell_type": "markdown",
   "metadata": {},
   "source": [
    "The only way the inequality above is satisfied is if $\\mathbb{P}(A)=0$, which proves the desired result. $\\square$"
   ]
  },
  {
   "cell_type": "code",
   "execution_count": null,
   "metadata": {},
   "outputs": [],
   "source": []
  }
 ],
 "metadata": {
  "kernelspec": {
   "display_name": "Python 3",
   "language": "python",
   "name": "python3"
  },
  "language_info": {
   "codemirror_mode": {
    "name": "ipython",
    "version": 3
   },
   "file_extension": ".py",
   "mimetype": "text/x-python",
   "name": "python",
   "nbconvert_exporter": "python",
   "pygments_lexer": "ipython3",
   "version": "3.7.6"
  }
 },
 "nbformat": 4,
 "nbformat_minor": 4
}
