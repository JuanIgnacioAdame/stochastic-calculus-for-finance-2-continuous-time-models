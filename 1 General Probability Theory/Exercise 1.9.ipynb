{
 "cells": [
  {
   "cell_type": "markdown",
   "metadata": {},
   "source": [
    "### Exercise 1.9"
   ]
  },
  {
   "cell_type": "markdown",
   "metadata": {},
   "source": [
    "Suppose $X$ is a random variable on some probability space $(\\Omega, \\mathcal{F}, \\mathbb{P})$, $A$ is a set in $\\mathcal{F}$, and for every Borel subset $B$ of $\\mathbb{R}$, we have\n",
    "\\begin{equation}\n",
    "\\int_{A}\\mathbb{I}_{B}(X(\\omega))d\\mathbb{P}(\\omega)=\\mathbb{P}(A)\\mathbb{P}\\{X\\in B\\}.\n",
    "\\end{equation}\n",
    "Then we say that $X$ is *independent* of the event $A$."
   ]
  },
  {
   "cell_type": "markdown",
   "metadata": {},
   "source": [
    "Show that if $X$ is independent of an event $A$, then\n",
    "\\begin{equation}\n",
    "\\int_{A}g(X(\\omega))d\\mathbb{P}(\\omega)=\\mathbb{P}(A)\\mathbb{E}g(X)\n",
    "\\end{equation}\n",
    "for every nonnegative, Borel-measureable function $g$."
   ]
  },
  {
   "cell_type": "markdown",
   "metadata": {},
   "source": [
    "### Solution 1.9"
   ]
  },
  {
   "cell_type": "markdown",
   "metadata": {},
   "source": [
    "We will use the standard machine."
   ]
  },
  {
   "cell_type": "markdown",
   "metadata": {},
   "source": [
    "### Indicator functions: $g(x)=\\mathbb{I}_B(x)$"
   ]
  },
  {
   "cell_type": "markdown",
   "metadata": {},
   "source": [
    "In this case, we have\n",
    "\\begin{align}\n",
    "\\int_{A}g(X(\\omega))d\\mathbb{P}(\\omega)=\\int_{A}\\mathbb{I}_{B}(X(\\omega))d\\mathbb{P}(\\omega)=\\mathbb{P}(A)\\mathbb{P}\\{X\\in B\\}.\n",
    "\\end{align}"
   ]
  },
  {
   "cell_type": "markdown",
   "metadata": {},
   "source": [
    "Note that\n",
    "\\begin{align}\n",
    "\\mathbb{E}g(X)=\\mathbb{E}\\mathbb{I}_B(X)&=\\int_{\\Omega}\\mathbb{I}_B(X(\\omega))d\\mathbb{P}(\\omega)\\\\\n",
    "&=\\int_{X\\in B}1d\\mathbb{P}(\\omega)+\\int_{X\\not\\in B}0d\\mathbb{P}(\\omega)\\\\\n",
    "&=\\mathbb{P}\\{X\\in B\\}.\n",
    "\\end{align}"
   ]
  },
  {
   "cell_type": "markdown",
   "metadata": {},
   "source": [
    "Hence, we may write\n",
    "\\begin{equation}\n",
    "\\int_{A}g(X(\\omega))d\\mathbb{P}(\\omega)=\\mathbb{P}(A)\\mathbb{E}g(X),\n",
    "\\end{equation}\n",
    "as desired. $\\square$"
   ]
  },
  {
   "cell_type": "markdown",
   "metadata": {},
   "source": [
    "### Nonnegative simple functions: $g(x)=\\sum_{k=1}^{n}\\alpha_k\\mathbb{I}_{B_k}(x)$"
   ]
  },
  {
   "cell_type": "markdown",
   "metadata": {},
   "source": [
    "In this case, we have\n",
    "\\begin{align}\n",
    "\\int_{A}g(X(\\omega))d\\mathbb{P}(\\omega)&=\\int_{A}\\sum_{k=1}^{n}\\alpha_k\\mathbb{I}_{B_k}(X(\\omega))d\\mathbb{P}(\\omega)\\\\\n",
    "&=\\sum_{k=1}^{n}\\alpha_k\\int_{A}\\mathbb{I}_{B_k}(X(\\omega))d\\mathbb{P}(\\omega)\\\\\n",
    "&=\\sum_{k=1}^{n}\\alpha_k\\mathbb{P}(A)\\mathbb{P}\\{X\\in B_k\\}\\\\\n",
    "&=\\mathbb{P}(A)\\sum_{k=1}^{n}\\alpha_k\\mathbb{P}\\{X\\in B_k\\}\n",
    "\\end{align}"
   ]
  },
  {
   "cell_type": "markdown",
   "metadata": {},
   "source": [
    "In the previous exercise we showed $\\mathbb{E}\\mathbb{I}_B(X)=\\mathbb{P}\\{X\\in B\\}$.  Hence, the above equation may be rewritten as\n",
    "\\begin{equation}\n",
    "\\mathbb{P}(A)\\sum_{k=1}^{n}\\alpha_k\\mathbb{E}\\mathbb{I}_{B_k}(X(\\omega)).\n",
    "\\end{equation}"
   ]
  },
  {
   "cell_type": "markdown",
   "metadata": {},
   "source": [
    "Because of the linearity of expectation values, this may be rewritten as\n",
    "\\begin{equation}\n",
    "\\mathbb{P}(A)\\mathbb{E}\\left[\\sum_{k=1}^{n}\\alpha_k\\mathbb{I}_{B_k}(X(\\omega))\\right]\\\\\n",
    "=\\mathbb{P}(A)\\mathbb{E}g(X),\n",
    "\\end{equation}\n",
    "as desired. $\\square$"
   ]
  },
  {
   "cell_type": "markdown",
   "metadata": {},
   "source": [
    "### Nonnegative Borel-measureable functions"
   ]
  },
  {
   "cell_type": "markdown",
   "metadata": {},
   "source": [
    "Let $g(x)$ be an arbitrary nonnegative Borel-measurable function defined on $\\mathbb{R}$. For each positive integer $n$, define the sets\n",
    "\\begin{equation}\n",
    "B_{k,n}=\\left\\{x; \\frac{k}{2^n}\\leq g(x)<\\frac{k+1}{2^n}\\right\\}, k=0,1,2,\\dots,4^n-1.\n",
    "\\end{equation}"
   ]
  },
  {
   "cell_type": "markdown",
   "metadata": {},
   "source": [
    "Now consider the sequence of simple functions given by\n",
    "\\begin{equation}\n",
    "g_n(x)=\\sum_{k=0}^{4^n-1}\\frac{k}{2^n}\\mathbb{I}_{B_{k,n}}(x).\n",
    "\\end{equation}"
   ]
  },
  {
   "cell_type": "markdown",
   "metadata": {},
   "source": [
    "As shown in the proof of Theorem 1.5.1, note that\n",
    "\\begin{gather}\n",
    "0\\leq g_1\\leq g_2\\leq\\dots,\\\\\n",
    "\\lim_{n\\rightarrow\\infty}g_n(x)=g(x).\n",
    "\\end{gather}"
   ]
  },
  {
   "cell_type": "markdown",
   "metadata": {},
   "source": [
    "Hence, we may apply The Monotone Convergence Theorem to conclude that\n",
    "\\begin{equation}\n",
    "\\lim_{n\\rightarrow\\infty}\\mathbb{E}g_n=\\mathbb{E}g.\n",
    "\\end{equation}"
   ]
  },
  {
   "cell_type": "markdown",
   "metadata": {},
   "source": [
    "Now consider\n",
    "\\begin{equation}\n",
    "\\int_{A}g_n(X(\\omega))d\\mathbb{P}(\\omega)=\\int_{A}\\sum_{k=0}^{4^n-1}\\frac{k}{2^n}\\mathbb{I}_{B_{k,n}}(X(\\omega))d\\mathbb{P}(\\omega).\n",
    "\\end{equation}"
   ]
  },
  {
   "cell_type": "markdown",
   "metadata": {},
   "source": [
    "Because $g_n$ is a simple function, we may use our previous result to conclude that this equals\n",
    "\\begin{equation}\n",
    "\\int_{A}g_n(X(\\omega))d\\mathbb{P}(\\omega)=\\int_{A}\\sum_{k=0}^{4^n-1}\\frac{k}{2^n}\\mathbb{I}_{B_{k,n}}(X(\\omega))d\\mathbb{P}(\\omega)=\\mathbb{P}(A)\\mathbb{E}g_n(X).\n",
    "\\end{equation}"
   ]
  },
  {
   "cell_type": "markdown",
   "metadata": {},
   "source": [
    "If we now apply The Monotone Convergence Theorem, we get\n",
    "\\begin{gather}\n",
    "\\int_{A}g(X(\\omega))d\\mathbb{P}(\\omega)=\\int_{A}\\lim_{n\\rightarrow\\infty}g_n(X(\\omega))d\\mathbb{P}(\\omega)=\\lim_{n\\rightarrow\\infty}\\int_{A}g_n(X(\\omega))d\\mathbb{P}(\\omega)\\\\\n",
    "=\\lim_{n\\rightarrow\\infty}\\mathbb{P}(A)\\mathbb{E}g_n(X)=\\mathbb{P}(A)\\mathbb{E}\\lim_{n\\rightarrow\\infty}g_n(X)=\\mathbb{P}(A)\\mathbb{E}g(X),\n",
    "\\end{gather}\n",
    "which is the desired result. $\\square$"
   ]
  },
  {
   "cell_type": "markdown",
   "metadata": {},
   "source": [
    "### Bonus: general Borel-measureable functions, with an additional assumption"
   ]
  },
  {
   "cell_type": "markdown",
   "metadata": {},
   "source": [
    "Let $g(x)$ be a general Borel-measureable function, which can take both positive and negative calues.  The functions\n",
    "\\begin{align}\n",
    "g^{+}(x)&=\\max\\{g(x),0\\},\\\\\n",
    "g^{-}(x)&=\\max\\{-g(x),0\\}\n",
    "\\end{align}\n",
    "are both nonnegative, and from the previous exercise we have\n",
    "\\begin{equation}\n",
    "\\int_{A}g^{+}(X(\\omega))d\\mathbb{P}(\\omega)=\\mathbb{P}(A)\\mathbb{E}g^{+}(X),\\\\\n",
    "\\int_{A}g^{-}(X(\\omega))d\\mathbb{P}(\\omega)=\\mathbb{P}(A)\\mathbb{E}g^{-}(X).\n",
    "\\end{equation}"
   ]
  },
  {
   "cell_type": "markdown",
   "metadata": {},
   "source": [
    "If these two quantities are both finite, we may subtract them.  This gives us\n",
    "\\begin{gather}\n",
    "\\int_{A}g(X(\\omega))d\\mathbb{P}(\\omega)=\\int_{A}g^{+}(X(\\omega))d\\mathbb{P}(\\omega)-\\int_{A}g^{-}(X(\\omega))d\\mathbb{P}(\\omega)\\\\\n",
    "=\\mathbb{P}(A)\\mathbb{E}g^{+}(X)-\\mathbb{P}(A)\\mathbb{E}g^{-}(X)=\\mathbb{P}(A)\\mathbb{E}[g^{+}(X)-g^{-}(X)]=\\mathbb{P}(A)\\mathbb{E}g(X).\\square\n",
    "\\end{gather}"
   ]
  },
  {
   "cell_type": "code",
   "execution_count": null,
   "metadata": {},
   "outputs": [],
   "source": []
  }
 ],
 "metadata": {
  "kernelspec": {
   "display_name": "Python 3",
   "language": "python",
   "name": "python3"
  },
  "language_info": {
   "codemirror_mode": {
    "name": "ipython",
    "version": 3
   },
   "file_extension": ".py",
   "mimetype": "text/x-python",
   "name": "python",
   "nbconvert_exporter": "python",
   "pygments_lexer": "ipython3",
   "version": "3.7.6"
  }
 },
 "nbformat": 4,
 "nbformat_minor": 4
}
