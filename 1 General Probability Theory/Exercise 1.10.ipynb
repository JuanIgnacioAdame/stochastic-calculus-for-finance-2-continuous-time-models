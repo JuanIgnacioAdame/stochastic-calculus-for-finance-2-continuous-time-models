{
 "cells": [
  {
   "cell_type": "markdown",
   "metadata": {},
   "source": [
    "### Exercise 1.10"
   ]
  },
  {
   "cell_type": "markdown",
   "metadata": {},
   "source": [
    "Let $\\mathbb{P}$ be the uniform (Lebesgue) measure on $\\Omega=[0,1]$.  Define\n",
    "\\begin{align}\n",
    "Z(\\omega)&=0 \\text{ if } 0\\leq\\omega<\\frac{1}{2},\\\\\n",
    "&=2 \\text{ if } \\frac{1}{2}\\leq\\omega\\leq 1.\n",
    "\\end{align}"
   ]
  },
  {
   "cell_type": "markdown",
   "metadata": {},
   "source": [
    "For $A\\in\\mathcal{B}[0,1]$, define\n",
    "\\begin{equation}\n",
    "\\tilde{\\mathbb{P}}(A)=\\int_{A}Z(\\omega)d\\mathbb{P}(\\omega).\n",
    "\\end{equation}"
   ]
  },
  {
   "cell_type": "markdown",
   "metadata": {},
   "source": [
    "### Exercise 1.10.1"
   ]
  },
  {
   "cell_type": "markdown",
   "metadata": {},
   "source": [
    "Show that $\\tilde{\\mathbb{P}}$ is a probability measure."
   ]
  },
  {
   "cell_type": "markdown",
   "metadata": {},
   "source": [
    "### Solution 1.10.1"
   ]
  },
  {
   "cell_type": "markdown",
   "metadata": {},
   "source": [
    "First we show $\\tilde{\\mathbb{P}}(\\Omega)=1$."
   ]
  },
  {
   "cell_type": "markdown",
   "metadata": {},
   "source": [
    "\\begin{equation}\n",
    "\\tilde{\\mathbb{P}}(\\Omega)=\\int_{\\Omega}Z(\\omega)d\\mathbb{P}(\\omega)=0\\mathbb{P}\\left(\\left[0,\\frac{1}{2}\\right)\\right)+2\\mathbb{P}\\left(\\left[\\frac{1}{2},1\\right)\\right)=1.\n",
    "\\end{equation}"
   ]
  },
  {
   "cell_type": "markdown",
   "metadata": {},
   "source": [
    "We now show countable additivity."
   ]
  },
  {
   "cell_type": "markdown",
   "metadata": {},
   "source": [
    "Let $\\{A_n\\}_{n=1}^{\\infty}$ be a sequence of disjoint sets in $\\mathcal{F}$.  Then\n",
    "\\begin{equation}\n",
    "\\tilde{\\mathbb{P}}(\\cup_{n=1}^{\\infty}A_n)=\\int_{\\cup_{n=1}^{\\infty}A_n}Z(\\omega)d\\mathbb{P}(\\omega)=\\int_{\\Omega}\\mathbb{I}_{\\cup_{n=1}^{\\infty}A_n}(\\omega)Z(\\omega)d\\mathbb{P}(\\omega)\n",
    "\\end{equation}"
   ]
  },
  {
   "cell_type": "markdown",
   "metadata": {},
   "source": [
    "For $n=1,2,\\dots,$ let\n",
    "\\begin{equation}\n",
    "Z_n(\\omega):=\\mathbb{I}_{\\cup_{i=1}^{n}A_i}(\\omega)Z(\\omega).\n",
    "\\end{equation}"
   ]
  },
  {
   "cell_type": "markdown",
   "metadata": {},
   "source": [
    "Then\n",
    "\\begin{equation}\n",
    "0\\leq Z_1\\leq Z_2\\leq...,\n",
    "\\end{equation}\n",
    "and\n",
    "\\begin{equation}\n",
    "\\lim_{n\\rightarrow\\infty}Z_n(\\omega)=\\mathbb{I}_{\\cup_{n=1}^{\\infty}A_n}(\\omega)Z(\\omega).\n",
    "\\end{equation}"
   ]
  },
  {
   "cell_type": "markdown",
   "metadata": {},
   "source": [
    "This means we can apply The Monotone Convergence Theorem to obtain\n",
    "\\begin{equation}\n",
    "\\int_{\\Omega}\\mathbb{I}_{\\cup_{n=1}^{\\infty}A_n}(\\omega)Z(\\omega)d\\mathbb{P}(\\omega)=\\int_{\\Omega}\\lim_{n\\rightarrow\\infty}Z_n(\\omega)d\\mathbb{P}(\\omega)=\\lim_{n\\rightarrow\\infty}\\int_{\\Omega}Z_n(\\omega)d\\mathbb{P}(\\omega).\n",
    "\\end{equation}"
   ]
  },
  {
   "cell_type": "markdown",
   "metadata": {},
   "source": [
    "We now compute $\\int_{\\Omega}Z_n(\\omega)d\\mathbb{P}(\\omega)$.\n",
    "\\begin{equation}\n",
    "\\int_{\\Omega}Z_n(\\omega)d\\mathbb{P}(\\omega)=\\int_{\\Omega}\\mathbb{I}_{\\cup_{i=1}^{n}A_i}(\\omega)Z(\\omega)d\\mathbb{P}(\\omega).\n",
    "\\end{equation}"
   ]
  },
  {
   "cell_type": "markdown",
   "metadata": {},
   "source": [
    "Because the sets $\\{A_n\\}_{n=1}^{\\infty}$ are disjoint,\n",
    "\\begin{equation}\n",
    "\\mathbb{I}_{\\cup_{i=1}^{n}A_i}(\\omega)Z(\\omega)=\\sum_{i=1}^n\\mathbb{I}_{A_i}(\\omega)Z(\\omega),\n",
    "\\end{equation}\n",
    "and hence \n",
    "\\begin{align}\n",
    "\\int_{\\Omega}\\mathbb{I}_{\\cup_{i=1}^{n}A_i}(\\omega)Z(\\omega)d\\mathbb{P}(\\omega)&=\\int_{\\Omega}\\sum_{i=1}^n\\mathbb{I}_{A_i}(\\omega)Z(\\omega)d\\mathbb{P}(\\omega)\\\\\n",
    "&=\\sum_{i=1}^{n}\\int_{\\Omega}\\mathbb{I}_{A_i}(\\omega)Z(\\omega)d\\mathbb{P}(\\omega)\\\\\n",
    "&=\\sum_{i=1}^{n}\\int_{A_i}Z(\\omega)d\\mathbb{P}(\\omega)=\\sum_{i=1}^{n}\\tilde{\\mathbb{P}}(A_i).\n",
    "\\end{align}"
   ]
  },
  {
   "cell_type": "markdown",
   "metadata": {},
   "source": [
    "Plugging this back into an earlier equation, this gives\n",
    "\\begin{equation}\n",
    "\\tilde{\\mathbb{P}}(\\cup_{n=1}^{\\infty}A_n)=\\int_{\\Omega}\\lim_{n\\rightarrow\\infty}Z_n(\\omega)d\\mathbb{P}(\\omega)=\\lim_{n\\rightarrow\\infty}\\int_{\\Omega}Z_n(\\omega)d\\mathbb{P}(\\omega)=\\lim_{n\\rightarrow\\infty}\\sum_{i=1}^{n}\\tilde{\\mathbb{P}}(A_i)=\\sum_{i=1}^{\\infty}\\tilde{\\mathbb{P}}(A_i). \\square\n",
    "\\end{equation}"
   ]
  },
  {
   "cell_type": "markdown",
   "metadata": {},
   "source": [
    "This finishes the proof that $\\tilde{\\mathbb{P}}$ is a probability measure. $\\square$"
   ]
  },
  {
   "cell_type": "markdown",
   "metadata": {},
   "source": [
    "### Exercise 1.10.2"
   ]
  },
  {
   "cell_type": "markdown",
   "metadata": {},
   "source": [
    "Show that if $\\mathbb{P}(A)=0$, then $\\tilde{\\mathbb{P}}(A)=0$.  We say that $\\tilde{\\mathbb{P}}$ is *absolutely continuous* with respect to $\\mathbb{P}$."
   ]
  },
  {
   "cell_type": "markdown",
   "metadata": {},
   "source": [
    "### Solution 1.10.2"
   ]
  },
  {
   "cell_type": "markdown",
   "metadata": {},
   "source": [
    "We show this with a calculation.\n",
    "\\begin{align}\n",
    "\\tilde{\\mathbb{P}}(A)&=\\int_{A}Z(\\omega)d\\mathbb{P}(\\omega)\\\\\n",
    "&=\\int_{A\\cap[0,\\frac{1}{2})}\\underbrace{Z(\\omega)}_{=0}d\\mathbb{P}(\\omega)+\\int_{A\\cap[\\frac{1}{2},1)}\\underbrace{Z(\\omega)}_{2}d\\mathbb{P}(\\omega)\\\\\n",
    "&=0\\mathbb{P}(A\\cap[0,\\frac{1}{2}))+2\\mathbb{P}(A\\cap[\\frac{1}{2},1))=0. \\square\n",
    "\\end{align}"
   ]
  },
  {
   "cell_type": "markdown",
   "metadata": {},
   "source": [
    "### Exercise 1.10.3"
   ]
  },
  {
   "cell_type": "markdown",
   "metadata": {},
   "source": [
    "Show that there is a set $A$ for which $\\tilde{\\mathbb{P}}(A)=0$ but $\\mathbb{P}(A)>0$.  In other words, $\\tilde{\\mathbb{P}}$ and $\\mathbb{P}$ are not equivalent."
   ]
  },
  {
   "cell_type": "markdown",
   "metadata": {},
   "source": [
    "### Solution 1.10.3"
   ]
  },
  {
   "cell_type": "markdown",
   "metadata": {},
   "source": [
    "This should work for any measurable subset $A\\in[0,\\frac{1}{2})$.  Take $A=[0,\\frac{1}{2})$, for example.  Then\n",
    "\\begin{equation}\n",
    "\\tilde{\\mathbb{P}}(A)=\\int_{A}Z(\\omega)d\\mathbb{P}(\\omega)=\\int_{[0,1)}0d\\mathbb{P}(\\omega)=0.\n",
    "\\end{equation}"
   ]
  },
  {
   "cell_type": "markdown",
   "metadata": {},
   "source": [
    "On the other hand,\n",
    "\\begin{equation}\n",
    "\\mathbb{P}(A)=\\mathbb{P}[0,\\frac{1}{2})=\\frac{1}{2}-0=\\frac{1}{2}. \\square\n",
    "\\end{equation}"
   ]
  },
  {
   "cell_type": "code",
   "execution_count": null,
   "metadata": {},
   "outputs": [],
   "source": []
  }
 ],
 "metadata": {
  "kernelspec": {
   "display_name": "Python 3",
   "language": "python",
   "name": "python3"
  },
  "language_info": {
   "codemirror_mode": {
    "name": "ipython",
    "version": 3
   },
   "file_extension": ".py",
   "mimetype": "text/x-python",
   "name": "python",
   "nbconvert_exporter": "python",
   "pygments_lexer": "ipython3",
   "version": "3.7.6"
  }
 },
 "nbformat": 4,
 "nbformat_minor": 4
}
