{
 "cells": [
  {
   "cell_type": "markdown",
   "metadata": {},
   "source": [
    "### Exercise 1.6"
   ]
  },
  {
   "cell_type": "markdown",
   "metadata": {},
   "source": [
    "Let $u$ be a fixed number in $\\mathbb{R}$, and define the convex function $\\varphi(x)=e^{ux}$ for all $x\\in\\mathbb{R}$. Let $X$ be a normal random variable with mean $\\mu=\\mathbb{E}X$ and standard deviation $\\sigma=[\\mathbb{E}(X-\\mu)^{\\frac{1}{2}}]$, o.e., with density\n",
    "\\begin{equation}\n",
    "f(x)=\\frac{1}{\\sigma\\sqrt{2\\pi}}e^{-\\frac{(x-\\mu)^2}{2\\sigma^2}}.\n",
    "\\end{equation}"
   ]
  },
  {
   "cell_type": "markdown",
   "metadata": {},
   "source": [
    "### Exercise 1.6.1"
   ]
  },
  {
   "cell_type": "markdown",
   "metadata": {},
   "source": [
    "Verify that\n",
    "\\begin{equation}\n",
    "\\mathbb{E}e^{uX}=e^{u\\mu+\\frac{1}{2}u^2\\sigma^2}.\n",
    "\\end{equation}"
   ]
  },
  {
   "cell_type": "markdown",
   "metadata": {},
   "source": [
    "### Solution 1.6.1"
   ]
  },
  {
   "cell_type": "markdown",
   "metadata": {},
   "source": [
    "By Theorem 1.5.1, we have\n",
    "\\begin{equation}\n",
    "\\mathbb{E}e^{uX}=\\int_{\\Omega}e^{uX}=\\int_{-\\infty}^{\\infty}e^{ux}\\frac{1}{\\sigma\\sqrt{2\\pi}}e^{-\\frac{(x-\\mu)^2}{2\\sigma^2}}dx.\n",
    "\\end{equation}"
   ]
  },
  {
   "cell_type": "markdown",
   "metadata": {},
   "source": [
    "We now simplify the Riemann integral on the right.\n",
    "\\begin{align}\n",
    "\\int_{-\\infty}^{\\infty}e^{ux}\\frac{1}{\\sigma\\sqrt{2\\pi}}e^{-\\frac{(x-\\mu)^2}{2\\sigma^2}}dx&=\\int_{-\\infty}^{\\infty}e^{-2\\sigma^2\\frac{ux}{-2\\sigma^2}}\\frac{1}{\\sigma\\sqrt{2\\pi}}e^{-\\frac{(x-\\mu)^2}{2\\sigma^2}}dx\\\\\n",
    "&=\\int_{-\\infty}^{\\infty}\\frac{1}{\\sigma\\sqrt{2\\pi}}e^{-\\frac{(x-\\mu)^2-2\\sigma^2ux}{2\\sigma^2}}dx.\n",
    "\\end{align}"
   ]
  },
  {
   "cell_type": "markdown",
   "metadata": {},
   "source": [
    "Notice that if we complete the square, we see that\n",
    "\\begin{equation}\n",
    "(x-\\mu)^2-2\\sigma^2ux=(x-(\\mu+\\sigma^2\\mu))^2-(2\\sigma^2u\\mu+\\sigma^4u^2)\n",
    "\\end{equation}\n",
    "Plugging this into the equation above, we obtain\n",
    "\\begin{equation}\n",
    "\\int_{-\\infty}^{\\infty}\\frac{1}{\\sigma\\sqrt{2\\pi}}e^{-\\frac{(x-(\\mu+\\sigma^2\\mu))^2-(2\\sigma^2u\\mu+\\sigma^4u^2)}{2\\sigma^2}}dx=e^{u\\mu+\\frac{1}{2}u^2\\sigma^2}\\int_{-\\infty}^{\\infty}\\frac{1}{\\sigma\\sqrt{2\\pi}}e^{-\\frac{(x-(\\mu+\\sigma^2\\mu))^2}{2\\sigma^2}}dx.\n",
    "\\end{equation}"
   ]
  },
  {
   "cell_type": "markdown",
   "metadata": {},
   "source": [
    "Note that $h(x):=\\frac{1}{\\sigma\\sqrt{2\\pi}}e^{-\\frac{(x-(\\mu+\\sigma^2\\mu))^2}{2\\sigma^2}}$ is the density of a normally distributed random variable with mean $\\mu':=\\mu+\\sigma^2\\mu$ and standard deviation $\\sigma^2$.  Hence,\n",
    "\\begin{equation}\n",
    "\\int_{-\\infty}^{\\infty}\\frac{1}{\\sigma\\sqrt{2\\pi}}e^{-\\frac{(x-(\\mu+\\sigma^2\\mu))^2}{2\\sigma^2}}dx=1.\n",
    "\\end{equation}"
   ]
  },
  {
   "cell_type": "markdown",
   "metadata": {},
   "source": [
    "Plugging this into the equation above, we obtain the desired result\n",
    "\\begin{equation}\n",
    "\\mathbb{E}e^{uX}=e^{u\\mu+\\frac{1}{2}u^2\\sigma^2}. \\square\n",
    "\\end{equation}"
   ]
  },
  {
   "cell_type": "markdown",
   "metadata": {},
   "source": [
    "### Exercise 1.6.2"
   ]
  },
  {
   "cell_type": "markdown",
   "metadata": {},
   "source": [
    "Verify that Jensen's inequality holds (as it must):\n",
    "\\begin{equation}\n",
    "\\mathbb{E}\\varphi(X)\\geq\\varphi(\\mathbb{E}X).\n",
    "\\end{equation}"
   ]
  },
  {
   "cell_type": "markdown",
   "metadata": {},
   "source": [
    "### Solution 1.6.2"
   ]
  },
  {
   "cell_type": "markdown",
   "metadata": {},
   "source": [
    "We have just shown that $\\mathbb{E}\\varphi(X)=e^{u\\mu+\\frac{1}{2}u^2\\sigma^2}$.  On the other hand, $\\varphi(\\mathbb{E}X)=\\varphi(\\mu)=e^{u\\mu}$.  Clearly $\\frac{1}{2}u^2\\sigma^2\\geq 0$, so we can conclude the desired result\n",
    "\\begin{equation}\n",
    "\\mathbb{E}\\varphi(X)=e^{u\\mu+\\frac{1}{2}u^2\\sigma^2}\\geq e^{u\\mu}=\\varphi(\\mathbb{E}X). \\square\n",
    "\\end{equation}"
   ]
  },
  {
   "cell_type": "code",
   "execution_count": null,
   "metadata": {},
   "outputs": [],
   "source": []
  }
 ],
 "metadata": {
  "kernelspec": {
   "display_name": "Python 3",
   "language": "python",
   "name": "python3"
  },
  "language_info": {
   "codemirror_mode": {
    "name": "ipython",
    "version": 3
   },
   "file_extension": ".py",
   "mimetype": "text/x-python",
   "name": "python",
   "nbconvert_exporter": "python",
   "pygments_lexer": "ipython3",
   "version": "3.7.6"
  }
 },
 "nbformat": 4,
 "nbformat_minor": 4
}
