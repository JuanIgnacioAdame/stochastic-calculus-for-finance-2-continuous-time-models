{
 "cells": [
  {
   "cell_type": "markdown",
   "metadata": {},
   "source": [
    "### Exercise 1.11"
   ]
  },
  {
   "cell_type": "markdown",
   "metadata": {},
   "source": [
    "In Example 1.6.6, we began with a standard normal random variable $X$ under a measure $\\mathbb{P}$.  According to Exercise 1.6, this random variable has the moment-generating function\n",
    "\\begin{equation}\n",
    "\\mathbb{E}e^{uX}=e^{\\frac{1}{2}u^2} \\quad \\text{for all } u\\in\\mathbb{R}.\n",
    "\\end{equation}\n",
    "The moment-generating function of a random variable determines its distribution.  In particular, any random varaible that has moment-generating function $e^{\\frac{1}{2}u^2}$ must be standard normal."
   ]
  },
  {
   "cell_type": "markdown",
   "metadata": {},
   "source": [
    "In Example 1.6.6, we also defined $Y=X+\\theta$, where $\\theta$ is a constant, we set $Z=e^{-\\theta X-\\frac{1}{2}\\theta^2}$, and we defined $\\tilde{\\mathbb{P}}$ by the formula (1.6.9):\n",
    "\\begin{equation}\n",
    "\\tilde{\\mathbb{P}}(A)=\\int_{A}Z(\\omega)d\\mathbb{P}(\\omega) \\quad \\text{for all } A\\in\\mathcal{F}.\n",
    "\\end{equation}\n",
    "We showed by considering its cumulative distribution function that $Y$ is a standard normal random variable under $\\tilde{\\mathbb{P}}$.  Give another proof that $Y$ is a standard normal number $\\mathbb{P}$ by verifying the moment-generating function formula\n",
    "\\begin{equation}\n",
    "\\tilde{\\mathbb{E}}e^{uY}=e^{\\frac{1}{2}u^2} \\quad \\text{for all } u\\in\\mathbb{R}.\n",
    "\\end{equation}"
   ]
  },
  {
   "cell_type": "markdown",
   "metadata": {},
   "source": [
    "### Solution 1.11"
   ]
  },
  {
   "cell_type": "markdown",
   "metadata": {},
   "source": [
    "Because $e^{uY}$ is a nonnegative random variable, Theorem 1.6.1 tells us that\n",
    "\\begin{equation}\n",
    "\\tilde{\\mathbb{E}}e^{uY}=\\mathbb{E}e^{uY}Z.\n",
    "\\end{equation}"
   ]
  },
  {
   "cell_type": "markdown",
   "metadata": {},
   "source": [
    "We now compute $\\mathbb{E}e^{uY}Z$.\n",
    "\\begin{align}\n",
    "\\mathbb{E}e^{uY}Z&=\\int_{\\Omega}e^{uY(\\omega)}Z(\\omega)d\\mathbb{P}(\\omega)\\\\\n",
    "&=\\int_{\\Omega}e^{u(X(\\omega)+\\theta)}e^{-\\theta X(\\omega)-\\frac{1}{2}\\theta^2}\\mathbb{P}(\\omega)\\\\\n",
    "&=e^{u\\theta}e^{-\\frac{1}{2}\\theta^2}\\int_{\\Omega}e^{X(\\omega)(u-\\theta)}d\\mathbb{P}(\\omega).\n",
    "\\end{align}"
   ]
  },
  {
   "cell_type": "markdown",
   "metadata": {},
   "source": [
    "We have now managed to write $\\tilde{\\mathbb{E}}e^{uY}$ in terms of a function of the random variable $X$, integrated with respect to the probability measure $\\mathbb{P}$ under which $X$ is standard normal.  According to Theorem 1.5.2, then\n",
    "\\begin{align}\n",
    "e^{u\\theta}e^{-\\frac{1}{2}\\theta^2}\\int_{\\Omega}e^{X(\\omega)(u-\\theta)}d\\mathbb{P}(\\omega)&=e^{u\\theta}e^{-\\frac{1}{2}\\theta^2}\\int_{-\\infty}^{\\infty}e^{x(u-\\theta)}\\varphi(x)dx\\\\\n",
    "&=e^{u\\theta}e^{-\\frac{1}{2}\\theta^2}\\int_{-\\infty}^{\\infty}e^{x(u-\\theta)}\\frac{1}{\\sqrt{2\\pi}}e^{-\\frac{x^2}{2}}dx\\\\\n",
    "&=\\frac{e^{u\\theta}e^{-\\frac{1}{2}\\theta^2}}{\\sqrt{2\\pi}}\\int_{-\\infty}^{\\infty}e^{-\\frac{1}{2}x^2+(u-\\theta)x}dx.\n",
    "\\end{align}"
   ]
  },
  {
   "cell_type": "markdown",
   "metadata": {},
   "source": [
    "At this point we use the fact that\n",
    "\\begin{equation}\n",
    "\\int_{\\infty}^{\\infty}e^{-ax^2+bx+c}dx=\\sqrt{\\frac{\\pi}{a}}e^{\\frac{b^2}{4a}+c},\n",
    "\\end{equation}\n",
    "where in our case $a=\\frac{1}{2}, b=(u-\\theta), c=0$."
   ]
  },
  {
   "cell_type": "markdown",
   "metadata": {},
   "source": [
    "This means that\n",
    "\\begin{align}\n",
    "\\frac{e^{u\\theta}e^{-\\frac{1}{2}\\theta^2}}{\\sqrt{2\\pi}}\\int_{-\\infty}^{\\infty}e^{-\\frac{1}{2}x^2+(u-\\theta)x}dx&=\\frac{e^{u\\theta}e^{-\\frac{1}{2}\\theta^2}}{\\sqrt{2\\pi}}\\sqrt{2\\pi}e^{\\frac{(u-\\theta)^2}{2}}\\\\\n",
    "&=e^{u\\theta}e^{-\\frac{1}{2}\\theta^2}e^{\\frac{u^2}{2}}e^{\\frac{\\theta^2}{2}}e^{\\frac{-2u\\theta}{2}}\\\\\n",
    "&=e^{\\frac{u^2}{2}}.\n",
    "\\end{align}"
   ]
  },
  {
   "cell_type": "markdown",
   "metadata": {},
   "source": [
    "This establishes the desired result. $\\square$"
   ]
  },
  {
   "cell_type": "code",
   "execution_count": null,
   "metadata": {},
   "outputs": [],
   "source": []
  }
 ],
 "metadata": {
  "kernelspec": {
   "display_name": "Python 3",
   "language": "python",
   "name": "python3"
  },
  "language_info": {
   "codemirror_mode": {
    "name": "ipython",
    "version": 3
   },
   "file_extension": ".py",
   "mimetype": "text/x-python",
   "name": "python",
   "nbconvert_exporter": "python",
   "pygments_lexer": "ipython3",
   "version": "3.7.6"
  }
 },
 "nbformat": 4,
 "nbformat_minor": 4
}
