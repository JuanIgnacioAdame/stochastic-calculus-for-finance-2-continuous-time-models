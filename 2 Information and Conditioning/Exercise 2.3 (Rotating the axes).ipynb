{
 "cells": [
  {
   "cell_type": "markdown",
   "metadata": {},
   "source": [
    "### Exercise 2.3"
   ]
  },
  {
   "cell_type": "markdown",
   "metadata": {},
   "source": [
    "Let $X$ and $Y$ be independent standard normal random variables.  Let $\\theta$ be a constant, and define random variables\n",
    "\\begin{equation}\n",
    "V=X\\cos\\theta+Y\\sin\\theta, \\quad \\text{and} \\quad W=-X\\sin\\theta+Y\\cos\\theta.\n",
    "\\end{equation}\n",
    "Show that $V$ and $W$ are independent standard normal random variables."
   ]
  },
  {
   "cell_type": "markdown",
   "metadata": {},
   "source": [
    "### Solution 2.3"
   ]
  },
  {
   "cell_type": "markdown",
   "metadata": {},
   "source": [
    "As stated in the discussion following Definition 2.2.11, linear combinations of jointly normal random variables are jointy normal.  Since independent normal random variables are jointly normal, linear combinations of independent normal random variables are jointy normal.  Because $X$ and $Y$ are independent normals, then linear combinations of them, e.g., $V$ and $W$, are jointy normal.  This means $V$ and $W$ have joint density\n",
    "\\begin{equation}\n",
    "f_{V,W}(x,y)=\\frac{1}{2\\pi\\sigma_1\\sigma_2\\sqrt{1-\\rho^2}}\\exp\\left\\{-\\frac{1}{2(1-\\rho^2)}\\left[\\frac{(x-\\mu_1)^2}{\\sigma_1^2}-\\frac{2\\rho(x-\\mu_1)(y-\\mu_2)}{\\sigma_1\\sigma_2}+\\frac{(y-\\mu_2)^2}{\\sigma_2}\\right]\\right\\}.\n",
    "\\end{equation}\n",
    "Note that when $\\rho=0$, this reduces to\n",
    "\\begin{align}\n",
    "f_{V,W}(x,y)&=\\frac{1}{2\\pi\\sigma_1\\sigma_2}\\exp\\left\\{-\\frac{1}{2}\\left[\\frac{(x-\\mu_1)^2}{\\sigma_1^2}+\\frac{(y-\\mu_2)^2}{\\sigma_2}\\right]\\right\\}\\\\\n",
    "&=\\frac{1}{\\sigma_1\\sqrt{2\\pi}}e^{-\\frac{1}{2}\\left(\\frac{x-\\mu_1}{\\sigma_1}\\right)^2}\\frac{1}{\\sigma_2\\sqrt{2\\pi}}e^{-\\frac{1}{2}\\left(\\frac{y-\\mu_2}{\\sigma_2}\\right)^2},\n",
    "\\end{align}\n",
    "which is the product of densities of normal random variables.  By Theorem 2.2.7 (v), this would imply $W$ and $V$ are independent.  Let us show $\\rho=0$ with a caluclation."
   ]
  },
  {
   "cell_type": "markdown",
   "metadata": {},
   "source": [
    "\\begin{equation}\n",
    "\\rho(V,W)=\\frac{\\text{Cov}(V,W)}{\\sqrt{\\text{Var}(V)\\text{Var}(W)}}\n",
    "\\end{equation}"
   ]
  },
  {
   "cell_type": "markdown",
   "metadata": {},
   "source": [
    "Because $V$ is a linear combination of indpendent normals, then\n",
    "\\begin{equation}\n",
    "\\text{Var}(V)=\\cos^2\\theta\\underbrace{\\text{Var}(X)}_{=1}+\\sin^2\\theta\\underbrace{\\text{Var}(Y)}_{=1}=\\cos^2\\theta+\\sin^2\\theta=1.\n",
    "\\end{equation}\n",
    "(There is nothing deep behind the indetity used above to calcualte $\\text{Var}(V)$.  It's just a tedious calculation.) A similar calculation yields $\\text{Var}(W)=1$."
   ]
  },
  {
   "cell_type": "markdown",
   "metadata": {},
   "source": [
    "Plugging these values into the expression for $\\rho$ above, we get\n",
    "\\begin{align}\n",
    "\\rho(V,W)=\\text{Cov}(V,W)&=\\mathbb{E}[VW]-\\underbrace{\\mathbb{E}V}_{=0}\\underbrace{\\mathbb{E}W}_{=0}\\\\\n",
    "&=\\mathbb{E}[-\\sin\\theta\\cos\\theta X^2+\\cos^2\\theta XY-\\sin^2\\theta YX+\\cos\\theta\\sin\\theta Y^2]\\\\\n",
    "&=-\\sin\\theta\\cos\\theta\\underbrace{\\mathbb{E}X^2}_{=1}+\\cos^2\\theta\\underbrace{\\mathbb{E}XY}_{=\\mathbb{E}X\\mathbb{E}Y=0}-\\sin^2\\theta\\underbrace{\\mathbb{E}YX}_{\\mathbb{E}Y\\mathbb{E}X=0}+\\cos\\theta\\sin\\theta\\underbrace{\\mathbb{E}Y^2}_{=1}\\\\\n",
    "&=-\\sin\\theta\\cos\\theta+\\cos\\theta\\sin\\theta=0.\n",
    "\\end{align}"
   ]
  },
  {
   "cell_type": "markdown",
   "metadata": {},
   "source": [
    "In short, we have that $V$ and $W$ are jointly normal with $\\rho(V,W)=0$, $\\mathbb{E}V=\\mathbb{E}W=0$, and $\\text{Var}(V)=\\text{Var}(W)=1$.  Hence, we may conclude that $V$ and $W$ are independent standard normal. $\\square$"
   ]
  },
  {
   "cell_type": "code",
   "execution_count": null,
   "metadata": {},
   "outputs": [],
   "source": []
  }
 ],
 "metadata": {
  "kernelspec": {
   "display_name": "Python 3",
   "language": "python",
   "name": "python3"
  },
  "language_info": {
   "codemirror_mode": {
    "name": "ipython",
    "version": 3
   },
   "file_extension": ".py",
   "mimetype": "text/x-python",
   "name": "python",
   "nbconvert_exporter": "python",
   "pygments_lexer": "ipython3",
   "version": "3.7.6"
  }
 },
 "nbformat": 4,
 "nbformat_minor": 4
}
