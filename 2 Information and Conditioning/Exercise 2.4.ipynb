{
 "cells": [
  {
   "cell_type": "markdown",
   "metadata": {},
   "source": [
    "### Exercise 2.4"
   ]
  },
  {
   "cell_type": "markdown",
   "metadata": {},
   "source": [
    "In Example 2.2.10, $X$ is a standard normal random variable and $Z$ is an independent random variable satisfying\n",
    "\\begin{equation}\n",
    "\\mathbb{P}\\{Z=1\\}=\\mathbb{P}\\{Z=-1\\}=\\frac{1}{2}.\n",
    "\\end{equation}\n",
    "We defined $Y=XZ$ and showed that $Y$ is standard normal.  WE established that although $X$ and $Y$ are uncorrelated, they are not independent.  In this exercise, we use moment-generating functions to show that $Y$ is standard normal and $X$ and $Y$ are not independent."
   ]
  },
  {
   "cell_type": "markdown",
   "metadata": {},
   "source": [
    "### Exercise 2.4.1"
   ]
  },
  {
   "cell_type": "markdown",
   "metadata": {},
   "source": [
    "Establish the joint moment-generating function formula\n",
    "\\begin{equation}\n",
    "\\mathbb{E}e^{uX+vY}=e^{\\frac{1}{2}(u^2+v^2)}\\frac{e^{uv}+e^{-uv}}{2}.\n",
    "\\end{equation}"
   ]
  },
  {
   "cell_type": "markdown",
   "metadata": {},
   "source": [
    "### Solution 2.4.1"
   ]
  },
  {
   "cell_type": "markdown",
   "metadata": {},
   "source": [
    "We show this with the following calculation.\n",
    "\\begin{align}\n",
    "\\mathbb{E}e^{uX+vY}&=\\mathbb{E}e^{uX+vZX}\\\\\n",
    "&=\\mathbb{P}\\{Z=1\\}\\mathbb{E}e^{uX+vX}+\\mathbb{P}\\{Z=-1\\}\\mathbb{E}e^{uX-vX}\\\\\n",
    "&=\\frac{1}{2}e^{\\frac{1}{2}(u+v)^2}+\\frac{1}{2}e^{\\frac{1}{2}(u-v)^2}\\\\\n",
    "&=\\frac{1}{2}(e^{u^2/2}e^{uv}e^{v^2/2}+e^{u^2/2}e^{-uv}e^{v^2/2})\\\\\n",
    "&=\\frac{1}{2}e^{\\frac{1}{2}(u^2+v^2)}(e^{uv}+e^{-uv}). \\square\n",
    "\\end{align}"
   ]
  },
  {
   "cell_type": "markdown",
   "metadata": {},
   "source": [
    "### Exercise 2.4.2"
   ]
  },
  {
   "cell_type": "markdown",
   "metadata": {},
   "source": [
    "Use the formula above to show that $\\mathbb{E}e^{vY}=e^{\\frac{1}{2}v^2}$.  This is the moment-generating function for a standard normal random variable, and thus $Y$ must be a standard normal random variable."
   ]
  },
  {
   "cell_type": "markdown",
   "metadata": {},
   "source": [
    "### Solution 2.4.2"
   ]
  },
  {
   "cell_type": "markdown",
   "metadata": {},
   "source": [
    "If we plug in $u=0$ to the formula above, we obtain\n",
    "\\begin{equation}\n",
    "\\mathbb{E}e^{0X+vY}=\\mathbb{E}e^{vY}=e^{\\frac{1}{2}(0^2+v^2)}\\frac{e^{0v}+e^{-0v}}{2}=e^{\\frac{1}{2}v^2}. \\square\n",
    "\\end{equation}"
   ]
  },
  {
   "cell_type": "markdown",
   "metadata": {},
   "source": [
    "### Exercise 2.4.3"
   ]
  },
  {
   "cell_type": "markdown",
   "metadata": {},
   "source": [
    "Use the formula in (i) and Theorem 2.2.7(iv) to show that $X$ and $Y$ are not independent."
   ]
  },
  {
   "cell_type": "markdown",
   "metadata": {},
   "source": [
    "### Solution 2.4.3"
   ]
  },
  {
   "cell_type": "markdown",
   "metadata": {},
   "source": [
    "By Theorem 2.2.7(iv), $X$ and $Y$ are independent if and only if\n",
    "\\begin{equation}\n",
    "\\mathbb{E}e^{uX+vY}\\stackrel{!}{=}\\mathbb{E}e^{uX}\\mathbb{E}e^{vY}.\n",
    "\\end{equation}\n",
    "However,\n",
    "\\begin{equation}\n",
    "\\mathbb{E}e^{uX+vY}=e^{\\frac{1}{2}(u^2+v^2)}\\frac{e^{uv}+e^{-uv}}{2}\\neq e^{\\frac{1}{2}(u^2+v^2)}=e^{\\frac{1}{2}u^2}e^{\\frac{1}{2}v^2}=\\mathbb{E}e^{uX}\\mathbb{E}e^{vY}. \\square\n",
    "\\end{equation}"
   ]
  },
  {
   "cell_type": "code",
   "execution_count": null,
   "metadata": {},
   "outputs": [],
   "source": []
  }
 ],
 "metadata": {
  "kernelspec": {
   "display_name": "Python 3",
   "language": "python",
   "name": "python3"
  },
  "language_info": {
   "codemirror_mode": {
    "name": "ipython",
    "version": 3
   },
   "file_extension": ".py",
   "mimetype": "text/x-python",
   "name": "python",
   "nbconvert_exporter": "python",
   "pygments_lexer": "ipython3",
   "version": "3.7.6"
  }
 },
 "nbformat": 4,
 "nbformat_minor": 4
}
