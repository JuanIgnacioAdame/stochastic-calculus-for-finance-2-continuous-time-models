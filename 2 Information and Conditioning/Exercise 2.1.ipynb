{
 "cells": [
  {
   "cell_type": "markdown",
   "metadata": {},
   "source": [
    "### Exercise 2.1"
   ]
  },
  {
   "cell_type": "markdown",
   "metadata": {},
   "source": [
    "Let $(\\Omega,\\mathcal{F},\\mathbb{P})$ be a general probability space, and suppose a random variable $X$ on this space is measurable with respect to the trivial $\\sigma-$algebra $\\mathcal{F}_0=\\{\\emptyset, \\Omega\\}$.  Show that $X$ is not random (i.e., there is a constant $c$ such that $X(\\omega)=c$ for all $\\omega\\in\\Omega$).  Such a random variable is called *degenerate*."
   ]
  },
  {
   "cell_type": "markdown",
   "metadata": {},
   "source": [
    "### Solution 2.1"
   ]
  },
  {
   "cell_type": "markdown",
   "metadata": {},
   "source": [
    "If $X$ is measurable with respect to $\\mathcal{F}_0$, then for any $A\\in\\sigma(X)$, it also holds that $A\\in\\mathcal{F}_0$, which means that either (i) $A=\\emptyset$, or (ii) $A=\\Omega$.  In particular, choose any $\\omega^*\\in\\Omega$, and consider the single point $X(\\omega^*)=:c\\in\\mathbb{R}$.  Because the set $\\Omega_c:=\\{\\omega\\in\\Omega:X(\\omega)=c\\}\\in\\sigma(X)$, then either (i) $\\Omega_c=\\emptyset$, or (ii) $\\Omega_c=\\Omega$.  But we cannot have $\\Omega_c=\\emptyset$ because for $\\omega^*\\in\\Omega$, we have $X(\\omega^*)=c$.  Hence, it must hold that $\\Omega_c=\\Omega$, but note that this is the same as saying that $X\\equiv c$. This establishes the desired result. $\\square$"
   ]
  },
  {
   "cell_type": "code",
   "execution_count": null,
   "metadata": {},
   "outputs": [],
   "source": []
  }
 ],
 "metadata": {
  "kernelspec": {
   "display_name": "Python 3",
   "language": "python",
   "name": "python3"
  },
  "language_info": {
   "codemirror_mode": {
    "name": "ipython",
    "version": 3
   },
   "file_extension": ".py",
   "mimetype": "text/x-python",
   "name": "python",
   "nbconvert_exporter": "python",
   "pygments_lexer": "ipython3",
   "version": "3.7.6"
  }
 },
 "nbformat": 4,
 "nbformat_minor": 4
}
