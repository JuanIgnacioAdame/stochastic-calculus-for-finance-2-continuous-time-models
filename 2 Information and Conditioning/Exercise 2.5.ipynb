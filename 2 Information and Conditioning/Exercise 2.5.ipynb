{
 "cells": [
  {
   "cell_type": "markdown",
   "metadata": {},
   "source": [
    "### Exercise 2.5"
   ]
  },
  {
   "cell_type": "markdown",
   "metadata": {},
   "source": [
    "Let $(X,Y)$ be a pair of random variables with joint density function\n",
    "\\begin{align}\n",
    "f_{X,Y}(x,y)&=\\frac{2|x|+y}{\\sqrt{2\\pi}}\\exp\\left\\{-\\frac{(2|x|+y)^2)}{2}\\right\\}, &\\text{ if } y\\geq -|x|,\\\\\n",
    "&=0 &\\text{ if } y<-|x|.\n",
    "\\end{align}"
   ]
  },
  {
   "cell_type": "markdown",
   "metadata": {},
   "source": [
    "Show that $X$ and $Y$ are standard normal random variables and that they are uncorrelated but not independent."
   ]
  },
  {
   "cell_type": "markdown",
   "metadata": {},
   "source": [
    "### Solution 2.5"
   ]
  },
  {
   "cell_type": "markdown",
   "metadata": {},
   "source": [
    "First we show that $X$ and $Y$ are not independent.  By Theorem 2.2.7 (v), $X$ and $Y$ are independent if and only if $f_{X,Y}(x,y)=f_X(x)f_Y(y)$.  To see that this is not the case, not that $f_{X,Y}(x,y)$ can equal $0$, but $f_X(x)f_Y(y)$ cannot because this is the product two standard normal probability densities, and these are always positive."
   ]
  },
  {
   "cell_type": "markdown",
   "metadata": {},
   "source": [
    "Now we show that $X$ and $Y$ are standard normal.  We do this by computing each of their densities, and showing that they in fact equal the density of a standard normal random variable.  We start with $Y$."
   ]
  },
  {
   "cell_type": "markdown",
   "metadata": {},
   "source": [
    "If $y\\geq 0$, we have\n",
    "\\begin{align}\n",
    "f_Y(y)&=\\int_{-\\infty}^{\\infty}\\frac{2|x|+y}{\\sqrt{2\\pi}}\\exp\\left\\{-\\frac{(2|x|+y)^2}{2}\\right\\}dx\\\\\n",
    "&=\\int_{-\\infty}^{0}\\frac{-2x+y}{\\sqrt{2\\pi}}\\exp\\left\\{-\\frac{(-2x+y)^2}{2}\\right\\}dx+\\int_{0}^{\\infty}\\frac{2x+y}{\\sqrt{2\\pi}}\\exp\\left\\{-\\frac{(2x+y)^2}{2}\\right\\}dx\\\\\n",
    "&=2\\int_{0}^{\\infty}\\frac{2x+y}{\\sqrt{2\\pi}}\\exp\\left\\{-\\frac{(2x+y)^2}{2}\\right\\}dx\n",
    "\\end{align}"
   ]
  },
  {
   "cell_type": "markdown",
   "metadata": {},
   "source": [
    "If we now let $u=2x+y$, then $du/2=dx$, $u(x=0)=y$, $u(x=\\infty)=\\infty$, and the integral above becomes\n",
    "\\begin{equation}\n",
    "\\int_{y}^{\\infty}\\frac{u}{\\sqrt{2\\pi}}e^{-\\frac{u^2}{2}}du=\\frac{1}{\\sqrt{2\\pi}}e^{-\\frac{u^2}{2}}|_{u=y}^{u=\\infty}=\\frac{1}{\\sqrt{2\\pi}}e^{-\\frac{y^2}{2}}.\n",
    "\\end{equation}"
   ]
  },
  {
   "cell_type": "markdown",
   "metadata": {},
   "source": [
    "If $y<0$, we have\n",
    "\\begin{align}\n",
    "f_Y(y)&=\\int_{-\\infty}^{y}\\frac{2|x|+y}{\\sqrt{2\\pi}}\\exp\\left\\{-\\frac{(2|x|+y)^2}{2}\\right\\}dx+\\int_{-y}^{\\infty}\\frac{2|x|+y}{\\sqrt{2\\pi}}\\exp\\left\\{-\\frac{(2|x|+y)^2}{2}\\right\\}dx\\\\\n",
    "&=\\int_{-\\infty}^{y}\\frac{-2x+y}{\\sqrt{2\\pi}}\\exp\\left\\{-\\frac{(-2x+y)^2}{2}\\right\\}dx+\\int_{-y}^{\\infty}\\frac{2x+y}{\\sqrt{2\\pi}}\\exp\\left\\{-\\frac{(2x+y)^2}{2}\\right\\}dx\\\\\n",
    "&=2\\int_{-y}^{\\infty}\\frac{2x+y}{\\sqrt{2\\pi}}\\exp\\left\\{-\\frac{(2x+y)^2}{2}\\right\\}dx.\n",
    "\\end{align}"
   ]
  },
  {
   "cell_type": "markdown",
   "metadata": {},
   "source": [
    "If we now let $u=2x+y$, then $du/2=dx$, $u(x=-y)=-y$, $u(x=\\infty)=\\infty$, and the integral above becomes\n",
    "\\begin{equation}\n",
    "\\int_{-y}^{\\infty}\\frac{u}{\\sqrt{2\\pi}}e^{-\\frac{u^2}{2}}du=\\frac{1}{\\sqrt{2\\pi}}e^{-\\frac{u^2}{2}}|_{u=-y}^{u=\\infty}=\\frac{1}{\\sqrt{2\\pi}}e^{-\\frac{y^2}{2}}.\n",
    "\\end{equation}"
   ]
  },
  {
   "cell_type": "markdown",
   "metadata": {},
   "source": [
    "In short, we see that for all $y\\in\\mathbb{R}$, $f_Y(y)$ is equal to the denisty of a standard normal.  It remains to show that $X$ is standard normal normal."
   ]
  },
  {
   "cell_type": "markdown",
   "metadata": {},
   "source": [
    "If $x\\geq 0$, we have\n",
    "\\begin{align}\n",
    "f_X(x)=\\int_{-x}^{\\infty}\\frac{2x+y}{\\sqrt{2\\pi}}\\exp\\left\\{-\\frac{(2x+y)^2}{2}\\right\\}dy.\n",
    "\\end{align}"
   ]
  },
  {
   "cell_type": "markdown",
   "metadata": {},
   "source": [
    "If we now let $u=2x+y$, then $du=dy$, $u(y=-x)=x$, $u(y=\\infty)=\\infty$, and the integral above becomes\n",
    "\\begin{equation}\n",
    "\\int_{x}^{\\infty}\\frac{u}{\\sqrt{2\\pi}}e^{\\frac{-u^2}{2}}du=\\frac{1}{\\sqrt{2\\pi}}e^{-\\frac{x^2}{2}},\n",
    "\\end{equation}\n",
    "where the equality comes from the fact that we in fact already evaluated this integral when computing $f_Y(y)$."
   ]
  },
  {
   "cell_type": "markdown",
   "metadata": {},
   "source": [
    "If $x<0$, we have\n",
    "\\begin{equation}\n",
    "f_X(x)=\\int_{x}^{\\infty}\\frac{-2x+y}{\\sqrt{2\\pi}}\\exp\\left\\{-\\frac{(-2x+y)^2}{2}\\right\\}dy.\n",
    "\\end{equation}"
   ]
  },
  {
   "cell_type": "markdown",
   "metadata": {},
   "source": [
    "If we now let $u=-2x+y$, then $du=dy$, $u(y=x)=-x$, $u(y=\\infty)=\\infty$, and the integral above becomes\n",
    "\\begin{equation}\n",
    "\\int_{-x}^{\\infty}\\frac{u}{\\sqrt{2\\pi}}e^{\\frac{-u^2}{2}}du=\\frac{1}{\\sqrt{2\\pi}}e^{-\\frac{x^2}{2}},\n",
    "\\end{equation}\n",
    "where the equality comes from the fact that we in fact already evaluated this integral when computing $f_Y(y)$."
   ]
  },
  {
   "cell_type": "markdown",
   "metadata": {},
   "source": [
    "In short, we see that for all $x\\in\\mathbb{R}$, $f_X(x)$ is equal to the denisty of a standard normal.  It remains to show that $X$ and $Y$ are uncorrelated."
   ]
  },
  {
   "cell_type": "markdown",
   "metadata": {},
   "source": [
    "By definition, $X$ and $Y$ are uncorrelated if and only if $\\text{Cov}(X,Y)=0$, and this holds (by definition of covariance) if and only if $\\mathbb{E}[XY]=\\underbrace{\\mathbb{E}X}_{=0}\\underbrace{\\mathbb{E}Y}_{=0}=0$.  We must verify that this is true.\n",
    "\\begin{align}\n",
    "\\mathbb{E}[XY]&=\\int_{\\mathbb{R}^2}xyf_{X,Y}(x,y)dxdy\\\\\n",
    "&=\\int_{-\\infty}^{\\infty}\\int_{0}^{\\infty}xy\\frac{2x+y}{\\sqrt{2\\pi}}\\exp\\left\\{-\\frac{(2x+y)^2)}{2}\\right\\}dxdy+\\int_{-\\infty}^{\\infty}\\int_{-\\infty}^{0}xy\\frac{-2x+y}{\\sqrt{2\\pi}}\\exp\\left\\{-\\frac{(-2x+y)^2)}{2}\\right\\}dxdy\n",
    "\\end{align}"
   ]
  },
  {
   "cell_type": "markdown",
   "metadata": {},
   "source": [
    "Note that for any $0\\leq x <\\infty$, we have that $\\frac{2x+y}{\\sqrt{2\\pi}}\\exp\\left\\{-\\frac{(2x+y)^2)}{2}\\right\\}=\\frac{-2x'+y}{\\sqrt{2\\pi}}\\exp\\left\\{-\\frac{(-2x'+y)^2)}{2}\\right\\}$ when $x'=-x$, so that $-\\infty\\leq x'\\leq 0$.  Indeed, plugging $x'=-x$ into the latter expression, we get $\\frac{-2(-x)+y}{\\sqrt{2\\pi}}\\exp\\left\\{-\\frac{(-2(-x)+y)^2)}{2}\\right\\}=\\frac{2x+y}{\\sqrt{2\\pi}}\\exp\\left\\{-\\frac{(2x+y)^2)}{2}\\right\\}$.  Because of this (anti)symmetry, we know without explicitly computing the integrals above that they are equal to something of the form\n",
    "\\begin{equation}\n",
    "\\int_{-\\infty}^{\\infty}F(y)dy+\\int_{-\\infty}^{\\infty}-F(y)dy=0.\n",
    "\\end{equation}"
   ]
  },
  {
   "cell_type": "markdown",
   "metadata": {},
   "source": [
    "Thus, we may conclude that $X$ and $Y$ are uncorrelated.  This finishes the proof. $\\square$"
   ]
  },
  {
   "cell_type": "code",
   "execution_count": null,
   "metadata": {},
   "outputs": [],
   "source": []
  }
 ],
 "metadata": {
  "kernelspec": {
   "display_name": "Python 3",
   "language": "python",
   "name": "python3"
  },
  "language_info": {
   "codemirror_mode": {
    "name": "ipython",
    "version": 3
   },
   "file_extension": ".py",
   "mimetype": "text/x-python",
   "name": "python",
   "nbconvert_exporter": "python",
   "pygments_lexer": "ipython3",
   "version": "3.7.6"
  }
 },
 "nbformat": 4,
 "nbformat_minor": 4
}
