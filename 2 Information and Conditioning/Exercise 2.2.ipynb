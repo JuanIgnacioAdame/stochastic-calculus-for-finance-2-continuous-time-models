{
 "cells": [
  {
   "cell_type": "markdown",
   "metadata": {},
   "source": [
    "### Exercise 2.2"
   ]
  },
  {
   "cell_type": "markdown",
   "metadata": {},
   "source": [
    "Independece of random variables can be affected by changes of measure.  To illustrate this point, consider the psace of two coin tosses $\\{HH,HT,TH,TT\\}$ and let stock prices be given by\n",
    "\\begin{align}\n",
    "&S_0=4, S_1(H)=8, S_1(T)=2,\\\\\n",
    "&S_2(HH)=16, S_2(HT)=S_2(TH)=4, S_2(TT)=1.\n",
    "\\end{align}"
   ]
  },
  {
   "cell_type": "markdown",
   "metadata": {},
   "source": [
    "Consider two probability measures given by\n",
    "\\begin{align}\n",
    "&\\tilde{\\mathbb{P}}(HH)=\\frac{1}{4}, \\tilde{\\mathbb{P}}(HT)=\\frac{1}{4}, \\tilde{\\mathbb{P}}(TH)=\\frac{1}{4}, \\tilde{\\mathbb{P}}(TT)=\\frac{1}{4}\\\\\n",
    "&\\mathbb{P}(HH)=\\frac{4}{9}, \\mathbb{P}(HT)=\\frac{2}{9}, \\mathbb{P}(TH)=\\frac{2}{9}, \\mathbb{P}(TT)=\\frac{1}{9}.\n",
    "\\end{align}"
   ]
  },
  {
   "cell_type": "markdown",
   "metadata": {},
   "source": [
    "Define the random variable\n",
    "\\begin{align}\n",
    "X&=1 \\text{ if } S_2=4,\\\\\n",
    "&=0 \\text{ if } S_2\\neq 4.\n",
    "\\end{align}"
   ]
  },
  {
   "cell_type": "markdown",
   "metadata": {},
   "source": [
    "### Exercise 2.2.1"
   ]
  },
  {
   "cell_type": "markdown",
   "metadata": {},
   "source": [
    "List all the sets in $\\sigma(X)$."
   ]
  },
  {
   "cell_type": "markdown",
   "metadata": {},
   "source": [
    "### Solution 2.2.1"
   ]
  },
  {
   "cell_type": "markdown",
   "metadata": {},
   "source": [
    "If $B=\\{1\\}$, then $\\{X\\in B\\}=\\{HT,TH\\}$.  If If $B=\\{0\\}$, then $\\{X\\in B\\}=\\{HH, TT\\}$.  Taking the union of these, we get all of $\\Omega$ i.e., $\\{HT,TH\\}\\cup \\{HT,TT\\}=\\Omega$.  Taking the intersection of these sets, we get $\\{HT,TH\\}\\cap \\{HT,TT\\}=\\emptyset$.  In short,\n",
    "\\begin{equation}\n",
    "\\sigma(X)=\\{\\emptyset, \\Omega, \\{HT,TH\\}, \\{HH, TT\\}\\}. \\square\n",
    "\\end{equation}"
   ]
  },
  {
   "cell_type": "markdown",
   "metadata": {},
   "source": [
    "### Exercise 2.2.2"
   ]
  },
  {
   "cell_type": "markdown",
   "metadata": {},
   "source": [
    "List all the sets in $\\sigma(S_1)$."
   ]
  },
  {
   "cell_type": "markdown",
   "metadata": {},
   "source": [
    "### Solution 2.2.2"
   ]
  },
  {
   "cell_type": "markdown",
   "metadata": {},
   "source": [
    "First, note that we are defining $S_1$ on all of $\\Omega$.  In particular, this means that we have defined $S_1$ so that it depends on the second coin toss, even though this dependence is in fact trivial, by which we mean that $S_1(\\omega_1\\omega_2)=S_1(\\omega_1\\omega'_2)$ for all $\\omega_2,\\omega'_2\\in\\{H,T\\}$.  With $S_1$ properly defined, we can now define $\\sigma(S_1)$."
   ]
  },
  {
   "cell_type": "markdown",
   "metadata": {},
   "source": [
    "If $B=\\{8\\}$, then $\\{S_1\\in B\\}=\\{HT, HH\\}$.  If $B=\\{2\\}$, then $\\{S_1\\in B\\}=\\{TH, TT\\}$.  Taking the union of these, we get all of $\\Omega$ i.e., $\\{HT,HH\\}\\cup \\{TH,TT\\}=\\Omega$.  Taking the intersection of these sets, we get $\\{HT,HH\\}\\cap \\{TH,TT\\}=\\emptyset$.  In short,\n",
    "\\begin{equation}\n",
    "\\sigma(S_1)=\\{\\emptyset, \\Omega, \\{HT,HH\\}, \\{TH, TT\\}\\}. \\square\n",
    "\\end{equation}"
   ]
  },
  {
   "cell_type": "markdown",
   "metadata": {},
   "source": [
    "### Exercise 2.2.3"
   ]
  },
  {
   "cell_type": "markdown",
   "metadata": {},
   "source": [
    "Show that $\\sigma(X)$ and $\\sigma(S_1)$ are independent under the probability measure $\\tilde{\\mathbb{P}}$."
   ]
  },
  {
   "cell_type": "markdown",
   "metadata": {},
   "source": [
    "### Solution 2.2.3"
   ]
  },
  {
   "cell_type": "markdown",
   "metadata": {},
   "source": [
    "The empty set $\\emptyset$ and the entire space $\\Omega$ are always independent, so we just need to verify the independence property for the non-trivial subsets."
   ]
  },
  {
   "cell_type": "markdown",
   "metadata": {},
   "source": [
    "\\begin{align}\n",
    "&\\tilde{\\mathbb{P}}(\\{HT,TH\\}\\cap\\{HT,HH\\})=\\tilde{\\mathbb{P}}(\\{HT\\})=\\frac{1}{4},\\\\\n",
    "&\\tilde{\\mathbb{P}}(\\{HT,TH\\})\\tilde{\\mathbb{P}}(\\{HT,HH\\})=\\frac{1}{2}\\frac{1}{2}=\\frac{1}{4};\\\\\n",
    "&\\tilde{\\mathbb{P}}(\\{HT,TH\\}\\cap\\{TH,TT\\})=\\tilde{\\mathbb{P}}(\\{TH\\})=\\frac{1}{4},\\\\\n",
    "&\\tilde{\\mathbb{P}}(\\{HT,TH\\})\\tilde{\\mathbb{P}}(\\{TH,TT\\})=\\frac{1}{2}\\frac{1}{2}=\\frac{1}{4};\n",
    "\\end{align}\n",
    "and\n",
    "\\begin{align}\n",
    "&\\tilde{\\mathbb{P}}(\\{HH,TT\\}\\cap\\{HT,HH\\})=\\tilde{\\mathbb{P}}(\\{HH\\})=\\frac{1}{4},\\\\\n",
    "&\\tilde{\\mathbb{P}}(\\{HH,TT\\})\\tilde{\\mathbb{P}}(\\{HT,HH\\})=\\frac{1}{2}\\frac{1}{2}=\\frac{1}{4};\\\\\n",
    "&\\tilde{\\mathbb{P}}(\\{HH,TT\\}\\cap\\{TH,TT\\})=\\tilde{\\mathbb{P}}(\\{TT\\})=\\frac{1}{4},\\\\\n",
    "&\\tilde{\\mathbb{P}}(\\{HH,TT\\})\\tilde{\\mathbb{P}}(\\{TH,TT\\})=\\frac{1}{2}\\frac{1}{2}=\\frac{1}{4}.\\square\n",
    "\\end{align}"
   ]
  },
  {
   "cell_type": "markdown",
   "metadata": {},
   "source": [
    "### Exercise 2.2.4"
   ]
  },
  {
   "cell_type": "markdown",
   "metadata": {},
   "source": [
    "Show that $\\sigma(X)$ and $\\sigma(S_1)$ are not independent under the probability measure $\\mathbb{P}$."
   ]
  },
  {
   "cell_type": "markdown",
   "metadata": {},
   "source": [
    "### Solution 2.2.4"
   ]
  },
  {
   "cell_type": "markdown",
   "metadata": {},
   "source": [
    "\\begin{align}\n",
    "&\\mathbb{P}(\\{HT,TH\\}\\cap\\{HT,HH\\})=\\mathbb{P}(\\{HT\\})=\\frac{2}{9},\\\\\n",
    "&\\mathbb{P}(\\{HT,TH\\})\\mathbb{P}(\\{HT,HH\\})=\\frac{4}{9}\\frac{6}{9}=\\frac{24}{81}\\neq\\frac{2}{9}.\\square\n",
    "\\end{align}"
   ]
  },
  {
   "cell_type": "markdown",
   "metadata": {},
   "source": [
    "### Exercise 2.2.5"
   ]
  },
  {
   "cell_type": "markdown",
   "metadata": {},
   "source": [
    "Under $\\mathbb{P}$, we have $\\mathbb{P}\\{S_1=8\\}=\\frac{2}{3}$ and $\\mathbb{P}\\{S_1=2\\}=\\frac{1}{3}$.  Explain intuitively why, if you are told that $X_1=1$, you would want to revise your estimate of the distribution of $S_1$."
   ]
  },
  {
   "cell_type": "markdown",
   "metadata": {},
   "source": [
    "### Solution 2.2.5"
   ]
  },
  {
   "cell_type": "markdown",
   "metadata": {},
   "source": [
    "Formally,\n",
    "\\begin{equation}\n",
    "\\mathbb{P}(\\{X_1=1\\}\\cap \\{S_1=8\\})=\\mathbb{P}(\\{HT,TH\\}\\cap\\{HT,HH\\})=\\mathbb{P}(\\{HT\\})=\\frac{2}{9},\n",
    "\\end{equation}\n",
    "but\n",
    "\\begin{equation}\n",
    "\\mathbb{P}(\\{X_1=1\\})\\mathbb{P}(\\{S_1=8\\})=\\mathbb{P}(\\{HT,TH\\})\\mathbb{P}(\\{HT,HH\\})=\\frac{4}{9}\\frac{6}{9}=\\frac{24}{81}\\neq\\frac{2}{9}=\\mathbb{P}(\\{X_1=1\\}\\cap \\{S_1=8\\}).\n",
    "\\end{equation}"
   ]
  },
  {
   "cell_type": "markdown",
   "metadata": {},
   "source": [
    "Intuitively, because $X_1$ and $S_1$ are *not* independent under $\\mathbb{P}$, then knowing the value of $X_1$ gives us information about the value of $S_1$. $\\square$"
   ]
  },
  {
   "cell_type": "code",
   "execution_count": null,
   "metadata": {},
   "outputs": [],
   "source": []
  }
 ],
 "metadata": {
  "kernelspec": {
   "display_name": "Python 3",
   "language": "python",
   "name": "python3"
  },
  "language_info": {
   "codemirror_mode": {
    "name": "ipython",
    "version": 3
   },
   "file_extension": ".py",
   "mimetype": "text/x-python",
   "name": "python",
   "nbconvert_exporter": "python",
   "pygments_lexer": "ipython3",
   "version": "3.7.6"
  }
 },
 "nbformat": 4,
 "nbformat_minor": 4
}
