{
 "cells": [
  {
   "cell_type": "markdown",
   "metadata": {},
   "source": [
    "### Exercise 2.10"
   ]
  },
  {
   "cell_type": "markdown",
   "metadata": {},
   "source": [
    "Let $X$ and $Y$ be random variables (on some unspecified probability space $(\\Omega,\\mathcal{F},\\mathbb{P})$, assume they have a joint density $f_{X,Y}(x,y)$, and assume $\\mathbb{E}|Y|<\\infty$.  In particular, for every Borel subset $C$ of $\\mathbb{R}^2$, we have\n",
    "\\begin{equation}\n",
    "\\mathbb{P}\\{(X,Y)\\in C\\}=\\int_{C}f_{X,Y}(x,y)dxdy\n",
    "\\end{equation}"
   ]
  },
  {
   "cell_type": "markdown",
   "metadata": {},
   "source": [
    "In elementary probability, one learns to compute $\\mathbb{E}[Y|X=x]$, which is a nonrandom function of the dummy variable $x$, by the formula\n",
    "\\begin{equation}\n",
    "\\mathbb{E}[Y|X=x]=\\int_{-\\infty}^{\\infty}yf_{Y|X}(y|x)dy,\n",
    "\\end{equation}\n",
    "where $f_{Y|X}(y|x)$ is the conditional density defined by\n",
    "\\begin{equation}\n",
    "f_{Y|X}(y|x)=\\frac{f_{X,Y}(x,y)}{f_{X}(x)}.\n",
    "\\end{equation}\n",
    "The denominator in this expression, $f_{X}(x)=\\int_{-\\infty}^{\\infty}f_{X,Y}(x,\\eta)d\\eta$, is the *marginal density* of $X$, and we must assume it is strictly positive for every $x$.  We introduce the symbol $g(x)$ for the function $\\mathbb{E}[Y|X=x]$ defined by the integral in the previous cell; i.e.\n",
    "\\begin{equation}\n",
    "g(x)=\\int_{-\\infty}^{\\infty}yf_{Y|X}(y|x)dy=\\int_{-\\infty}^{\\infty}\\frac{yf_{X,Y}(x,y)}{f_X(x)}dy.\n",
    "\\end{equation}"
   ]
  },
  {
   "cell_type": "markdown",
   "metadata": {},
   "source": [
    "In measure-theoretic probability, conditional expectation is a *random variable* $\\mathbb{E}[Y|X]$.  This exercise is to show that when there is a joint density for $(X,Y)$, this random variable can be obtained by substituting the random variable in $X$ in place of the dummy variable $x$ in the function $g(x)$.  In other words, this exercise is to show that\n",
    "\\begin{equation}\n",
    "\\mathbb{E}[Y|X]=g(X).\n",
    "\\end{equation}\n",
    "(We introduced the symbol $g(x)$ in order to avoid the mathematically confusing expression $\\mathbb{E}[Y|X=X]$.)"
   ]
  },
  {
   "cell_type": "markdown",
   "metadata": {},
   "source": [
    "Since $g(X)$ is obviously $\\sigma(X)$-measurable, to verify that $\\mathbb{E}[Y|X]=g(X)$, we need only check that the partial-averaging property is satisfied.  For every Borel-measurable function $h$ mapping $\\mathbb{R}$ to $\\mathbb{R}$ and satisfying $\\mathbb{E}|h(X)|<\\infty$, we have\n",
    "\\begin{equation}\n",
    "\\mathbb{E}h(X)=\\int_{-\\infty}^{\\infty}h(x)f_X(x)dx.\n",
    "\\end{equation}\n",
    "This is Theorem 1.5.2 in Chapter 1.  Similarly, if $h$ is a function of both $x$ and $y$, then\n",
    "\\begin{equation}\n",
    "\\mathbb{E}h(X,Y)=\\int_{-\\infty}^{\\infty}\\int_{-\\infty}^{\\infty}h(x,y)f_{X,Y}(x,y)dxdy\n",
    "\\end{equation}\n",
    "whenever $(X,Y)$ has a joint density $f_{X,Y}(x,y)$.  You may use all the equations above to solve this problem."
   ]
  },
  {
   "cell_type": "markdown",
   "metadata": {},
   "source": [
    "Let $A$ be a set in $\\sigma(X)$.  By the definition of $\\sigma(X)$, there is a Borel subset of $B$ of $\\mathbb{R}$ such that $A=\\{\\omega\\in\\Omega; X(\\omega)\\in B\\}$ or, more simply, $A=\\{X\\in B\\}$.  Show the partial-averaging property\n",
    "\\begin{equation}\n",
    "\\int_{A}g(X)d\\mathbb{P}=\\int_{A}Yd\\mathbb{P}.\n",
    "\\end{equation}"
   ]
  },
  {
   "cell_type": "markdown",
   "metadata": {},
   "source": [
    "### Solution 2.10"
   ]
  },
  {
   "cell_type": "markdown",
   "metadata": {},
   "source": [
    "By definition of $g$, we have\n",
    "\\begin{equation}\n",
    "\\int_{A}g(X(\\omega))d\\mathbb{P}(\\omega)=\\int_{A}\\left(\\int_{-\\infty}^{\\infty}\\frac{yf_{X,Y}(X(\\omega),y)}{f_X(X(\\omega))}dy\\right)d\\mathbb{P}(\\omega).\n",
    "\\end{equation}"
   ]
  },
  {
   "cell_type": "markdown",
   "metadata": {},
   "source": [
    "By Theorem 1.5.2, this becomes\n",
    "\\begin{equation}\n",
    "\\int_{A}\\left(\\int_{-\\infty}^{\\infty}\\frac{yf_{X,Y}(X(\\omega),y)}{f_X(X(\\omega))}dy\\right)d\\mathbb{P}(\\omega)=\\int_{B}\\left(\\int_{-\\infty}^{\\infty}\\frac{yf_{X,Y}(x,y)}{f_X(x)}dy\\right)f_{X}(x)dx.\n",
    "\\end{equation}"
   ]
  },
  {
   "cell_type": "markdown",
   "metadata": {},
   "source": [
    "Let us work through this expression further.\n",
    "\\begin{align}\n",
    "\\int_{B}\\left(\\int_{-\\infty}^{\\infty}\\frac{yf_{X,Y}(x,y)}{f_X(x)}dy\\right)f_{X}(x)dx&=\\int_{B}\\left(\\int_{-\\infty}^{\\infty}yf_{X,Y}(x,y)dy\\right)dx\\\\\n",
    "&=\\int_{-\\infty}^{\\infty}\\mathbb{I}_B(x)\\left(\\int_{-\\infty}^{\\infty}yf_{X,Y}(x,y)dy\\right)dx\\\\\n",
    "&=\\int_{-\\infty}^{\\infty}\\int_{-\\infty}^{\\infty}\\underbrace{\\mathbb{I}_B(x)y}_{:=h(x,y)}f_{X,Y}(x,y)dydx\\\\\n",
    "&=\\int_{-\\infty}^{\\infty}\\int_{-\\infty}^{\\infty}h(x,y)f_{X,Y}(x,y)dxdy.\n",
    "\\end{align}"
   ]
  },
  {
   "cell_type": "markdown",
   "metadata": {},
   "source": [
    "At this point we can use the identity that is given to us in the problem statement, namely that\n",
    "\\begin{equation}\n",
    "\\int_{-\\infty}^{\\infty}\\int_{-\\infty}^{\\infty}h(x,y)f_{X,Y}(x,y)dxdy=\\mathbb{E}h(X,Y).\n",
    "\\end{equation}"
   ]
  },
  {
   "cell_type": "markdown",
   "metadata": {},
   "source": [
    "We now just have to work through this expression a bit further.\n",
    "\\begin{equation}\n",
    "\\mathbb{E}h(X,Y)=\\mathbb{E}\\underbrace{\\mathbb{I}_{B}(X(\\omega))}_{=\\mathbb{I}_A(\\omega)}Y(\\omega)=\\mathbb{E}\\mathbb{I}_A(\\omega)Y(\\omega)=\\int_{A}Yd\\mathbb{P}.\n",
    "\\end{equation}\n",
    "This establishes the desired result. $\\square$"
   ]
  }
 ],
 "metadata": {
  "kernelspec": {
   "display_name": "Python 3",
   "language": "python",
   "name": "python3"
  },
  "language_info": {
   "codemirror_mode": {
    "name": "ipython",
    "version": 3
   },
   "file_extension": ".py",
   "mimetype": "text/x-python",
   "name": "python",
   "nbconvert_exporter": "python",
   "pygments_lexer": "ipython3",
   "version": "3.7.6"
  }
 },
 "nbformat": 4,
 "nbformat_minor": 4
}
