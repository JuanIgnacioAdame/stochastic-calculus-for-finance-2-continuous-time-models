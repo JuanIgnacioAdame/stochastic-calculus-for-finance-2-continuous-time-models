{
 "cells": [
  {
   "cell_type": "markdown",
   "id": "5889d2d6",
   "metadata": {},
   "source": [
    "### Exercise 2.11"
   ]
  },
  {
   "cell_type": "markdown",
   "id": "fe523531",
   "metadata": {},
   "source": [
    "### Exercise 2.11.1"
   ]
  },
  {
   "cell_type": "markdown",
   "id": "17c03a8d",
   "metadata": {},
   "source": [
    "Let $X$ be a random variable on a probability space $(\\Omega,\\mathcal{F},\\mathbb{P})$, and let $W$ be a nonnegative $\\sigma(X)$-measurable random variable. Show there exists a function $g$ such that $W=g(X)$ (Hint: Recall that every set in $\\sigma(X)$ is of the form $\\{X\\in B\\}$ for some Borel set $B\\subset R$ Suppose first that $W$ is the indicator of such a set, and then use the standard machine.)"
   ]
  },
  {
   "cell_type": "markdown",
   "id": "f44b7402",
   "metadata": {},
   "source": [
    "### Solution 2.11.1"
   ]
  },
  {
   "cell_type": "markdown",
   "id": "517fef85",
   "metadata": {},
   "source": [
    "We first suppose that $W$ is an indicator function.  Let $A\\in\\sigma(X)$.  By definition, there exists $B\\in\\mathcal{B}(\\mathbb{R})$ such that $A=\\{\\omega\\in\\Omega:X(\\omega)\\in B\\}$.  Suppose that $W(\\omega)=\\mathbb{I}_{A}(\\omega)=\\mathbb{I}_{\\{X\\in B\\}}(X(\\omega))$.  Then if we define $g$ to be the nonrandom function of the dummy variable $s$ as $g(s):=\\mathbb{I}_{\\{X\\in B\\}}(s)$, we see that $g(X(\\omega))=\\mathbb{I}_{\\{X\\in B\\}}(X(\\omega))=W(\\omega)$."
   ]
  },
  {
   "cell_type": "markdown",
   "id": "7209cd95",
   "metadata": {},
   "source": [
    "We now suppose that $W$ is a nonnegative simple function, i.e., there exists\n",
    "\\begin{gather}\n",
    "\\alpha_1,\\dots,\\alpha_n\\in\\mathbb{R}^{+},\\\\\n",
    "A_1,\\dots,A_n\\in\\sigma(X),\n",
    "\\end{gather}\n",
    "such that\n",
    "\\begin{align}\n",
    "W(\\omega)&=\\sum_{i=1}^{n}\\alpha_i\\mathbb{I}_{A_i}(\\omega)\\\\\n",
    "&=\\sum_{i=1}^{n}\\alpha_i\\mathbb{I}_{\\{X\\in B_i\\}}(\\omega).\n",
    "\\end{align}\n",
    "where each $B_i\\in\\mathcal{B}(\\mathbb{R})$ defines $A_i$.  We see that if we define the nonrandom function $g$ of the dummy variable $s$ as\n",
    "\\begin{equation}\n",
    "g(s)=\\sum_{i=1}^{n}\\alpha_i\\mathbb{I}_{\\{X\\in B_i\\}}(s),\n",
    "\\end{equation}\n",
    "then\n",
    "\\begin{equation}\n",
    "g(X(\\omega))=\\sum_{i=1}^{n}\\alpha_i\\mathbb{I}_{\\{X\\in B_i\\}}(X(\\omega))=W(\\omega).\n",
    "\\end{equation}"
   ]
  },
  {
   "cell_type": "markdown",
   "id": "70a1a1bc",
   "metadata": {},
   "source": [
    "Finally, let $W$ be an arbitrary nonnegative $\\sigma(X)$-measurable function.  For each positive integer $n$, define the sets\n",
    "\\begin{equation}\n",
    "A_{k,n}=\\left\\{\\omega; \\frac{k}{2^n}\\leq W(\\omega)\\leq\\frac{k+1}{2^{n+1}}\\right\\}, \\quad k=0,\\dots,4^{n}-1.\n",
    "\\end{equation}"
   ]
  },
  {
   "cell_type": "markdown",
   "id": "6a2daee4",
   "metadata": {},
   "source": [
    "Then the simple functions\n",
    "\\begin{equation}\n",
    "W_n(\\omega)=\\sum_{k=0}^{4^n-1}\\frac{k}{2^n}\\mathbb{I}_{A_{k,n}}(\\omega)\n",
    "\\end{equation}\n",
    "satisfy that\n",
    "\\begin{equation}\n",
    "\\lim_{n\\rightarrow\\infty}W_n(\\omega)=W(\\omega) \\quad \\text{for all }\\omega\\in\\mathbb{\\Omega}.\n",
    "\\end{equation}"
   ]
  },
  {
   "cell_type": "markdown",
   "id": "efe0cc6d",
   "metadata": {},
   "source": [
    "Because $W$ is $\\sigma(X)$-measurable, each $A_{k,n}\\in\\sigma(X)$, which means there exists a $B_{k,n}\\in\\mathcal{B}(\\mathbb{R})$ such that $A_{k,n}=\\{X\\in B_{k,n}\\}$.  Hence, we may write each $W_n$ so that\n",
    "\\begin{equation}\n",
    "W_n(\\omega)=\\sum_{k=0}^{4^n-1}\\frac{k}{2^n}\\mathbb{I}_{\\{X\\in B_{k,n}\\}}(X(\\omega))\n",
    "\\end{equation}\n",
    "and\n",
    "\\begin{equation}\n",
    "\\lim_{n\\rightarrow\\infty}W_n(\\omega)=W(\\omega) \\quad \\text{for all }\\omega\\in\\mathbb{\\Omega}.\n",
    "\\end{equation}"
   ]
  },
  {
   "cell_type": "markdown",
   "id": "3172abaf",
   "metadata": {},
   "source": [
    "Therefore, if we define the nonrandom function $g$ of the dummy variable $s$ as\n",
    "\\begin{equation}\n",
    "g(s)=\\lim_{n\\rightarrow\\infty}\\sum_{k=0}^{4^n-1}\\frac{k}{2^n}\\mathbb{I}_{\\{X\\in B_{k,n}\\}}(s),\n",
    "\\end{equation}\n",
    "we see that\n",
    "\\begin{equation}\n",
    "g(X(\\omega))=\\lim_{n\\rightarrow\\infty}\\sum_{k=0}^{4^n-1}\\frac{k}{2^n}\\mathbb{I}_{\\{X\\in B_{k,n}\\}}(X(\\omega))=W(\\omega).\n",
    "\\end{equation}"
   ]
  },
  {
   "cell_type": "markdown",
   "id": "dd9ec9fc",
   "metadata": {},
   "source": [
    "This finishes the proof. $\\square$"
   ]
  },
  {
   "cell_type": "markdown",
   "id": "c33393ab",
   "metadata": {},
   "source": [
    "### Exercise 2.11.2"
   ]
  },
  {
   "cell_type": "markdown",
   "id": "73d165f0",
   "metadata": {},
   "source": [
    "Let $X$ be a random variable on a probability space $(\\Omega,\\mathcal{F},\\mathbb{P})$, and let $Y$ be a nonnegative random variable on this space. We do not assume that $X$ and $Y$ have a joint density. Nonetheless, show there is a function $g$ such that $\\mathbb{E}[Y|X]=g(X)$."
   ]
  },
  {
   "cell_type": "markdown",
   "id": "62179974",
   "metadata": {},
   "source": [
    "### Solution 2.11.2"
   ]
  },
  {
   "cell_type": "markdown",
   "id": "27e99bb5",
   "metadata": {},
   "source": [
    "By the previous exercise, any nonnegative $\\sigma(X)$-measurable function is of the form $g(X)$.  By definition, $\\mathbb{E}[Y|X]$ is $\\sigma(X)$-measurable.  In addition, because $Y$ is nonnegative, we know that $\\mathbb{E}[Y|X]$ must be nonnegative in order for the partial averaging property to hold.  In short, $\\mathbb{E}[Y|X]$ is a nonnegative $\\sigma(X)$-measurable function, and so from the previous exercise we may conclude that there exists a function $g$ such that $\\mathbb{E}[Y|X]=g(X)$. $\\square$"
   ]
  },
  {
   "cell_type": "code",
   "execution_count": null,
   "id": "8fd15680",
   "metadata": {},
   "outputs": [],
   "source": []
  }
 ],
 "metadata": {
  "kernelspec": {
   "display_name": "Python 3",
   "language": "python",
   "name": "python3"
  },
  "language_info": {
   "codemirror_mode": {
    "name": "ipython",
    "version": 3
   },
   "file_extension": ".py",
   "mimetype": "text/x-python",
   "name": "python",
   "nbconvert_exporter": "python",
   "pygments_lexer": "ipython3",
   "version": "3.7.6"
  }
 },
 "nbformat": 4,
 "nbformat_minor": 5
}
