{
 "cells": [
  {
   "cell_type": "markdown",
   "metadata": {},
   "source": [
    "### Exercise 2.8"
   ]
  },
  {
   "cell_type": "markdown",
   "metadata": {},
   "source": [
    "Let $X$ and $Y$ be integrable random variables on a probability space $(\\Omega,\\mathcal{F},\\mathbb{P})$.  Then $Y=Y_1+Y_2$, where $Y_1=\\mathbb{E}[Y|X]$ is $\\sigma(X)$-measurable and $Y_2=Y-\\mathbb{E}[Y|X]$.  Show that $Y_2$ and $X$ are uncorrelated.  More generally, show that $Y_2$ is uncorrelated with every $\\sigma(X)$-measurable random variable."
   ]
  },
  {
   "cell_type": "markdown",
   "metadata": {},
   "source": [
    "### Solution 2.8"
   ]
  },
  {
   "cell_type": "markdown",
   "metadata": {},
   "source": [
    "We show this with a simple calculation.  Let $Z$ be an arbitrary $\\sigma(X)$-measurable random variable ($Z$ *could* equal $X$, for example, but that need not be the case).  Then\n",
    "\\begin{gather}\n",
    "\\text{Cov}(Y_2Z)=\\mathbb{E}(Y_2Z)-\\mathbb{E}Y_2\\mathbb{E}Z=\\mathbb{E}(Y-\\mathbb{E}[Y|X])Z-\\underbrace{\\mathbb{E}(Y-\\mathbb{E}[Y|X])}_{=0}\\mathbb{E}Z\\\\\n",
    "=\\mathbb{E}(YZ-\\underbrace{\\mathbb{E}[Y|X]Z}_{\\mathbb{E}[YZ|X]})=\\mathbb{E}(YZ)-\\underbrace{\\mathbb{E}(\\mathbb{E}[YZ|X])}_{\\mathbb{E}(YZ)}=0. \\square\n",
    "\\end{gather}"
   ]
  }
 ],
 "metadata": {
  "kernelspec": {
   "display_name": "Python 3",
   "language": "python",
   "name": "python3"
  },
  "language_info": {
   "codemirror_mode": {
    "name": "ipython",
    "version": 3
   },
   "file_extension": ".py",
   "mimetype": "text/x-python",
   "name": "python",
   "nbconvert_exporter": "python",
   "pygments_lexer": "ipython3",
   "version": "3.7.6"
  }
 },
 "nbformat": 4,
 "nbformat_minor": 4
}
