{
 "cells": [
  {
   "cell_type": "markdown",
   "metadata": {},
   "source": [
    "### Exercise 2.7"
   ]
  },
  {
   "cell_type": "markdown",
   "metadata": {},
   "source": [
    "Let $Y$ be an integrable random variable on a probability space $(\\Omega,\\mathcal{F},\\mathbb{P})$ and let $\\mathcal{G}$ be a sub-$\\sigma$-algebra of $\\mathcal{F}$.  Based on the information in $\\mathcal{G}$, we can form the estimate $\\mathbb{E}[Y|\\mathcal{G}]$ of $Y$ and define the error of the estimation $\\text{Err}=Y-\\mathbb{E}[Y|\\mathcal{G}]$.  This is a random variable with expectation zero and some variance $\\text{Var(Err)}$.  Let $X$ be some other $\\mathcal{G}$-measurable random variable, which we can regard as another estimate of $Y$.  Show that\n",
    "\\begin{equation}\n",
    "\\text{Var(Err)}\\leq\\text{Var}(Y-X).\n",
    "\\end{equation}\n",
    "In other words, the estimate $\\mathbb{E}[Y|\\mathcal{G}]$ minimizes the variance of the error among all estimates based on the information in $\\mathcal{G}$. (Hint: Let $\\mu=\\mathbb{E}(Y-X)$.  Compute the variance of $Y-X$ as\n",
    "\\begin{equation}\n",
    "\\mathbb{E}[(Y-X-\\mu)^2]=\\mathbb{E}[((Y-\\mathbb{E}[Y|\\mathcal{G}])+(\\mathbb{E}[Y|\\mathcal{G}]-X-\\mu))^2].\n",
    "\\end{equation}\n",
    "Multiply out the right-hand side and use iterated conditioning to show the cross-term is zero.)"
   ]
  },
  {
   "cell_type": "markdown",
   "metadata": {},
   "source": [
    "### Solution 2.7"
   ]
  },
  {
   "cell_type": "markdown",
   "metadata": {},
   "source": [
    "First, recall that $\\text{Var}(Y-X)=\\text{Var}(Y-X-\\mu)$ for any constant $\\mu$.  Hence,\n",
    "\\begin{align}\n",
    "\\text{Var}(Y-X)=\\text{Var}(Y-X-\\mu)&=\\mathbb{E}[(Y-X-\\mu)^2]-(\\mathbb{E}[Y-X-\\mu])^2\\\\\n",
    "&=\\mathbb{E}[(Y-X-\\mu)^2]-(\\mathbb{E}[Y-X]-\\mu)^2.\n",
    "\\end{align}\n",
    "If we let $\\mu=\\mathbb{E}[Y-X]$, then the second term vanishes, and we obtain\n",
    "\\begin{equation}\n",
    "\\text{Var}(Y-X)=\\mathbb{E}[(Y-X-\\mu)^2].\n",
    "\\end{equation}\n",
    "If we now add $0$ in the form of $-\\mathbb{E}[Y|\\mathcal{G}]+\\mathbb{E}[Y|\\mathcal{G}]$, this becomes\n",
    "\\begin{gather}\n",
    "\\mathbb{E}[((Y-\\mathbb{E}[Y|\\mathcal{G}])+(\\mathbb{E}[Y|\\mathcal{G}]-X-\\mu))^2]\\\\\n",
    "=\\underbrace{\\mathbb{E}[(Y-\\mathbb{E}[Y|\\mathcal{G}])^2]}_{:=(1)}+2\\underbrace{\\mathbb{E}[(Y-\\mathbb{E}[Y|\\mathcal{G}])(\\mathbb{E}[Y|\\mathcal{G}]-X-\\mu)]}_{:=(2)}+\\underbrace{\\mathbb{E}[(\\mathbb{E}[Y|\\mathcal{G}]-X-\\mu)^2]}_{:=(3)}.\n",
    "\\end{gather}"
   ]
  },
  {
   "cell_type": "markdown",
   "metadata": {},
   "source": [
    "First we observe that the Term $(1)=\\text{Var(Err)}$.  Indeed,\n",
    "\\begin{equation}\n",
    "\\text{Var(Err)}=\\mathbb{E}[(Y-\\mathbb{E}[Y|\\mathcal{G}])^2]-(\\underbrace{\\mathbb{E}[Y-\\mathbb{E}[Y|\\mathcal{G}]]}_{=0})^2=\\mathbb{E}[(Y-\\mathbb{E}[Y|\\mathcal{G}])^2] \\quad \\checkmark\n",
    "\\end{equation}"
   ]
  },
  {
   "cell_type": "markdown",
   "metadata": {},
   "source": [
    "Next, we observe that Term $(3)\\geq0$.  This follows from the fact that the random variable inside the $\\mathbb{E}[.]$ is nonnegative, i.e.\n",
    "\\begin{equation}\n",
    "\\mathbb{E}[\\underbrace{(\\mathbb{E}[Y|\\mathcal{G}]-X-\\mu)^2}_{\\geq 0}]\\geq 0 \\quad \\checkmark\n",
    "\\end{equation}"
   ]
  },
  {
   "cell_type": "markdown",
   "metadata": {},
   "source": [
    "In summary, we have\n",
    "\\begin{align}\n",
    "\\text{Var}(Y-X)&=\\text{Var(Err)}+2\\mathbb{E}[(\\mathbb{E}[Y|\\mathcal{G}]-X-\\mu)^2]+2\\mathbb{E}[(Y-\\mathbb{E}[Y|\\mathcal{G}])(\\mathbb{E}[Y|\\mathcal{G}]-X-\\mu)]\\\\\n",
    "&\\geq \\text{Var(Err)}+2\\mathbb{E}[(Y-\\mathbb{E}[Y|\\mathcal{G}])(\\mathbb{E}[Y|\\mathcal{G}]-X-\\mu)].\n",
    "\\end{align}\n",
    "Our goal now is to show that Term $(2)=0$, and this will finish the proof."
   ]
  },
  {
   "cell_type": "markdown",
   "metadata": {},
   "source": [
    "\\begin{align}\n",
    "\\mathbb{E}[(Y-\\mathbb{E}[Y|\\mathcal{G}])(\\mathbb{E}[Y|\\mathcal{G}]-X-\\mu)]&=\\mathbb{E}[Y\\mathbb{E}[Y|\\mathcal{G}]-YX-Y\\mu-\\mathbb{E}[Y|\\mathcal{G}]\\mathbb{E}[Y|\\mathcal{G}]+\\mathbb{E}[Y|\\mathcal{G}]X+\\mathbb{E}[Y|\\mathcal{G}]\\mu]\\\\\n",
    "&=\\mathbb{E}(Y\\mathbb{E}[Y|\\mathcal{G}])-\\underbrace{\\mathbb{E}(\\mathbb{E}[Y|\\mathcal{G}]\\mathbb{E}[Y|\\mathcal{G}])}_{=\\mathbb{E}(\\mathbb{E}[Y\\mathbb{E}[Y|\\mathcal{G}]|\\mathcal{G}])=\\mathbb{E}(Y\\mathbb{E}[Y|\\mathcal{G}])}-\\mathbb{E}(YX)+\\underbrace{\\mathbb{E}(\\mathbb{E}[Y|\\mathcal{G}]X)}_{=\\mathbb{E}(\\mathbb{E}[YX|\\mathcal{G}])=\\mathbb{E}(YX)}-\\mu\\mathbb{E}Y+\\mu\\underbrace{\\mathbb{E}(\\mathbb{E}[Y|\\mathcal{G}])}_{=\\mathbb{E}Y}=0 \\quad \\checkmark\n",
    "\\end{align}"
   ]
  },
  {
   "cell_type": "markdown",
   "metadata": {},
   "source": [
    "We now justify the equalities in the underbraces, in order from left to right."
   ]
  },
  {
   "cell_type": "markdown",
   "metadata": {},
   "source": [
    "By definition, $\\mathbb{E}[Y|\\mathcal{G}]$ is $\\mathcal{G}$-measurable, and hence from Theorem 2.3.2 (ii) (\"taking out what is known\"), we have $\\mathbb{E}[Y|\\mathcal{G}]\\mathbb{E}[Y|\\mathcal{G}]=\\mathbb{E}[Y\\mathbb{E}[Y|\\mathcal{G}]|\\mathcal{G}]$.  Then, from Equation 2.3.25 in the textbook (the partial averaging property with $A=\\Omega$), we have $\\mathbb{E}(\\mathbb{E}[Y\\mathbb{E}[Y|\\mathcal{G}]|\\mathcal{G}])=\\mathbb{E}(Y\\mathbb{E}[Y|\\mathcal{G}])$."
   ]
  },
  {
   "cell_type": "markdown",
   "metadata": {},
   "source": [
    "By assumption, $X$ is $\\mathcal{G}$-measurable, and hence from Theorem 2.3.2 (ii) (\"taking out what is known\"), we have $\\mathbb{E}[Y|\\mathcal{G}]X=\\mathbb{E}[YX|\\mathcal{G}]$.  Then, from Equation 2.3.25 in the textbook (the partial averaging property with $A=\\Omega$), we have $\\mathbb{E}(\\mathbb{E}[YX|\\mathcal{G}])=\\mathbb{E}(YX)$."
   ]
  },
  {
   "cell_type": "markdown",
   "metadata": {},
   "source": [
    "Finally, the last underbrace is justified purely with Equation 2.3.25 in the textbook (the partial averaging property with $A=\\Omega$), which immediately gives us that $\\mathbb{E}(\\mathbb{E}[Y|\\mathcal{G}])=Y$."
   ]
  },
  {
   "cell_type": "markdown",
   "metadata": {},
   "source": [
    "In summary, we have finished establishing the desired result:\n",
    "\\begin{equation}\n",
    "\\text{Var}(Y-X)\\geq\\text{Var(Err)}. \\square\n",
    "\\end{equation}"
   ]
  },
  {
   "cell_type": "code",
   "execution_count": null,
   "metadata": {},
   "outputs": [],
   "source": []
  }
 ],
 "metadata": {
  "kernelspec": {
   "display_name": "Python 3",
   "language": "python",
   "name": "python3"
  },
  "language_info": {
   "codemirror_mode": {
    "name": "ipython",
    "version": 3
   },
   "file_extension": ".py",
   "mimetype": "text/x-python",
   "name": "python",
   "nbconvert_exporter": "python",
   "pygments_lexer": "ipython3",
   "version": "3.7.6"
  }
 },
 "nbformat": 4,
 "nbformat_minor": 4
}
