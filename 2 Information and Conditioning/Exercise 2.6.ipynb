{
 "cells": [
  {
   "cell_type": "markdown",
   "metadata": {},
   "source": [
    "### Exercise 2.6"
   ]
  },
  {
   "cell_type": "markdown",
   "metadata": {},
   "source": [
    "Consider a probability space $\\Omega$ with four elements, which we call $a, b, c,$ and $d$ (i.e., $\\Omega=\\{a,b,c,d\\})$.  The $\\sigma$-algebra $\\mathcal{F}$ is the collection of all all subsets of $\\Omega$; i.e., the sets in $\\mathcal{F}$ are\n",
    "\\begin{align}\n",
    "&\\Omega, \\{a,b,c\\}, \\{a,b,d\\}, \\{a,c,d\\}, \\{b,c,d\\},\\\\\n",
    "&\\{a,b\\}, \\{a,c\\}, \\{a,d\\}, \\{b,c\\}, \\{b,d\\}, \\{c,d\\},\\\\\n",
    "&\\{a\\}, \\{b\\}, \\{c\\|, \\{d\\}, \\emptyset.\n",
    "\\end{align}\n",
    "We define a probability measure $\\mathbb{P}$ by specifying that\n",
    "\\begin{equation}\n",
    "\\mathbb{P}\\{a\\}=\\frac{1}{6}, \\mathbb{P}\\{b\\}=\\frac{1}{3}, \\mathbb{P}\\{c\\}=\\frac{1}{4}, \\mathbb{P}\\{d\\}=\\frac{1}{4},\n",
    "\\end{equation}\n",
    "and, as usual, the probability of every other set in $\\mathcal{F}$ is the sum of the probabilities of the elements in the set, e.g., $\\mathbb{P}\\{a,b,c\\}=\\mathbb{P}\\{a\\}+\\mathbb{P}\\{b\\}+\\mathbb{P}\\{c\\}=\\frac{3}{4}$."
   ]
  },
  {
   "cell_type": "markdown",
   "metadata": {},
   "source": [
    "We next define two random variables, $X$ and $Y$, by the fomulas\n",
    "\\begin{align}\n",
    "X(a)=1, X(b)=1, X(c)=-1, X(d)=-1,\\\\\n",
    "Y(a)=1, Y(b)=-1, Y(c)=1, Y(d)=-1.\n",
    "\\end{align}\n",
    "We then define $Z=X+Y$."
   ]
  },
  {
   "cell_type": "markdown",
   "metadata": {},
   "source": [
    "### Exercise 2.6.1"
   ]
  },
  {
   "cell_type": "markdown",
   "metadata": {},
   "source": [
    "List the sets in $\\sigma(X)$."
   ]
  },
  {
   "cell_type": "markdown",
   "metadata": {},
   "source": [
    "### Solution 2.6.1"
   ]
  },
  {
   "cell_type": "markdown",
   "metadata": {},
   "source": [
    "$\\{X\\in\\{1\\}\\}=\\{a,b\\}$, and $\\{X\\in\\{-1\\}\\}=\\{c,d\\}$.  If we take the union of these sets, we get $\\Omega$.  If we take their intersection, we get $\\emptyset$.  In short,\n",
    "\\begin{equation}\n",
    "\\sigma(X)=\\{\\Omega, \\{a,b\\}, \\{c,d\\}, \\emptyset\\}. \\square \n",
    "\\end{equation}"
   ]
  },
  {
   "cell_type": "markdown",
   "metadata": {},
   "source": [
    "### Exercise 2.6.2"
   ]
  },
  {
   "cell_type": "markdown",
   "metadata": {},
   "source": [
    "Determine $\\mathbb{E}[Y|X]$ (i.e., specify the values of this random variable for $a,b,c,$ and $d$).  Verify that the partial-averaging property is satisfied."
   ]
  },
  {
   "cell_type": "markdown",
   "metadata": {},
   "source": [
    "### Solution 2.6.2"
   ]
  },
  {
   "cell_type": "markdown",
   "metadata": {},
   "source": [
    "Because $\\mathbb{E}[Y|X]$ has to be $\\sigma(X)$ measurable, then for the set $\\{a,b\\}\\in\\sigma(X)$ we must have $\\mathbb{E}[Y|X](a)=\\mathbb{E}[Y|X](b)$ (in other words, knowing that the outcome of the experiment is in $\\{a,b\\}$ has to be enough to determine $\\mathbb{E}[Y|X](a)$).  Similarly, for the set $\\{c,d\\}\\in\\sigma(X)$ we must have $\\mathbb{E}[Y|X](c)=\\mathbb{E}[Y|X](d)$."
   ]
  },
  {
   "cell_type": "markdown",
   "metadata": {},
   "source": [
    "Because the partial-averaging property must be satisfied, we must have $\\int_{\\{a,b\\}}\\mathbb{E}[Y|X]d\\mathbb{P}(\\omega)=\\int_{\\{a,b\\}}Yd\\mathbb{P}(\\omega)$.  In other words, we must have\n",
    "\\begin{align}\n",
    "\\mathbb{P}\\{a\\}\\underbrace{\\mathbb{E}[Y|X](a)}_{=\\mathbb{E}[Y|X](b)}+\\mathbb{P}\\{b\\}\\mathbb{E}[Y|X](b)&=\\mathbb{P}\\{a\\}Y(a)+\\mathbb{P}\\{b\\}Y(b)\\Rightarrow\\\\\n",
    "\\mathbb{E}[Y|X](b)(\\underbrace{\\mathbb{P}\\{a\\}}_{=\\frac{1}{6}}+\\underbrace{\\mathbb{P}\\{b\\}}_{=\\frac{1}{3}})&=\\frac{1}{3}1+\\frac{1}{6}(-1)\\Rightarrow\\\\\n",
    "\\frac{1}{2}\\mathbb{E}[Y|X](b)&=-\\frac{1}{6}\\Rightarrow\\\\\n",
    "\\mathbb{E}[Y|X](a)=\\mathbb{E}[Y|X](b)=-\\frac{1}{3}.\n",
    "\\end{align}"
   ]
  },
  {
   "cell_type": "markdown",
   "metadata": {},
   "source": [
    "Similarly, we must have\n",
    "\\begin{align}\n",
    "\\mathbb{P}\\{c\\}\\underbrace{\\mathbb{E}[Y|X](c)}_{=\\mathbb{E}[Y|X](d)}+\\mathbb{P}\\{d\\}\\mathbb{E}[Y|X](d)&=\\mathbb{P}\\{c\\}Y(c)+\\mathbb{P}\\{d\\}Y(d)\\Rightarrow\\\\\n",
    "\\mathbb{E}[Y|X](d)(\\underbrace{\\mathbb{P}\\{c\\}}_{=\\frac{1}{4}}+\\underbrace{\\mathbb{P}\\{d\\}}_{=\\frac{1}{4}})&=\\frac{1}{4}1+\\frac{1}{4}(-1)\\Rightarrow\\\\\n",
    "\\frac{1}{2}\\mathbb{E}[Y|X](d)&=0\\Rightarrow\\\\\n",
    "\\mathbb{E}[Y|X](c)=\\mathbb{E}[Y|X](d)=0. \\square\n",
    "\\end{align}"
   ]
  },
  {
   "cell_type": "markdown",
   "metadata": {},
   "source": [
    "### Exercise 2.6.3"
   ]
  },
  {
   "cell_type": "markdown",
   "metadata": {},
   "source": [
    "Determine $\\mathbb{E}[Z|X]$.  Again, verify the partial-averaging property."
   ]
  },
  {
   "cell_type": "markdown",
   "metadata": {},
   "source": [
    "### Solution 2.6.3"
   ]
  },
  {
   "cell_type": "markdown",
   "metadata": {},
   "source": [
    "Given the result from the previous exercise, the random variable $\\mathbb{E}[Z|X]$ is in fact already defined.  More specifically,\n",
    "\\begin{equation}\n",
    "\\mathbb{E}[\\underbrace{Z}_{=Y+X}|X]=\\mathbb{E}[Y|X]+\\mathbb{E}[X|X]=\\mathbb{E}[Y|X]+X,\n",
    "\\end{equation}\n",
    "where the first equality is justified by linearity of condition expectations (Theorem 2.3.2 (i)), and the second equality is justified by \"taking out what is known\" (Theorem 2.3.2 (ii)).  If we now plug in the values we obtained for $\\mathbb{E}[Y|X]$ above, we get\n",
    "\\begin{align}\n",
    "&\\mathbb{E}[Z|X](a)=\\mathbb{E}[Y|X](a)+X(a)=-\\frac{1}{3}+1=\\frac{2}{3},\\\\\n",
    "&\\mathbb{E}[Z|X](b)=\\mathbb{E}[Y|X](b)+X(b)=-\\frac{1}{3}+1=\\frac{2}{3},\\\\\n",
    "&\\mathbb{E}[Z|X](c)=\\mathbb{E}[Y|X](c)+X(c)=0-1=-1,\\\\\n",
    "&\\mathbb{E}[Z|X](d)=\\mathbb{E}[Y|X](d)+X(d)=0-1=-1.\n",
    "\\end{align}"
   ]
  },
  {
   "cell_type": "markdown",
   "metadata": {},
   "source": [
    "Now we verify that the partial averaging property is satisfied.\n",
    "\\begin{align}\n",
    "\\mathbb{P}\\{a\\}\\mathbb{E}[Z|X](a)+\\mathbb{P}\\{b\\}\\mathbb{E}[Z|X](b)&=\\mathbb{P}\\{a\\}Z(a)+\\mathbb{P}\\{b\\}Z(b)\\Rightarrow\\\\\n",
    "\\frac{1}{6}\\frac{2}{3}+\\frac{1}{3}\\frac{2}{3}&=\\frac{1}{6}(2)+\\frac{1}{3}(0)\\Rightarrow\\\\\n",
    "\\frac{1}{3}&=\\frac{1}{3}.\n",
    "\\end{align}\n",
    "Similarly,\n",
    "\\begin{align}\n",
    "\\mathbb{P}\\{c\\}\\mathbb{E}[Z|X](c)+\\mathbb{P}\\{d\\}\\mathbb{E}[Z|X](d)&=\\mathbb{P}\\{c\\}Z(c)+\\mathbb{P}\\{d\\}Z(d)\\Rightarrow\\\\\n",
    "\\frac{1}{4}(-1)+\\frac{1}{4}(-1)&=\\frac{1}{4}(0)+\\frac{1}{4}(-2)\\Rightarrow\\\\\n",
    "-\\frac{1}{2}&=-\\frac{1}{2}.\\square\n",
    "\\end{align}"
   ]
  },
  {
   "cell_type": "markdown",
   "metadata": {},
   "source": [
    "### Exercise 2.6.4"
   ]
  },
  {
   "cell_type": "markdown",
   "metadata": {},
   "source": [
    "Compute $\\mathbb{E}[Z|X]-\\mathbb{E}[Y|X]$.  Citing the appropriate properties of conditional expectation from Theorem 2.3.2, explain why you get $X$."
   ]
  },
  {
   "cell_type": "markdown",
   "metadata": {},
   "source": [
    "### Solution 2.6.4"
   ]
  },
  {
   "cell_type": "markdown",
   "metadata": {},
   "source": [
    "By definition of $Z$, we have $\\mathbb{E}[Z|X]=\\mathbb{E}[Y+X|X]$.  By linearity of conditional expectation (Theorem 2.3.2 (i)), $\\mathbb{E}[Y+X|X]=\\mathbb{E}[Y|X]+\\mathbb{E}[X|X]$.  By \"taking out what is known\" (Theorem 2.3.2 (ii)), $\\mathbb{E}[X|X]=X$.  In short, we have $\\mathbb{E}[Z|X]=\\mathbb{E}[Y|Z]+X$.  Putting this all together, we get\n",
    "\\begin{equation}\n",
    "\\mathbb{E}[Z|X]-\\mathbb{E}[Y|X]=\\mathbb{E}[Y|Z]+X-\\mathbb{E}[Y|X]=X. \\square\n",
    "\\end{equation}"
   ]
  },
  {
   "cell_type": "code",
   "execution_count": null,
   "metadata": {},
   "outputs": [],
   "source": []
  }
 ],
 "metadata": {
  "kernelspec": {
   "display_name": "Python 3",
   "language": "python",
   "name": "python3"
  },
  "language_info": {
   "codemirror_mode": {
    "name": "ipython",
    "version": 3
   },
   "file_extension": ".py",
   "mimetype": "text/x-python",
   "name": "python",
   "nbconvert_exporter": "python",
   "pygments_lexer": "ipython3",
   "version": "3.7.6"
  }
 },
 "nbformat": 4,
 "nbformat_minor": 4
}
